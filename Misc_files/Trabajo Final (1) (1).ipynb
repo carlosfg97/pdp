{
 "cells": [
  {
   "cell_type": "markdown",
   "metadata": {},
   "source": [
    "# TRABAJO FINAL MINERIA DE DATOS"
   ]
  },
  {
   "cell_type": "markdown",
   "metadata": {},
   "source": [
    "# EXPLORACIÓN Y PRE-TRATAMIENTO DE DATOS"
   ]
  },
  {
   "cell_type": "markdown",
   "metadata": {},
   "source": [
    "## Importación de datos"
   ]
  },
  {
   "cell_type": "code",
   "execution_count": 1,
   "metadata": {},
   "outputs": [],
   "source": [
    "import pandas as pd\n",
    "pd.set_option('display.max_columns', 500)\n",
    "tsunamis = pd.read_csv('tsunamis.tsv', sep = '\\t')"
   ]
  },
  {
   "cell_type": "code",
   "execution_count": 2,
   "metadata": {},
   "outputs": [
    {
     "data": {
      "text/html": [
       "<div>\n",
       "<table border=\"1\" class=\"dataframe\">\n",
       "  <thead>\n",
       "    <tr style=\"text-align: right;\">\n",
       "      <th></th>\n",
       "      <th>ID</th>\n",
       "      <th>YEAR</th>\n",
       "      <th>MONTH</th>\n",
       "      <th>DAY</th>\n",
       "      <th>HOUR</th>\n",
       "      <th>MINUTE</th>\n",
       "      <th>SECOND</th>\n",
       "      <th>EVENT_VALIDITY</th>\n",
       "      <th>CAUSE_CODE</th>\n",
       "      <th>FOCAL_DEPTH</th>\n",
       "      <th>PRIMARY_MAGNITUDE</th>\n",
       "      <th>COUNTRY</th>\n",
       "      <th>STATE</th>\n",
       "      <th>LOCATION_NAME</th>\n",
       "      <th>LATITUDE</th>\n",
       "      <th>LONGITUDE</th>\n",
       "      <th>REGION_CODE</th>\n",
       "      <th>MAXIMUM_WATER_HEIGHT</th>\n",
       "      <th>ABE</th>\n",
       "      <th>IIDA</th>\n",
       "      <th>SOLOVIEV</th>\n",
       "      <th>WARNING_STATUS</th>\n",
       "      <th>DEATHS</th>\n",
       "      <th>DEATHS_DESCRIPTION</th>\n",
       "      <th>MISSING</th>\n",
       "      <th>MISSING_DESCRIPTION</th>\n",
       "      <th>INJURIES</th>\n",
       "      <th>INJURIES_DESCRIPTION</th>\n",
       "      <th>DAMAGE_MILLIONS_DOLLARS</th>\n",
       "      <th>DAMAGE_DESCRIPTION</th>\n",
       "      <th>HOUSES_DESTROYED</th>\n",
       "      <th>HOUSES_DESTROYED_DESCRIPTION</th>\n",
       "      <th>HOUSES_DAMAGED</th>\n",
       "      <th>HOUSES_DAMAGED_DESCRIPTION</th>\n",
       "      <th>TOTAL_DEATHS</th>\n",
       "      <th>TOTAL_DEATHS_DESCRIPTION</th>\n",
       "      <th>TOTAL_MISSING</th>\n",
       "      <th>TOTAL_MISSING_DESCRIPTION</th>\n",
       "      <th>TOTAL_INJURIES</th>\n",
       "      <th>TOTAL_INJURIES_DESCRIPTION</th>\n",
       "      <th>TOTAL_DAMAGE_MILLIONS_DOLLARS</th>\n",
       "      <th>TOTAL_DAMAGE_DESCRIPTION</th>\n",
       "      <th>TOTAL_HOUSES_DESTROYED</th>\n",
       "      <th>TOTAL_HOUSES_DESTROYED_DESCRIPTION</th>\n",
       "      <th>TOTAL_HOUSES_DAMAGED</th>\n",
       "      <th>TOTAL_HOUSES_DAMAGED_DESCRIPTION</th>\n",
       "    </tr>\n",
       "  </thead>\n",
       "  <tbody>\n",
       "    <tr>\n",
       "      <th>0</th>\n",
       "      <td>1</td>\n",
       "      <td>-2000</td>\n",
       "      <td>NaN</td>\n",
       "      <td>NaN</td>\n",
       "      <td>NaN</td>\n",
       "      <td>NaN</td>\n",
       "      <td>NaN</td>\n",
       "      <td>1.0</td>\n",
       "      <td>1.0</td>\n",
       "      <td>NaN</td>\n",
       "      <td>NaN</td>\n",
       "      <td>SYRIA</td>\n",
       "      <td>NaN</td>\n",
       "      <td>SYRIAN COASTS</td>\n",
       "      <td>35.683</td>\n",
       "      <td>35.80</td>\n",
       "      <td>50.0</td>\n",
       "      <td>NaN</td>\n",
       "      <td>NaN</td>\n",
       "      <td>NaN</td>\n",
       "      <td>6.0</td>\n",
       "      <td>NaN</td>\n",
       "      <td>NaN</td>\n",
       "      <td>3.0</td>\n",
       "      <td>NaN</td>\n",
       "      <td>NaN</td>\n",
       "      <td>NaN</td>\n",
       "      <td>NaN</td>\n",
       "      <td>NaN</td>\n",
       "      <td>4.0</td>\n",
       "      <td>NaN</td>\n",
       "      <td>NaN</td>\n",
       "      <td>NaN</td>\n",
       "      <td>NaN</td>\n",
       "      <td>NaN</td>\n",
       "      <td>3.0</td>\n",
       "      <td>NaN</td>\n",
       "      <td>NaN</td>\n",
       "      <td>NaN</td>\n",
       "      <td>NaN</td>\n",
       "      <td>NaN</td>\n",
       "      <td>4.0</td>\n",
       "      <td>NaN</td>\n",
       "      <td>NaN</td>\n",
       "      <td>NaN</td>\n",
       "      <td>NaN</td>\n",
       "    </tr>\n",
       "    <tr>\n",
       "      <th>1</th>\n",
       "      <td>3</td>\n",
       "      <td>-1610</td>\n",
       "      <td>NaN</td>\n",
       "      <td>NaN</td>\n",
       "      <td>NaN</td>\n",
       "      <td>NaN</td>\n",
       "      <td>NaN</td>\n",
       "      <td>4.0</td>\n",
       "      <td>6.0</td>\n",
       "      <td>NaN</td>\n",
       "      <td>NaN</td>\n",
       "      <td>GREECE</td>\n",
       "      <td>NaN</td>\n",
       "      <td>THERA ISLAND (SANTORINI)</td>\n",
       "      <td>36.400</td>\n",
       "      <td>25.40</td>\n",
       "      <td>50.0</td>\n",
       "      <td>90.0</td>\n",
       "      <td>NaN</td>\n",
       "      <td>NaN</td>\n",
       "      <td>6.0</td>\n",
       "      <td>NaN</td>\n",
       "      <td>NaN</td>\n",
       "      <td>3.0</td>\n",
       "      <td>NaN</td>\n",
       "      <td>NaN</td>\n",
       "      <td>NaN</td>\n",
       "      <td>NaN</td>\n",
       "      <td>NaN</td>\n",
       "      <td>3.0</td>\n",
       "      <td>NaN</td>\n",
       "      <td>NaN</td>\n",
       "      <td>NaN</td>\n",
       "      <td>NaN</td>\n",
       "      <td>NaN</td>\n",
       "      <td>3.0</td>\n",
       "      <td>NaN</td>\n",
       "      <td>NaN</td>\n",
       "      <td>NaN</td>\n",
       "      <td>NaN</td>\n",
       "      <td>NaN</td>\n",
       "      <td>3.0</td>\n",
       "      <td>NaN</td>\n",
       "      <td>NaN</td>\n",
       "      <td>NaN</td>\n",
       "      <td>NaN</td>\n",
       "    </tr>\n",
       "    <tr>\n",
       "      <th>2</th>\n",
       "      <td>4</td>\n",
       "      <td>-1365</td>\n",
       "      <td>NaN</td>\n",
       "      <td>NaN</td>\n",
       "      <td>NaN</td>\n",
       "      <td>NaN</td>\n",
       "      <td>NaN</td>\n",
       "      <td>1.0</td>\n",
       "      <td>1.0</td>\n",
       "      <td>NaN</td>\n",
       "      <td>NaN</td>\n",
       "      <td>SYRIA</td>\n",
       "      <td>NaN</td>\n",
       "      <td>SYRIAN COASTS</td>\n",
       "      <td>35.683</td>\n",
       "      <td>35.80</td>\n",
       "      <td>50.0</td>\n",
       "      <td>NaN</td>\n",
       "      <td>NaN</td>\n",
       "      <td>NaN</td>\n",
       "      <td>6.0</td>\n",
       "      <td>NaN</td>\n",
       "      <td>NaN</td>\n",
       "      <td>NaN</td>\n",
       "      <td>NaN</td>\n",
       "      <td>NaN</td>\n",
       "      <td>NaN</td>\n",
       "      <td>NaN</td>\n",
       "      <td>NaN</td>\n",
       "      <td>NaN</td>\n",
       "      <td>NaN</td>\n",
       "      <td>NaN</td>\n",
       "      <td>NaN</td>\n",
       "      <td>NaN</td>\n",
       "      <td>NaN</td>\n",
       "      <td>NaN</td>\n",
       "      <td>NaN</td>\n",
       "      <td>NaN</td>\n",
       "      <td>NaN</td>\n",
       "      <td>NaN</td>\n",
       "      <td>NaN</td>\n",
       "      <td>3.0</td>\n",
       "      <td>NaN</td>\n",
       "      <td>NaN</td>\n",
       "      <td>NaN</td>\n",
       "      <td>NaN</td>\n",
       "    </tr>\n",
       "    <tr>\n",
       "      <th>3</th>\n",
       "      <td>5</td>\n",
       "      <td>-1300</td>\n",
       "      <td>NaN</td>\n",
       "      <td>NaN</td>\n",
       "      <td>NaN</td>\n",
       "      <td>NaN</td>\n",
       "      <td>NaN</td>\n",
       "      <td>2.0</td>\n",
       "      <td>0.0</td>\n",
       "      <td>NaN</td>\n",
       "      <td>6.0</td>\n",
       "      <td>TURKEY</td>\n",
       "      <td>NaN</td>\n",
       "      <td>IONIAN COASTS, TROAD</td>\n",
       "      <td>39.960</td>\n",
       "      <td>26.24</td>\n",
       "      <td>50.0</td>\n",
       "      <td>NaN</td>\n",
       "      <td>NaN</td>\n",
       "      <td>NaN</td>\n",
       "      <td>5.0</td>\n",
       "      <td>NaN</td>\n",
       "      <td>NaN</td>\n",
       "      <td>NaN</td>\n",
       "      <td>NaN</td>\n",
       "      <td>NaN</td>\n",
       "      <td>NaN</td>\n",
       "      <td>NaN</td>\n",
       "      <td>NaN</td>\n",
       "      <td>NaN</td>\n",
       "      <td>NaN</td>\n",
       "      <td>NaN</td>\n",
       "      <td>NaN</td>\n",
       "      <td>NaN</td>\n",
       "      <td>NaN</td>\n",
       "      <td>NaN</td>\n",
       "      <td>NaN</td>\n",
       "      <td>NaN</td>\n",
       "      <td>NaN</td>\n",
       "      <td>NaN</td>\n",
       "      <td>NaN</td>\n",
       "      <td>NaN</td>\n",
       "      <td>NaN</td>\n",
       "      <td>NaN</td>\n",
       "      <td>NaN</td>\n",
       "      <td>NaN</td>\n",
       "    </tr>\n",
       "    <tr>\n",
       "      <th>4</th>\n",
       "      <td>6</td>\n",
       "      <td>-760</td>\n",
       "      <td>NaN</td>\n",
       "      <td>NaN</td>\n",
       "      <td>NaN</td>\n",
       "      <td>NaN</td>\n",
       "      <td>NaN</td>\n",
       "      <td>2.0</td>\n",
       "      <td>0.0</td>\n",
       "      <td>NaN</td>\n",
       "      <td>NaN</td>\n",
       "      <td>ISRAEL</td>\n",
       "      <td>NaN</td>\n",
       "      <td>ISRAEL AND LEBANON COASTS</td>\n",
       "      <td>NaN</td>\n",
       "      <td>NaN</td>\n",
       "      <td>50.0</td>\n",
       "      <td>NaN</td>\n",
       "      <td>NaN</td>\n",
       "      <td>NaN</td>\n",
       "      <td>3.0</td>\n",
       "      <td>NaN</td>\n",
       "      <td>NaN</td>\n",
       "      <td>NaN</td>\n",
       "      <td>NaN</td>\n",
       "      <td>NaN</td>\n",
       "      <td>NaN</td>\n",
       "      <td>NaN</td>\n",
       "      <td>NaN</td>\n",
       "      <td>NaN</td>\n",
       "      <td>NaN</td>\n",
       "      <td>NaN</td>\n",
       "      <td>NaN</td>\n",
       "      <td>NaN</td>\n",
       "      <td>NaN</td>\n",
       "      <td>NaN</td>\n",
       "      <td>NaN</td>\n",
       "      <td>NaN</td>\n",
       "      <td>NaN</td>\n",
       "      <td>NaN</td>\n",
       "      <td>NaN</td>\n",
       "      <td>NaN</td>\n",
       "      <td>NaN</td>\n",
       "      <td>NaN</td>\n",
       "      <td>NaN</td>\n",
       "      <td>NaN</td>\n",
       "    </tr>\n",
       "  </tbody>\n",
       "</table>\n",
       "</div>"
      ],
      "text/plain": [
       "   ID  YEAR  MONTH  DAY  HOUR  MINUTE  SECOND  EVENT_VALIDITY  CAUSE_CODE  \\\n",
       "0   1 -2000    NaN  NaN   NaN     NaN     NaN             1.0         1.0   \n",
       "1   3 -1610    NaN  NaN   NaN     NaN     NaN             4.0         6.0   \n",
       "2   4 -1365    NaN  NaN   NaN     NaN     NaN             1.0         1.0   \n",
       "3   5 -1300    NaN  NaN   NaN     NaN     NaN             2.0         0.0   \n",
       "4   6  -760    NaN  NaN   NaN     NaN     NaN             2.0         0.0   \n",
       "\n",
       "   FOCAL_DEPTH  PRIMARY_MAGNITUDE COUNTRY STATE              LOCATION_NAME  \\\n",
       "0          NaN                NaN   SYRIA   NaN              SYRIAN COASTS   \n",
       "1          NaN                NaN  GREECE   NaN   THERA ISLAND (SANTORINI)   \n",
       "2          NaN                NaN   SYRIA   NaN              SYRIAN COASTS   \n",
       "3          NaN                6.0  TURKEY   NaN       IONIAN COASTS, TROAD   \n",
       "4          NaN                NaN  ISRAEL   NaN  ISRAEL AND LEBANON COASTS   \n",
       "\n",
       "   LATITUDE  LONGITUDE  REGION_CODE  MAXIMUM_WATER_HEIGHT  ABE  IIDA  \\\n",
       "0    35.683      35.80         50.0                   NaN  NaN   NaN   \n",
       "1    36.400      25.40         50.0                  90.0  NaN   NaN   \n",
       "2    35.683      35.80         50.0                   NaN  NaN   NaN   \n",
       "3    39.960      26.24         50.0                   NaN  NaN   NaN   \n",
       "4       NaN        NaN         50.0                   NaN  NaN   NaN   \n",
       "\n",
       "   SOLOVIEV  WARNING_STATUS  DEATHS  DEATHS_DESCRIPTION  MISSING  \\\n",
       "0       6.0             NaN     NaN                 3.0      NaN   \n",
       "1       6.0             NaN     NaN                 3.0      NaN   \n",
       "2       6.0             NaN     NaN                 NaN      NaN   \n",
       "3       5.0             NaN     NaN                 NaN      NaN   \n",
       "4       3.0             NaN     NaN                 NaN      NaN   \n",
       "\n",
       "   MISSING_DESCRIPTION  INJURIES  INJURIES_DESCRIPTION  \\\n",
       "0                  NaN       NaN                   NaN   \n",
       "1                  NaN       NaN                   NaN   \n",
       "2                  NaN       NaN                   NaN   \n",
       "3                  NaN       NaN                   NaN   \n",
       "4                  NaN       NaN                   NaN   \n",
       "\n",
       "   DAMAGE_MILLIONS_DOLLARS  DAMAGE_DESCRIPTION  HOUSES_DESTROYED  \\\n",
       "0                      NaN                 4.0               NaN   \n",
       "1                      NaN                 3.0               NaN   \n",
       "2                      NaN                 NaN               NaN   \n",
       "3                      NaN                 NaN               NaN   \n",
       "4                      NaN                 NaN               NaN   \n",
       "\n",
       "   HOUSES_DESTROYED_DESCRIPTION  HOUSES_DAMAGED  HOUSES_DAMAGED_DESCRIPTION  \\\n",
       "0                           NaN             NaN                         NaN   \n",
       "1                           NaN             NaN                         NaN   \n",
       "2                           NaN             NaN                         NaN   \n",
       "3                           NaN             NaN                         NaN   \n",
       "4                           NaN             NaN                         NaN   \n",
       "\n",
       "   TOTAL_DEATHS  TOTAL_DEATHS_DESCRIPTION  TOTAL_MISSING  \\\n",
       "0           NaN                       3.0            NaN   \n",
       "1           NaN                       3.0            NaN   \n",
       "2           NaN                       NaN            NaN   \n",
       "3           NaN                       NaN            NaN   \n",
       "4           NaN                       NaN            NaN   \n",
       "\n",
       "   TOTAL_MISSING_DESCRIPTION  TOTAL_INJURIES  TOTAL_INJURIES_DESCRIPTION  \\\n",
       "0                        NaN             NaN                         NaN   \n",
       "1                        NaN             NaN                         NaN   \n",
       "2                        NaN             NaN                         NaN   \n",
       "3                        NaN             NaN                         NaN   \n",
       "4                        NaN             NaN                         NaN   \n",
       "\n",
       "   TOTAL_DAMAGE_MILLIONS_DOLLARS  TOTAL_DAMAGE_DESCRIPTION  \\\n",
       "0                            NaN                       4.0   \n",
       "1                            NaN                       3.0   \n",
       "2                            NaN                       3.0   \n",
       "3                            NaN                       NaN   \n",
       "4                            NaN                       NaN   \n",
       "\n",
       "   TOTAL_HOUSES_DESTROYED  TOTAL_HOUSES_DESTROYED_DESCRIPTION  \\\n",
       "0                     NaN                                 NaN   \n",
       "1                     NaN                                 NaN   \n",
       "2                     NaN                                 NaN   \n",
       "3                     NaN                                 NaN   \n",
       "4                     NaN                                 NaN   \n",
       "\n",
       "   TOTAL_HOUSES_DAMAGED  TOTAL_HOUSES_DAMAGED_DESCRIPTION  \n",
       "0                   NaN                               NaN  \n",
       "1                   NaN                               NaN  \n",
       "2                   NaN                               NaN  \n",
       "3                   NaN                               NaN  \n",
       "4                   NaN                               NaN  "
      ]
     },
     "execution_count": 2,
     "metadata": {},
     "output_type": "execute_result"
    }
   ],
   "source": [
    "tsunamis.head()"
   ]
  },
  {
   "cell_type": "markdown",
   "metadata": {},
   "source": [
    "## Características básicas de los datos"
   ]
  },
  {
   "cell_type": "markdown",
   "metadata": {},
   "source": [
    "### Tamaño de datos"
   ]
  },
  {
   "cell_type": "code",
   "execution_count": 3,
   "metadata": {},
   "outputs": [
    {
     "name": "stdout",
     "output_type": "stream",
     "text": [
      "La base de datos \"tsunamis\" cuenta con 2601 filas y 46 columnas.\n"
     ]
    }
   ],
   "source": [
    "print('La base de datos \"tsunamis\" cuenta con ' + str(tsunamis.shape[0]) + ' filas y ' \n",
    "      + str(tsunamis.shape[1]) +' columnas.')"
   ]
  },
  {
   "cell_type": "markdown",
   "metadata": {},
   "source": [
    "### Lista de variables y tipos de datos"
   ]
  },
  {
   "cell_type": "markdown",
   "metadata": {},
   "source": [
    "#### Tsunamis"
   ]
  },
  {
   "cell_type": "code",
   "execution_count": 4,
   "metadata": {},
   "outputs": [
    {
     "data": {
      "text/html": [
       "<div>\n",
       "<table border=\"1\" class=\"dataframe\">\n",
       "  <thead>\n",
       "    <tr style=\"text-align: right;\">\n",
       "      <th></th>\n",
       "      <th>Tipo de dato</th>\n",
       "    </tr>\n",
       "  </thead>\n",
       "  <tbody>\n",
       "    <tr>\n",
       "      <th>ID</th>\n",
       "      <td>int64</td>\n",
       "    </tr>\n",
       "    <tr>\n",
       "      <th>YEAR</th>\n",
       "      <td>int64</td>\n",
       "    </tr>\n",
       "    <tr>\n",
       "      <th>MONTH</th>\n",
       "      <td>float64</td>\n",
       "    </tr>\n",
       "    <tr>\n",
       "      <th>DAY</th>\n",
       "      <td>float64</td>\n",
       "    </tr>\n",
       "    <tr>\n",
       "      <th>HOUR</th>\n",
       "      <td>float64</td>\n",
       "    </tr>\n",
       "    <tr>\n",
       "      <th>MINUTE</th>\n",
       "      <td>float64</td>\n",
       "    </tr>\n",
       "    <tr>\n",
       "      <th>SECOND</th>\n",
       "      <td>float64</td>\n",
       "    </tr>\n",
       "    <tr>\n",
       "      <th>EVENT_VALIDITY</th>\n",
       "      <td>float64</td>\n",
       "    </tr>\n",
       "    <tr>\n",
       "      <th>CAUSE_CODE</th>\n",
       "      <td>float64</td>\n",
       "    </tr>\n",
       "    <tr>\n",
       "      <th>FOCAL_DEPTH</th>\n",
       "      <td>float64</td>\n",
       "    </tr>\n",
       "    <tr>\n",
       "      <th>PRIMARY_MAGNITUDE</th>\n",
       "      <td>float64</td>\n",
       "    </tr>\n",
       "    <tr>\n",
       "      <th>COUNTRY</th>\n",
       "      <td>object</td>\n",
       "    </tr>\n",
       "    <tr>\n",
       "      <th>STATE</th>\n",
       "      <td>object</td>\n",
       "    </tr>\n",
       "    <tr>\n",
       "      <th>LOCATION_NAME</th>\n",
       "      <td>object</td>\n",
       "    </tr>\n",
       "    <tr>\n",
       "      <th>LATITUDE</th>\n",
       "      <td>float64</td>\n",
       "    </tr>\n",
       "    <tr>\n",
       "      <th>LONGITUDE</th>\n",
       "      <td>float64</td>\n",
       "    </tr>\n",
       "    <tr>\n",
       "      <th>REGION_CODE</th>\n",
       "      <td>float64</td>\n",
       "    </tr>\n",
       "    <tr>\n",
       "      <th>MAXIMUM_WATER_HEIGHT</th>\n",
       "      <td>float64</td>\n",
       "    </tr>\n",
       "    <tr>\n",
       "      <th>ABE</th>\n",
       "      <td>float64</td>\n",
       "    </tr>\n",
       "    <tr>\n",
       "      <th>IIDA</th>\n",
       "      <td>float64</td>\n",
       "    </tr>\n",
       "    <tr>\n",
       "      <th>SOLOVIEV</th>\n",
       "      <td>float64</td>\n",
       "    </tr>\n",
       "    <tr>\n",
       "      <th>WARNING_STATUS</th>\n",
       "      <td>float64</td>\n",
       "    </tr>\n",
       "    <tr>\n",
       "      <th>DEATHS</th>\n",
       "      <td>float64</td>\n",
       "    </tr>\n",
       "    <tr>\n",
       "      <th>DEATHS_DESCRIPTION</th>\n",
       "      <td>float64</td>\n",
       "    </tr>\n",
       "    <tr>\n",
       "      <th>MISSING</th>\n",
       "      <td>float64</td>\n",
       "    </tr>\n",
       "    <tr>\n",
       "      <th>MISSING_DESCRIPTION</th>\n",
       "      <td>float64</td>\n",
       "    </tr>\n",
       "    <tr>\n",
       "      <th>INJURIES</th>\n",
       "      <td>float64</td>\n",
       "    </tr>\n",
       "    <tr>\n",
       "      <th>INJURIES_DESCRIPTION</th>\n",
       "      <td>float64</td>\n",
       "    </tr>\n",
       "    <tr>\n",
       "      <th>DAMAGE_MILLIONS_DOLLARS</th>\n",
       "      <td>float64</td>\n",
       "    </tr>\n",
       "    <tr>\n",
       "      <th>DAMAGE_DESCRIPTION</th>\n",
       "      <td>float64</td>\n",
       "    </tr>\n",
       "    <tr>\n",
       "      <th>HOUSES_DESTROYED</th>\n",
       "      <td>float64</td>\n",
       "    </tr>\n",
       "    <tr>\n",
       "      <th>HOUSES_DESTROYED_DESCRIPTION</th>\n",
       "      <td>float64</td>\n",
       "    </tr>\n",
       "    <tr>\n",
       "      <th>HOUSES_DAMAGED</th>\n",
       "      <td>float64</td>\n",
       "    </tr>\n",
       "    <tr>\n",
       "      <th>HOUSES_DAMAGED_DESCRIPTION</th>\n",
       "      <td>float64</td>\n",
       "    </tr>\n",
       "    <tr>\n",
       "      <th>TOTAL_DEATHS</th>\n",
       "      <td>float64</td>\n",
       "    </tr>\n",
       "    <tr>\n",
       "      <th>TOTAL_DEATHS_DESCRIPTION</th>\n",
       "      <td>float64</td>\n",
       "    </tr>\n",
       "    <tr>\n",
       "      <th>TOTAL_MISSING</th>\n",
       "      <td>float64</td>\n",
       "    </tr>\n",
       "    <tr>\n",
       "      <th>TOTAL_MISSING_DESCRIPTION</th>\n",
       "      <td>float64</td>\n",
       "    </tr>\n",
       "    <tr>\n",
       "      <th>TOTAL_INJURIES</th>\n",
       "      <td>float64</td>\n",
       "    </tr>\n",
       "    <tr>\n",
       "      <th>TOTAL_INJURIES_DESCRIPTION</th>\n",
       "      <td>float64</td>\n",
       "    </tr>\n",
       "    <tr>\n",
       "      <th>TOTAL_DAMAGE_MILLIONS_DOLLARS</th>\n",
       "      <td>float64</td>\n",
       "    </tr>\n",
       "    <tr>\n",
       "      <th>TOTAL_DAMAGE_DESCRIPTION</th>\n",
       "      <td>float64</td>\n",
       "    </tr>\n",
       "    <tr>\n",
       "      <th>TOTAL_HOUSES_DESTROYED</th>\n",
       "      <td>float64</td>\n",
       "    </tr>\n",
       "    <tr>\n",
       "      <th>TOTAL_HOUSES_DESTROYED_DESCRIPTION</th>\n",
       "      <td>float64</td>\n",
       "    </tr>\n",
       "    <tr>\n",
       "      <th>TOTAL_HOUSES_DAMAGED</th>\n",
       "      <td>float64</td>\n",
       "    </tr>\n",
       "    <tr>\n",
       "      <th>TOTAL_HOUSES_DAMAGED_DESCRIPTION</th>\n",
       "      <td>float64</td>\n",
       "    </tr>\n",
       "  </tbody>\n",
       "</table>\n",
       "</div>"
      ],
      "text/plain": [
       "                                   Tipo de dato\n",
       "ID                                        int64\n",
       "YEAR                                      int64\n",
       "MONTH                                   float64\n",
       "DAY                                     float64\n",
       "HOUR                                    float64\n",
       "MINUTE                                  float64\n",
       "SECOND                                  float64\n",
       "EVENT_VALIDITY                          float64\n",
       "CAUSE_CODE                              float64\n",
       "FOCAL_DEPTH                             float64\n",
       "PRIMARY_MAGNITUDE                       float64\n",
       "COUNTRY                                  object\n",
       "STATE                                    object\n",
       "LOCATION_NAME                            object\n",
       "LATITUDE                                float64\n",
       "LONGITUDE                               float64\n",
       "REGION_CODE                             float64\n",
       "MAXIMUM_WATER_HEIGHT                    float64\n",
       "ABE                                     float64\n",
       "IIDA                                    float64\n",
       "SOLOVIEV                                float64\n",
       "WARNING_STATUS                          float64\n",
       "DEATHS                                  float64\n",
       "DEATHS_DESCRIPTION                      float64\n",
       "MISSING                                 float64\n",
       "MISSING_DESCRIPTION                     float64\n",
       "INJURIES                                float64\n",
       "INJURIES_DESCRIPTION                    float64\n",
       "DAMAGE_MILLIONS_DOLLARS                 float64\n",
       "DAMAGE_DESCRIPTION                      float64\n",
       "HOUSES_DESTROYED                        float64\n",
       "HOUSES_DESTROYED_DESCRIPTION            float64\n",
       "HOUSES_DAMAGED                          float64\n",
       "HOUSES_DAMAGED_DESCRIPTION              float64\n",
       "TOTAL_DEATHS                            float64\n",
       "TOTAL_DEATHS_DESCRIPTION                float64\n",
       "TOTAL_MISSING                           float64\n",
       "TOTAL_MISSING_DESCRIPTION               float64\n",
       "TOTAL_INJURIES                          float64\n",
       "TOTAL_INJURIES_DESCRIPTION              float64\n",
       "TOTAL_DAMAGE_MILLIONS_DOLLARS           float64\n",
       "TOTAL_DAMAGE_DESCRIPTION                float64\n",
       "TOTAL_HOUSES_DESTROYED                  float64\n",
       "TOTAL_HOUSES_DESTROYED_DESCRIPTION      float64\n",
       "TOTAL_HOUSES_DAMAGED                    float64\n",
       "TOTAL_HOUSES_DAMAGED_DESCRIPTION        float64"
      ]
     },
     "execution_count": 4,
     "metadata": {},
     "output_type": "execute_result"
    }
   ],
   "source": [
    "pd.DataFrame(tsunamis.dtypes, columns = ['Tipo de dato'])"
   ]
  },
  {
   "cell_type": "markdown",
   "metadata": {},
   "source": [
    "###  Análisis de series temporales"
   ]
  },
  {
   "cell_type": "markdown",
   "metadata": {},
   "source": [
    "#### Tsunamis "
   ]
  },
  {
   "cell_type": "code",
   "execution_count": 5,
   "metadata": {},
   "outputs": [],
   "source": [
    "count_tsunamis = tsunamis.groupby([u'YEAR'])[u'YEAR'].count().reset_index(name='count')"
   ]
  },
  {
   "cell_type": "code",
   "execution_count": 6,
   "metadata": {},
   "outputs": [
    {
     "data": {
      "text/plain": [
       "<matplotlib.axes._subplots.AxesSubplot at 0x10fad1f50>"
      ]
     },
     "execution_count": 6,
     "metadata": {},
     "output_type": "execute_result"
    },
    {
     "data": {
      "image/png": "[encoded data removed]",
      "text/plain": [
       "<matplotlib.figure.Figure at 0x10fad1750>"
      ]
     },
     "metadata": {},
     "output_type": "display_data"
    }
   ],
   "source": [
    "%matplotlib inline\n",
    "count_tsunamis[u'YEAR'].plot(kind='hist')"
   ]
  },
  {
   "cell_type": "code",
   "execution_count": 7,
   "metadata": {},
   "outputs": [
    {
     "data": {
      "text/plain": [
       "<matplotlib.axes._subplots.AxesSubplot at 0x10fbb41d0>"
      ]
     },
     "execution_count": 7,
     "metadata": {},
     "output_type": "execute_result"
    },
    {
     "data": {
      "image/png": "[encoded data removed]",
      "text/plain": [
       "<matplotlib.figure.Figure at 0x10fb99d50>"
      ]
     },
     "metadata": {},
     "output_type": "display_data"
    }
   ],
   "source": [
    "count_tsunamis[u'YEAR'].plot()"
   ]
  },
  {
   "cell_type": "markdown",
   "metadata": {},
   "source": [
    "### Data threshold"
   ]
  },
  {
   "cell_type": "code",
   "execution_count": 8,
   "metadata": {},
   "outputs": [],
   "source": [
    "tsunamis = tsunamis.sort_values('YEAR',ascending=False).head(int(tsunamis.shape[0]*0.8))"
   ]
  },
  {
   "cell_type": "markdown",
   "metadata": {},
   "source": [
    "### Identificación de Missing values "
   ]
  },
  {
   "cell_type": "code",
   "execution_count": 9,
   "metadata": {
    "collapsed": true
   },
   "outputs": [],
   "source": [
    "def missing_values_table(df): \n",
    "        mis_val = df.isnull().sum()\n",
    "        mis_val_percent = 100 * df.isnull().sum()/len(df)\n",
    "        mis_val_table = pd.concat([mis_val, mis_val_percent], axis=1)\n",
    "        mis_val_table_ren_columns = mis_val_table.rename(\n",
    "        columns = {0 : 'Missing Values', 1 : '% of Total Values'})\n",
    "        return mis_val_table_ren_columns [mis_val_table_ren_columns['% of Total Values'] <= 70].sort_values('Missing Values', ascending=False)"
   ]
  },
  {
   "cell_type": "markdown",
   "metadata": {},
   "source": [
    "#### Tsunamis"
   ]
  },
  {
   "cell_type": "code",
   "execution_count": 10,
   "metadata": {},
   "outputs": [
    {
     "data": {
      "text/html": [
       "<div>\n",
       "<table border=\"1\" class=\"dataframe\">\n",
       "  <thead>\n",
       "    <tr style=\"text-align: right;\">\n",
       "      <th></th>\n",
       "      <th>Missing Values</th>\n",
       "      <th>% of Total Values</th>\n",
       "    </tr>\n",
       "  </thead>\n",
       "  <tbody>\n",
       "    <tr>\n",
       "      <th>TOTAL_DAMAGE_DESCRIPTION</th>\n",
       "      <td>1271</td>\n",
       "      <td>61.105769</td>\n",
       "    </tr>\n",
       "    <tr>\n",
       "      <th>SECOND</th>\n",
       "      <td>1228</td>\n",
       "      <td>59.038462</td>\n",
       "    </tr>\n",
       "    <tr>\n",
       "      <th>FOCAL_DEPTH</th>\n",
       "      <td>1216</td>\n",
       "      <td>58.461538</td>\n",
       "    </tr>\n",
       "    <tr>\n",
       "      <th>SOLOVIEV</th>\n",
       "      <td>1162</td>\n",
       "      <td>55.865385</td>\n",
       "    </tr>\n",
       "    <tr>\n",
       "      <th>MAXIMUM_WATER_HEIGHT</th>\n",
       "      <td>1091</td>\n",
       "      <td>52.451923</td>\n",
       "    </tr>\n",
       "    <tr>\n",
       "      <th>MINUTE</th>\n",
       "      <td>876</td>\n",
       "      <td>42.115385</td>\n",
       "    </tr>\n",
       "    <tr>\n",
       "      <th>PRIMARY_MAGNITUDE</th>\n",
       "      <td>846</td>\n",
       "      <td>40.673077</td>\n",
       "    </tr>\n",
       "    <tr>\n",
       "      <th>HOUR</th>\n",
       "      <td>823</td>\n",
       "      <td>39.567308</td>\n",
       "    </tr>\n",
       "    <tr>\n",
       "      <th>LATITUDE</th>\n",
       "      <td>269</td>\n",
       "      <td>12.932692</td>\n",
       "    </tr>\n",
       "    <tr>\n",
       "      <th>LONGITUDE</th>\n",
       "      <td>269</td>\n",
       "      <td>12.932692</td>\n",
       "    </tr>\n",
       "    <tr>\n",
       "      <th>DAY</th>\n",
       "      <td>103</td>\n",
       "      <td>4.951923</td>\n",
       "    </tr>\n",
       "    <tr>\n",
       "      <th>MONTH</th>\n",
       "      <td>46</td>\n",
       "      <td>2.211538</td>\n",
       "    </tr>\n",
       "    <tr>\n",
       "      <th>LOCATION_NAME</th>\n",
       "      <td>9</td>\n",
       "      <td>0.432692</td>\n",
       "    </tr>\n",
       "    <tr>\n",
       "      <th>CAUSE_CODE</th>\n",
       "      <td>5</td>\n",
       "      <td>0.240385</td>\n",
       "    </tr>\n",
       "    <tr>\n",
       "      <th>EVENT_VALIDITY</th>\n",
       "      <td>1</td>\n",
       "      <td>0.048077</td>\n",
       "    </tr>\n",
       "    <tr>\n",
       "      <th>REGION_CODE</th>\n",
       "      <td>1</td>\n",
       "      <td>0.048077</td>\n",
       "    </tr>\n",
       "    <tr>\n",
       "      <th>YEAR</th>\n",
       "      <td>0</td>\n",
       "      <td>0.000000</td>\n",
       "    </tr>\n",
       "    <tr>\n",
       "      <th>COUNTRY</th>\n",
       "      <td>0</td>\n",
       "      <td>0.000000</td>\n",
       "    </tr>\n",
       "    <tr>\n",
       "      <th>ID</th>\n",
       "      <td>0</td>\n",
       "      <td>0.000000</td>\n",
       "    </tr>\n",
       "  </tbody>\n",
       "</table>\n",
       "</div>"
      ],
      "text/plain": [
       "                          Missing Values  % of Total Values\n",
       "TOTAL_DAMAGE_DESCRIPTION            1271          61.105769\n",
       "SECOND                              1228          59.038462\n",
       "FOCAL_DEPTH                         1216          58.461538\n",
       "SOLOVIEV                            1162          55.865385\n",
       "MAXIMUM_WATER_HEIGHT                1091          52.451923\n",
       "MINUTE                               876          42.115385\n",
       "PRIMARY_MAGNITUDE                    846          40.673077\n",
       "HOUR                                 823          39.567308\n",
       "LATITUDE                             269          12.932692\n",
       "LONGITUDE                            269          12.932692\n",
       "DAY                                  103           4.951923\n",
       "MONTH                                 46           2.211538\n",
       "LOCATION_NAME                          9           0.432692\n",
       "CAUSE_CODE                             5           0.240385\n",
       "EVENT_VALIDITY                         1           0.048077\n",
       "REGION_CODE                            1           0.048077\n",
       "YEAR                                   0           0.000000\n",
       "COUNTRY                                0           0.000000\n",
       "ID                                     0           0.000000"
      ]
     },
     "execution_count": 10,
     "metadata": {},
     "output_type": "execute_result"
    }
   ],
   "source": [
    "missing_values_table(tsunamis)"
   ]
  },
  {
   "cell_type": "code",
   "execution_count": 11,
   "metadata": {},
   "outputs": [
    {
     "data": {
      "image/png": "[encoded data removed]",
      "text/plain": [
       "<matplotlib.figure.Figure at 0x10fd6f0d0>"
      ]
     },
     "metadata": {},
     "output_type": "display_data"
    }
   ],
   "source": [
    "% matplotlib inline\n",
    "import matplotlib.pyplot as plt\n",
    "missing_values_table(tsunamis)['% of Total Values'].plot(kind='barh', figsize = (20,16)).tick_params(labelsize=15)"
   ]
  },
  {
   "cell_type": "markdown",
   "metadata": {},
   "source": [
    "### Tratamiento de Missing values "
   ]
  },
  {
   "cell_type": "markdown",
   "metadata": {},
   "source": [
    "#### Selección de variables"
   ]
  },
  {
   "cell_type": "code",
   "execution_count": 12,
   "metadata": {},
   "outputs": [],
   "source": [
    "columnas = list(missing_values_table(tsunamis).index)\n",
    "columnas.remove('SOLOVIEV')\n",
    "columnas.remove('LATITUDE')\n",
    "columnas.remove('LONGITUDE')\n",
    "columnas.remove('SECOND')\n",
    "columnas.remove('HOUR')\n",
    "columnas.remove('DAY')\n",
    "columnas.remove('MONTH')\n",
    "columnas.remove('LOCATION_NAME')\n",
    "columnas.remove('REGION_CODE')\n",
    "columnas.remove('COUNTRY')\n",
    "columnas.remove('MINUTE')\n",
    "columnas.remove('YEAR')\n",
    "columnas.remove('ID')\n",
    "tsunamis = tsunamis[columnas]"
   ]
  },
  {
   "cell_type": "markdown",
   "metadata": {},
   "source": [
    "#### Selección de registros según Missing values (analizando el % de missing por registro) "
   ]
  },
  {
   "cell_type": "code",
   "execution_count": 13,
   "metadata": {
    "collapsed": true
   },
   "outputs": [],
   "source": [
    "transpose = tsunamis.T\n",
    "oks = list()\n",
    "\n",
    "for column in transpose.columns:\n",
    "    if transpose[pd.isnull(transpose[column])].shape[0]/transpose.shape[0] <= 0.15:\n",
    "        oks.append(column)"
   ]
  },
  {
   "cell_type": "markdown",
   "metadata": {},
   "source": [
    "#### Llenado de Missing values"
   ]
  },
  {
   "cell_type": "code",
   "execution_count": 14,
   "metadata": {},
   "outputs": [],
   "source": [
    "filtered_df = transpose[oks].T\n",
    "mode = filtered_df[u'TOTAL_DAMAGE_DESCRIPTION'].mode()\n",
    "filtered_df[u'TOTAL_DAMAGE_DESCRIPTION'].fillna(mode.values[0],inplace=True)\n",
    "filtered_df[u'EVENT_VALIDITY'] = filtered_df[u'EVENT_VALIDITY'].fillna(filtered_df['EVENT_VALIDITY'].mode())\n",
    "filtered_df[u'CAUSE_CODE'] = filtered_df[u'CAUSE_CODE'].fillna(filtered_df['CAUSE_CODE'].mode())\n",
    "filtered_df[u'FOCAL_DEPTH'] = filtered_df[u'FOCAL_DEPTH'].fillna(filtered_df['FOCAL_DEPTH'].mean())\n",
    "filtered_df[u'PRIMARY_MAGNITUDE'] = filtered_df[u'PRIMARY_MAGNITUDE'].fillna(filtered_df['PRIMARY_MAGNITUDE'].mean())\n",
    "filtered_df[u'MAXIMUM_WATER_HEIGHT'] = filtered_df[u'MAXIMUM_WATER_HEIGHT'].fillna(filtered_df['MAXIMUM_WATER_HEIGHT'].mean())"
   ]
  },
  {
   "cell_type": "markdown",
   "metadata": {},
   "source": [
    "### Estadísticos descriptivos "
   ]
  },
  {
   "cell_type": "markdown",
   "metadata": {},
   "source": [
    "#### Tsunamis"
   ]
  },
  {
   "cell_type": "code",
   "execution_count": 15,
   "metadata": {},
   "outputs": [
    {
     "data": {
      "text/html": [
       "<div>\n",
       "<table border=\"1\" class=\"dataframe\">\n",
       "  <thead>\n",
       "    <tr style=\"text-align: right;\">\n",
       "      <th></th>\n",
       "      <th>TOTAL_DAMAGE_DESCRIPTION</th>\n",
       "      <th>FOCAL_DEPTH</th>\n",
       "      <th>MAXIMUM_WATER_HEIGHT</th>\n",
       "      <th>PRIMARY_MAGNITUDE</th>\n",
       "      <th>CAUSE_CODE</th>\n",
       "      <th>EVENT_VALIDITY</th>\n",
       "    </tr>\n",
       "  </thead>\n",
       "  <tbody>\n",
       "    <tr>\n",
       "      <th>count</th>\n",
       "      <td>2080.000000</td>\n",
       "      <td>2080.000000</td>\n",
       "      <td>2080.000000</td>\n",
       "      <td>2080.000000</td>\n",
       "      <td>2075.000000</td>\n",
       "      <td>2079.000000</td>\n",
       "    </tr>\n",
       "    <tr>\n",
       "      <th>mean</th>\n",
       "      <td>1.432212</td>\n",
       "      <td>35.976852</td>\n",
       "      <td>5.946077</td>\n",
       "      <td>7.035089</td>\n",
       "      <td>1.852048</td>\n",
       "      <td>2.427609</td>\n",
       "    </tr>\n",
       "    <tr>\n",
       "      <th>std</th>\n",
       "      <td>0.851234</td>\n",
       "      <td>23.999474</td>\n",
       "      <td>19.271161</td>\n",
       "      <td>0.615219</td>\n",
       "      <td>2.327105</td>\n",
       "      <td>1.546964</td>\n",
       "    </tr>\n",
       "    <tr>\n",
       "      <th>min</th>\n",
       "      <td>1.000000</td>\n",
       "      <td>0.000000</td>\n",
       "      <td>0.010000</td>\n",
       "      <td>3.700000</td>\n",
       "      <td>0.000000</td>\n",
       "      <td>-1.000000</td>\n",
       "    </tr>\n",
       "    <tr>\n",
       "      <th>25%</th>\n",
       "      <td>1.000000</td>\n",
       "      <td>33.000000</td>\n",
       "      <td>1.000000</td>\n",
       "      <td>7.000000</td>\n",
       "      <td>1.000000</td>\n",
       "      <td>1.000000</td>\n",
       "    </tr>\n",
       "    <tr>\n",
       "      <th>50%</th>\n",
       "      <td>1.000000</td>\n",
       "      <td>35.976852</td>\n",
       "      <td>5.946077</td>\n",
       "      <td>7.035089</td>\n",
       "      <td>1.000000</td>\n",
       "      <td>3.000000</td>\n",
       "    </tr>\n",
       "    <tr>\n",
       "      <th>75%</th>\n",
       "      <td>1.000000</td>\n",
       "      <td>35.976852</td>\n",
       "      <td>5.946077</td>\n",
       "      <td>7.200000</td>\n",
       "      <td>1.000000</td>\n",
       "      <td>4.000000</td>\n",
       "    </tr>\n",
       "    <tr>\n",
       "      <th>max</th>\n",
       "      <td>4.000000</td>\n",
       "      <td>600.000000</td>\n",
       "      <td>524.600000</td>\n",
       "      <td>9.500000</td>\n",
       "      <td>11.000000</td>\n",
       "      <td>4.000000</td>\n",
       "    </tr>\n",
       "  </tbody>\n",
       "</table>\n",
       "</div>"
      ],
      "text/plain": [
       "       TOTAL_DAMAGE_DESCRIPTION  FOCAL_DEPTH  MAXIMUM_WATER_HEIGHT  \\\n",
       "count               2080.000000  2080.000000           2080.000000   \n",
       "mean                   1.432212    35.976852              5.946077   \n",
       "std                    0.851234    23.999474             19.271161   \n",
       "min                    1.000000     0.000000              0.010000   \n",
       "25%                    1.000000    33.000000              1.000000   \n",
       "50%                    1.000000    35.976852              5.946077   \n",
       "75%                    1.000000    35.976852              5.946077   \n",
       "max                    4.000000   600.000000            524.600000   \n",
       "\n",
       "       PRIMARY_MAGNITUDE   CAUSE_CODE  EVENT_VALIDITY  \n",
       "count        2080.000000  2075.000000     2079.000000  \n",
       "mean            7.035089     1.852048        2.427609  \n",
       "std             0.615219     2.327105        1.546964  \n",
       "min             3.700000     0.000000       -1.000000  \n",
       "25%             7.000000     1.000000        1.000000  \n",
       "50%             7.035089     1.000000        3.000000  \n",
       "75%             7.200000     1.000000        4.000000  \n",
       "max             9.500000    11.000000        4.000000  "
      ]
     },
     "execution_count": 15,
     "metadata": {},
     "output_type": "execute_result"
    }
   ],
   "source": [
    "filtered_df.describe()"
   ]
  },
  {
   "cell_type": "markdown",
   "metadata": {},
   "source": [
    "###  Matriz de correlaciones"
   ]
  },
  {
   "cell_type": "code",
   "execution_count": 16,
   "metadata": {},
   "outputs": [],
   "source": [
    "import numpy as np\n",
    "import pandas as pd\n",
    "import seaborn as sns\n",
    "import matplotlib.pyplot as plt\n",
    "def corr_1(df):\n",
    "    sns.set(style=\"white\") \n",
    "    corr = df.corr()\n",
    "    mask = np.zeros_like(corr, dtype=np.bool)\n",
    "    mask[np.triu_indices_from(mask)] = True\n",
    "    f, ax = plt.subplots(figsize=(10, 8))\n",
    "    cmap = sns.diverging_palette(220, 10, as_cmap=True)\n",
    "    return sns.heatmap(corr, mask=mask, cmap=cmap, center=0,\n",
    "            square=True, linewidths=.5)\n",
    "\n",
    "def corr_2(df):\n",
    "    f, ax = plt.subplots(figsize=(10, 8))\n",
    "    corr = df.corr()\n",
    "    return sns.heatmap(corr, mask=np.zeros_like(corr, dtype=np.bool), cmap=sns.diverging_palette(220, 10, as_cmap=True),\n",
    "            square=True, ax=ax)"
   ]
  },
  {
   "cell_type": "markdown",
   "metadata": {},
   "source": [
    "#### Tsunamis"
   ]
  },
  {
   "cell_type": "code",
   "execution_count": 17,
   "metadata": {},
   "outputs": [
    {
     "data": {
      "text/plain": [
       "<matplotlib.axes._subplots.AxesSubplot at 0x1143e0890>"
      ]
     },
     "execution_count": 17,
     "metadata": {},
     "output_type": "execute_result"
    },
    {
     "data": {
      "image/png": "[encoded data removed]",
      "text/plain": [
       "<matplotlib.figure.Figure at 0x1143e0690>"
      ]
     },
     "metadata": {},
     "output_type": "display_data"
    }
   ],
   "source": [
    "corr_1(filtered_df)"
   ]
  },
  {
   "cell_type": "code",
   "execution_count": 18,
   "metadata": {},
   "outputs": [
    {
     "data": {
      "text/plain": [
       "<matplotlib.axes._subplots.AxesSubplot at 0x11635d250>"
      ]
     },
     "execution_count": 18,
     "metadata": {},
     "output_type": "execute_result"
    },
    {
     "data": {
      "image/png": "[encoded data removed]",
      "text/plain": [
       "<matplotlib.figure.Figure at 0x1143e0550>"
      ]
     },
     "metadata": {},
     "output_type": "display_data"
    }
   ],
   "source": [
    "corr_2(filtered_df)"
   ]
  },
  {
   "cell_type": "markdown",
   "metadata": {},
   "source": [
    "### Visualización espacio-temporal "
   ]
  },
  {
   "cell_type": "markdown",
   "metadata": {},
   "source": [
    "Tsunamis : https://ghherreramedina.carto.com/builder/650f7118-3ade-4e5d-82c6-10f2a3713be0/embed\n",
    "\n",
    "Volcanes : https://ghherreramedina.carto.com/builder/fb6ffba5-f3a9-4993-a15a-f123aebd13db/embed\n",
    "\n",
    "Terremetos : https://ghherreramedina.carto.com/builder/cd26c67a-ebc0-4ba8-837c-59fc8faf1cab/embed?state=%7B%22map%22%3A%7B%22ne%22%3A%5B-74.49641311694309%2C-269.29687500000006%5D%2C%22sw%22%3A%5B56.36525013685609%2C149.76562500000003%5D%2C%22center%22%3A%5B-22.268764039073968%2C-59.76562500000001%5D%2C%22zoom%22%3A2%7D%2C%22widgets%22%3A%7B%22ca790898-4763-4e95-99d0-a64c1b87b954%22%3A%7B%22normalized%22%3Atrue%7D%7D%7D"
   ]
  },
  {
   "cell_type": "markdown",
   "metadata": {},
   "source": [
    "# DATA MINING"
   ]
  },
  {
   "cell_type": "markdown",
   "metadata": {},
   "source": [
    "## Clustering "
   ]
  },
  {
   "cell_type": "markdown",
   "metadata": {},
   "source": [
    "### Definir función para calcular centroides de clusters "
   ]
  },
  {
   "cell_type": "code",
   "execution_count": 21,
   "metadata": {},
   "outputs": [],
   "source": [
    "import pandas as pd\n",
    "import hdbscan\n",
    "import numpy as np\n",
    "from sklearn.cluster import AffinityPropagation\n",
    "import matplotlib.pyplot as plt\n",
    "from matplotlib.projections.polar import PolarAxes\n",
    "from matplotlib.projections import register_projection\n",
    "from matplotlib.path import Path\n",
    "from matplotlib.spines import Spine\n",
    "from __future__ import division\n",
    "\n",
    "def calculate_centroids(data, cols_clusters, cols_to_delete = ['index']):\n",
    "    \"\"\"\n",
    "    Input:\n",
    "    - data: data frame containing all the clusters generated with K-means.\n",
    "    - cols_clusters: list of columns containing the clusters numbers\n",
    "    - cols_to_delete: list of columns to exclude from the analysis\n",
    "    \n",
    "    Output:\n",
    "    - output_df: data frame containig the centroids for each cluster and clustering option\n",
    "    \"\"\"\n",
    "    # List of columns from which to calculate the centroid\n",
    "    cols_to_use = list(set(data.columns.tolist())-set(cols_clusters)-set(cols_to_delete))\n",
    "    \n",
    "    # Create output DF\n",
    "    output_df = pd.DataFrame(columns=['number_of_clusters','cluster_id']+cols_to_use)\n",
    "    for i in cols_clusters:\n",
    "        df_to_concat = pd.pivot_table(data[cols_to_use+[i]],\n",
    "                                        index=[i], aggfunc=np.mean)\n",
    "        df_to_concat['cluster_id'] = df_to_concat.index\n",
    "        df_to_concat.reset_index(drop=True)\n",
    "        df_to_concat['number_of_clusters'] = df_to_concat.cluster_id.max()+1\n",
    "        df_to_concat = df_to_concat[['number_of_clusters','cluster_id']+cols_to_use]\n",
    "        output_df = pd.concat([output_df, df_to_concat], axis=0)\n",
    "    \n",
    "    output_df.reset_index(drop=True)\n",
    "    \n",
    "    # Return result\n",
    "    return output_df"
   ]
  },
  {
   "cell_type": "markdown",
   "metadata": {},
   "source": [
    "### Definir función que permitirá visualizar las características de los clusters/centroides (radar charts) "
   ]
  },
  {
   "cell_type": "code",
   "execution_count": 20,
   "metadata": {
    "collapsed": true
   },
   "outputs": [],
   "source": [
    "def radar_chart(data, num_of_clusters_field, cluster_id_field, to_plot_fields, labels, save=True):\n",
    "    \n",
    "    \"\"\"\n",
    "    Create a radar chart for each cluster displaying the standardized variables values.\n",
    "    \n",
    "    Input:\n",
    "    - df (m x n): Dataframe of data to be displayed.\n",
    "    - num_of_clusters_field: string containing the name of the column describing the\n",
    "                                number of groups of clusters\n",
    "    - cluster_id_field: string containing the name of the field with the clusters ID per\n",
    "                        group\n",
    "    - to_plot_fields: list column names containing the variables to be plotted in the radar chart\n",
    "    - labels: list of names to be plotted for each variable. It should be in the same order as the previous list.\n",
    "    - city_name: string containing the name of the city for the graphs.\n",
    "    - save: If True, the radar charts are saved. If False, not.\n",
    "    \n",
    "    Output:\n",
    "    - radar charts which are saved as .png files (one for centroid)\n",
    "    \"\"\"\n",
    "    \n",
    "    def _radar_factory(num_vars):\n",
    "    \n",
    "        theta = 2*np.pi * np.linspace(0, 1-1./num_vars, num_vars)\n",
    "        theta += np.pi/2\n",
    "\n",
    "        def unit_poly_verts(theta):\n",
    "            x0, y0, r = [0.5] * 3\n",
    "            verts = [(r*np.cos(t) + x0, r*np.sin(t) + y0) for t in theta]\n",
    "            return verts\n",
    "\n",
    "        class RadarAxes(PolarAxes):\n",
    "            name = 'radar'\n",
    "            RESOLUTION = 1\n",
    "\n",
    "            def fill(self, *args, **kwargs):\n",
    "                closed = kwargs.pop('closed', True)\n",
    "                return super(RadarAxes, self).fill(closed=closed, *args, **kwargs)\n",
    "\n",
    "            def plot(self, *args, **kwargs):\n",
    "                lines = super(RadarAxes, self).plot(*args, **kwargs)\n",
    "                for line in lines:\n",
    "                    self._close_line(line)\n",
    "\n",
    "            def _close_line(self, line):\n",
    "                x, y = line.get_data()\n",
    "                if x[0] != x[-1]:\n",
    "                    x = np.concatenate((x, [x[0]]))\n",
    "                    y = np.concatenate((y, [y[0]]))\n",
    "                    line.set_data(x, y)\n",
    "\n",
    "            def set_varlabels(self, labels):\n",
    "                self.set_thetagrids(theta * 180/np.pi, labels)\n",
    "\n",
    "            def _gen_axes_patch(self):\n",
    "                verts = unit_poly_verts(theta)\n",
    "                return plt.Polygon(verts, closed=True, edgecolor='k')\n",
    "\n",
    "            def _gen_axes_spines(self):\n",
    "                spine_type = 'circle'\n",
    "                verts = unit_poly_verts(theta)\n",
    "                verts.append(verts[0])\n",
    "                path = Path(verts)\n",
    "                spine = Spine(self, spine_type, path)\n",
    "                spine.set_transform(self.transAxes)\n",
    "                return {'polar': spine}\n",
    "\n",
    "        register_projection(RadarAxes)\n",
    "\n",
    "        return theta\n",
    "    \n",
    "    def radar_graph(labels = [], values = [], cluster=0, tot_clusters=1, save=True):\n",
    "        colors = ['#226ce5','#BAB0AC','#f98e02','#a6c1ed','#f2d709','#2bbc23','#000000','#000000','#01DF3A']\n",
    "        N = len(labels) \n",
    "        theta = _radar_factory(N)\n",
    "        #max_val = max(max(optimum), max(values))\n",
    "\n",
    "        # Define chart characteristics\n",
    "        fig = plt.figure()\n",
    "        ax = fig.add_subplot(1, 1, 1, projection='radar')\n",
    "        ax.set_ylim(0,1)\n",
    "        ax.set_yticks(np.arange(0,1,0.2))\n",
    "        ax.plot(theta, values, color=colors[cluster])#, color=colors[cluster]\n",
    "        ax.set_title('Radar-Cluster '+str(int(cluster))+' of '+str(int(tot_clusters)), weight='bold', size='large')\n",
    "        #ax.plot(theta, optimum, color='r')\n",
    "        ax.set_varlabels(labels)\n",
    "        #plt.show()\n",
    "\n",
    "        # Save the radar chart in the working directory\n",
    "        if save:\n",
    "            plt.savefig('Output/'+'Charts/'+str(int(cluster))+' of '+str(int(tot_clusters))+' radar-cluster.png',\n",
    "                        dpi=360)\n",
    "            \n",
    "        return\n",
    "\n",
    "    data_pre_copy = data[[num_of_clusters_field,cluster_id_field]+to_plot_fields]\n",
    "    \n",
    "    # Iterate for each group of clusters\n",
    "    for k in data_pre_copy[num_of_clusters_field].unique():\n",
    "        # Normalize clustering centroids\n",
    "        data_copy = data_pre_copy[(data_pre_copy[num_of_clusters_field] == k)]\n",
    "        del data_copy[num_of_clusters_field]\n",
    "        data_copy = data_copy.set_index(cluster_id_field)\n",
    "        clusters = data_copy.index.tolist()\n",
    "        for j in data_copy.columns.tolist():\n",
    "            mini = data_copy[j].min()\n",
    "            maxi = data_copy[j].max()\n",
    "            data_copy[j] = (data_copy[j] - mini) / (maxi - mini)\n",
    "    \n",
    "    \n",
    "        for i in clusters:    \n",
    "            values = data_copy.loc[i].tolist()\n",
    "            print values\n",
    "            print \"Cluster\", str(i)\n",
    "            radar_graph(labels, values, i, k)    \n",
    "    \n",
    "    return"
   ]
  },
  {
   "cell_type": "markdown",
   "metadata": {},
   "source": [
    "### Ajustar el modelo a nuestros datos "
   ]
  },
  {
   "cell_type": "code",
   "execution_count": 22,
   "metadata": {
    "collapsed": true
   },
   "outputs": [],
   "source": [
    "clusterer = hdbscan.HDBSCAN(min_cluster_size=20, gen_min_span_tree=True)"
   ]
  },
  {
   "cell_type": "code",
   "execution_count": null,
   "metadata": {},
   "outputs": [],
   "source": [
    "clusterer.fit(filtered_df)"
   ]
  },
  {
   "cell_type": "code",
   "execution_count": null,
   "metadata": {},
   "outputs": [],
   "source": [
    "filtered_df['labels'] = clusterer.labels_"
   ]
  },
  {
   "cell_type": "code",
   "execution_count": null,
   "metadata": {
    "collapsed": true
   },
   "outputs": [],
   "source": [
    "centroids = calculate_centroids(filtered_df, ['labels'],[])"
   ]
  },
  {
   "cell_type": "markdown",
   "metadata": {},
   "source": [
    "### Visualización de características de clusters/centroides "
   ]
  },
  {
   "cell_type": "markdown",
   "metadata": {},
   "source": [
    "centroids\n",
    "\n",
    "![Centroids](centroids.png)"
   ]
  },
  {
   "cell_type": "code",
   "execution_count": null,
   "metadata": {},
   "outputs": [],
   "source": [
    "radar_chart(centroids,'number_of_clusters', 'cluster_id', \n",
    "            ['PRIMARY_MAGNITUDE','TOTAL_DAMAGE_DESCRIPTION', 'FOCAL_DEPTH', 'MAXIMUM_WATER_HEIGHT'],\n",
    "           ['mag','dmg', 'depth', 'w_height'])"
   ]
  },
  {
   "cell_type": "markdown",
   "metadata": {},
   "source": [
    "![Radar-1](radar_-1.jpeg)"
   ]
  },
  {
   "cell_type": "markdown",
   "metadata": {},
   "source": [
    "![Radiar_0](radar_0.jpeg)"
   ]
  },
  {
   "cell_type": "markdown",
   "metadata": {},
   "source": [
    "![Radiar_1](radar_1.jpeg)"
   ]
  },
  {
   "cell_type": "code",
   "execution_count": null,
   "metadata": {},
   "outputs": [],
   "source": [
    "filtered_df[filtered_df['labels'] == -1].loc[:, :'EVENT_VALIDITY'].describe()"
   ]
  },
  {
   "cell_type": "markdown",
   "metadata": {},
   "source": [
    "Cluster -1 \n",
    "![centroids](Cluster-1.jpeg)"
   ]
  },
  {
   "cell_type": "code",
   "execution_count": null,
   "metadata": {},
   "outputs": [],
   "source": [
    "filtered_df[filtered_df['labels'] == 0].loc[:, :'EVENT_VALIDITY'].describe()"
   ]
  },
  {
   "cell_type": "markdown",
   "metadata": {},
   "source": [
    "Cluster 0 \n",
    "![centroids](Cluster0.jpeg)"
   ]
  },
  {
   "cell_type": "code",
   "execution_count": null,
   "metadata": {},
   "outputs": [],
   "source": [
    "filtered_df[filtered_df['labels'] == 1].loc[:, :'EVENT_VALIDITY'].describe()"
   ]
  },
  {
   "cell_type": "markdown",
   "metadata": {},
   "source": [
    "Cluster 1 \n",
    "![centroids](Cluster1.jpeg)"
   ]
  },
  {
   "cell_type": "markdown",
   "metadata": {},
   "source": [
    "Visualización de clusters\n",
    "![centroids](clusters_geo.jpeg)"
   ]
  },
  {
   "cell_type": "markdown",
   "metadata": {},
   "source": [
    "## Clasificación (Decision trees y Logistic regression) "
   ]
  },
  {
   "cell_type": "markdown",
   "metadata": {},
   "source": [
    "### Separación de data en training y test "
   ]
  },
  {
   "cell_type": "code",
   "execution_count": null,
   "metadata": {
    "collapsed": true
   },
   "outputs": [],
   "source": [
    "new_columns = [u'CAUSE_CODE',u'FOCAL_DEPTH',u'PRIMARY_MAGNITUDE', u'TOTAL_DAMAGE_DESCRIPTION', u'MAXIMUM_WATER_HEIGHT', u'EVENT_VALIDITY',u'labels']"
   ]
  },
  {
   "cell_type": "code",
   "execution_count": null,
   "metadata": {},
   "outputs": [],
   "source": [
    "new_df = filtered_df[new_columns]"
   ]
  },
  {
   "cell_type": "code",
   "execution_count": null,
   "metadata": {},
   "outputs": [],
   "source": [
    "from sklearn.model_selection import train_test_split\n",
    "X_train, X_test, y_train, y_test = train_test_split(new_df[[u'CAUSE_CODE',u'FOCAL_DEPTH',u'PRIMARY_MAGNITUDE', u'TOTAL_DAMAGE_DESCRIPTION', u'MAXIMUM_WATER_HEIGHT', u'EVENT_VALIDITY']].values, new_df[u'labels'].values, test_size=0.15, random_state=42)"
   ]
  },
  {
   "cell_type": "markdown",
   "metadata": {},
   "source": [
    "### Construcción de árbol  a partir de nuestra data "
   ]
  },
  {
   "cell_type": "code",
   "execution_count": null,
   "metadata": {
    "collapsed": true
   },
   "outputs": [],
   "source": [
    "from sklearn import tree\n",
    "q_niveles_arbol = 10\n",
    "clf = tree.DecisionTreeClassifier(criterion='entropy', max_depth = q_niveles_arbol)\n",
    "clf = clf.fit(X_train, y_train)"
   ]
  },
  {
   "cell_type": "markdown",
   "metadata": {},
   "source": [
    "### Visualización del árbol "
   ]
  },
  {
   "cell_type": "code",
   "execution_count": null,
   "metadata": {
    "collapsed": true
   },
   "outputs": [],
   "source": [
    "y_pred = clf.predict(X_test)"
   ]
  },
  {
   "cell_type": "code",
   "execution_count": null,
   "metadata": {
    "collapsed": true
   },
   "outputs": [],
   "source": [
    "import graphviz\n",
    "dot_data = tree.export_graphviz(clf, out_file=None) \n",
    "graph = graphviz.Source(dot_data)\n",
    "graph"
   ]
  },
  {
   "cell_type": "markdown",
   "metadata": {},
   "source": [
    "![centroids](tree.png)"
   ]
  },
  {
   "cell_type": "markdown",
   "metadata": {},
   "source": [
    "### Predicciones y validación del modelo "
   ]
  },
  {
   "cell_type": "code",
   "execution_count": null,
   "metadata": {},
   "outputs": [],
   "source": [
    "from sklearn.metrics import classification_report\n",
    "print(classification_report(y_test, y_pred))"
   ]
  },
  {
   "cell_type": "markdown",
   "metadata": {},
   "source": [
    "![centroids](report_tree.png)"
   ]
  },
  {
   "cell_type": "markdown",
   "metadata": {},
   "source": [
    "### Entrenamiento de regresión logísticas multinomial con nuestra data "
   ]
  },
  {
   "cell_type": "code",
   "execution_count": null,
   "metadata": {
    "collapsed": true
   },
   "outputs": [],
   "source": [
    "from sklearn.linear_model import LogisticRegression"
   ]
  },
  {
   "cell_type": "code",
   "execution_count": null,
   "metadata": {
    "collapsed": true
   },
   "outputs": [],
   "source": [
    "clf2 = LogisticRegression()\n",
    "clf2 = clf2.fit(X_train, y_train)"
   ]
  },
  {
   "cell_type": "markdown",
   "metadata": {},
   "source": [
    "### Predicciones y validación del modelo "
   ]
  },
  {
   "cell_type": "code",
   "execution_count": null,
   "metadata": {
    "collapsed": true
   },
   "outputs": [],
   "source": [
    "y_pred2 = clf2.predict(X_test)"
   ]
  },
  {
   "cell_type": "code",
   "execution_count": null,
   "metadata": {},
   "outputs": [],
   "source": [
    "from sklearn.metrics import classification_report\n",
    "print(classification_report(y_test, y_pred2))"
   ]
  },
  {
   "cell_type": "markdown",
   "metadata": {},
   "source": [
    "![centroids](report_LR.png)"
   ]
  },
  {
   "cell_type": "markdown",
   "metadata": {},
   "source": [
    "### Comparación de poder predictivo entre ambos modelos "
   ]
  },
  {
   "cell_type": "code",
   "execution_count": null,
   "metadata": {},
   "outputs": [],
   "source": [
    "%matplotlib inline\n",
    "import itertools\n",
    "import numpy as np\n",
    "import matplotlib.pyplot as plt\n",
    "from sklearn.model_selection import train_test_split\n",
    "from sklearn.metrics import confusion_matrix\n",
    "\n",
    "class_names = sorted(list(set(new_df[u'labels'].tolist())))\n",
    "import seaborn as sns\n",
    "\n",
    "def plot_confusion_matrix(cm, classes,\n",
    "                          normalize=False,\n",
    "                          title='Confusion matrix',\n",
    "                          cmap=sns.diverging_palette(220,10,as_cmap=True)):\n",
    "    \"\"\"\n",
    "    This function prints and plots the confusion matrix.\n",
    "    Normalization can be applied by setting `normalize=True`.\n",
    "    \"\"\"\n",
    "    if normalize:\n",
    "        cm = cm.astype('float') / cm.sum(axis=1)[:, np.newaxis]\n",
    "        print(\"Normalized confusion matrix\")\n",
    "    else:\n",
    "        print('Confusion matrix, without normalization')\n",
    "\n",
    "    print(cm)\n",
    "\n",
    "    plt.imshow(cm, interpolation='nearest', cmap=cmap)\n",
    "    plt.title(title)\n",
    "    plt.colorbar()\n",
    "    tick_marks = np.arange(len(classes))\n",
    "    plt.xticks(tick_marks, classes, rotation=45)\n",
    "    plt.yticks(tick_marks, classes)\n",
    "\n",
    "    fmt = '.2f' if normalize else 'd'\n",
    "    thresh = cm.max() / 2.\n",
    "    for i, j in itertools.product(range(cm.shape[0]), range(cm.shape[1])):\n",
    "        plt.text(j, i, format(cm[i, j], fmt),\n",
    "                 horizontalalignment=\"center\",\n",
    "                 color=\"white\" if cm[i, j] > thresh else \"black\")\n",
    "\n",
    "    plt.tight_layout()\n",
    "    plt.ylabel('True label')\n",
    "    plt.xlabel('Predicted label')"
   ]
  },
  {
   "cell_type": "code",
   "execution_count": null,
   "metadata": {
    "collapsed": true
   },
   "outputs": [],
   "source": [
    "# Plot normalized confusion matrix\n",
    "cnf_matrix = confusion_matrix(y_test, y_pred) \n",
    "plt.figure()\n",
    "plot_confusion_matrix(cnf_matrix, classes=class_names, normalize=True,\n",
    "                      title='Normalized confusion matrix')\n",
    "\n",
    "plt.show()"
   ]
  },
  {
   "cell_type": "markdown",
   "metadata": {},
   "source": [
    "![centroids](cf_tree.png)"
   ]
  },
  {
   "cell_type": "code",
   "execution_count": null,
   "metadata": {},
   "outputs": [],
   "source": [
    "# Compute confusion matrix\n",
    "cnf_matrix = confusion_matrix(y_test, y_pred2) \n",
    "np.set_printoptions(precision=2)\n",
    "\n",
    "# Plot normalized confusion matrix\n",
    "plt.figure()\n",
    "plot_confusion_matrix(cnf_matrix, classes=class_names, normalize=True,\n",
    "                      title='Normalized confusion matrix')\n",
    "\n",
    "plt.show()"
   ]
  },
  {
   "cell_type": "markdown",
   "metadata": {},
   "source": [
    "![centroids](cf_LR.png)"
   ]
  },
  {
   "cell_type": "markdown",
   "metadata": {},
   "source": [
    "# GRACIAS!  "
   ]
  }
 ],
 "metadata": {
  "anaconda-cloud": {},
  "kernelspec": {
   "display_name": "Python 3",
   "language": "python",
   "name": "python3"
  },
  "language_info": {
   "codemirror_mode": {
    "name": "ipython",
    "version": 3
   },
   "file_extension": ".py",
   "mimetype": "text/x-python",
   "name": "python",
   "nbconvert_exporter": "python",
   "pygments_lexer": "ipython3",
   "version": "3.6.3"
  }
 },
 "nbformat": 4,
 "nbformat_minor": 1
}
