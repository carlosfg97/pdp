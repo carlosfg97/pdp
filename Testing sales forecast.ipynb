{
 "cells": [
  {
   "cell_type": "code",
   "execution_count": 1,
   "metadata": {
    "collapsed": true
   },
   "outputs": [],
   "source": [
    "a = 2"
   ]
  },
  {
   "cell_type": "code",
   "execution_count": 2,
   "metadata": {},
   "outputs": [
    {
     "data": {
      "text/plain": [
       "2"
      ]
     },
     "execution_count": 2,
     "metadata": {},
     "output_type": "execute_result"
    }
   ],
   "source": [
    "a"
   ]
  },
  {
   "cell_type": "code",
   "execution_count": 3,
   "metadata": {},
   "outputs": [
    {
     "name": "stdout",
     "output_type": "stream",
     "text": [
      "scipy: 1.0.0\n",
      "numpy: 1.13.3\n",
      "matplotlib: 2.1.0\n",
      "pandas: 0.20.3\n",
      "sklearn: 0.19.1\n",
      "statsmodels: 0.8.0\n"
     ]
    }
   ],
   "source": [
    "# scipy\n",
    "import scipy\n",
    "print('scipy: %s' % scipy.__version__)\n",
    "# numpy\n",
    "import numpy\n",
    "print('numpy: %s' % numpy.__version__)\n",
    "# matplotlib\n",
    "import matplotlib\n",
    "print('matplotlib: %s' % matplotlib.__version__)\n",
    "# pandas\n",
    "import pandas\n",
    "print('pandas: %s' % pandas.__version__)\n",
    "# scikit-learn\n",
    "import sklearn\n",
    "print('sklearn: %s' % sklearn.__version__)\n",
    "# statsmodels\n",
    "import statsmodels\n",
    "print('statsmodels: %s' % statsmodels.__version__)"
   ]
  },
  {
   "cell_type": "code",
   "execution_count": 4,
   "metadata": {},
   "outputs": [
    {
     "name": "stdout",
     "output_type": "stream",
     "text": [
      "dataset 94, validation 12\n"
     ]
    }
   ],
   "source": [
    "from pandas import Series \n",
    "series = Series.from_csv('champagne.csv', header=0)\n",
    "split_point = len(series)-12\n",
    "dataset, validation = series[0:split_point], series[split_point:]\n",
    "print('dataset %d, validation %d' % (len(dataset), len(validation)))\n",
    "dataset.to_csv('dataset.csv')\n",
    "validation.to_csv('validation.csv')\n"
   ]
  },
  {
   "cell_type": "code",
   "execution_count": 5,
   "metadata": {},
   "outputs": [
    {
     "data": {
      "text/plain": [
       "Month\n",
       "1964-01     2815.0\n",
       "1964-02     2672.0\n",
       "1964-03     2755.0\n",
       "1964-04     2721.0\n",
       "1964-05     2946.0\n",
       "1964-06     3036.0\n",
       "1964-07     2282.0\n",
       "1964-08     2212.0\n",
       "1964-09     2922.0\n",
       "1964-10     4301.0\n",
       "1964-11     5764.0\n",
       "1964-12     7312.0\n",
       "1965-01     2541.0\n",
       "1965-02     2475.0\n",
       "1965-03     3031.0\n",
       "1965-04     3266.0\n",
       "1965-05     3776.0\n",
       "1965-06     3230.0\n",
       "1965-07     3028.0\n",
       "1965-08     1759.0\n",
       "1965-09     3595.0\n",
       "1965-10     4474.0\n",
       "1965-11     6838.0\n",
       "1965-12     8357.0\n",
       "1966-01     3113.0\n",
       "1966-02     3006.0\n",
       "1966-03     4047.0\n",
       "1966-04     3523.0\n",
       "1966-05     3937.0\n",
       "1966-06     3986.0\n",
       "            ...   \n",
       "1969-05     4968.0\n",
       "1969-06     4677.0\n",
       "1969-07     3523.0\n",
       "1969-08     1821.0\n",
       "1969-09     5222.0\n",
       "1969-10     6872.0\n",
       "1969-11    10803.0\n",
       "1969-12    13916.0\n",
       "1970-01     2639.0\n",
       "1970-02     2899.0\n",
       "1970-03     3370.0\n",
       "1970-04     3740.0\n",
       "1970-05     2927.0\n",
       "1970-06     3986.0\n",
       "1970-07     4217.0\n",
       "1970-08     1738.0\n",
       "1970-09     5221.0\n",
       "1970-10     6424.0\n",
       "1970-11     9842.0\n",
       "1970-12    13076.0\n",
       "1971-01     3934.0\n",
       "1971-02     3162.0\n",
       "1971-03     4286.0\n",
       "1971-04     4676.0\n",
       "1971-05     5010.0\n",
       "1971-06     4874.0\n",
       "1971-07     4633.0\n",
       "1971-08     1659.0\n",
       "1971-09     5951.0\n",
       "1971-10     6981.0\n",
       "Name: Perrin Freres monthly champagne sales millions ?64-?72, Length: 94, dtype: float64"
      ]
     },
     "execution_count": 5,
     "metadata": {},
     "output_type": "execute_result"
    }
   ],
   "source": [
    "dataset"
   ]
  },
  {
   "cell_type": "code",
   "execution_count": 6,
   "metadata": {},
   "outputs": [
    {
     "ename": "NameError",
     "evalue": "name 'summary' is not defined",
     "output_type": "error",
     "traceback": [
      "\u001b[1;31m---------------------------------------------------------------------------\u001b[0m",
      "\u001b[1;31mNameError\u001b[0m                                 Traceback (most recent call last)",
      "\u001b[1;32m<ipython-input-6-d30575f1322a>\u001b[0m in \u001b[0;36m<module>\u001b[1;34m()\u001b[0m\n\u001b[1;32m----> 1\u001b[1;33m \u001b[0msummary\u001b[0m\u001b[1;33m(\u001b[0m\u001b[0mdataset\u001b[0m\u001b[1;33m)\u001b[0m\u001b[1;33m\u001b[0m\u001b[0m\n\u001b[0m",
      "\u001b[1;31mNameError\u001b[0m: name 'summary' is not defined"
     ]
    }
   ],
   "source": [
    "summary(dataset)"
   ]
  },
  {
   "cell_type": "code",
   "execution_count": 7,
   "metadata": {},
   "outputs": [
    {
     "data": {
      "text/plain": [
       "pandas.core.series.Series"
      ]
     },
     "execution_count": 7,
     "metadata": {},
     "output_type": "execute_result"
    }
   ],
   "source": [
    "type(dataset)"
   ]
  },
  {
   "cell_type": "code",
   "execution_count": 8,
   "metadata": {
    "collapsed": true
   },
   "outputs": [],
   "source": [
    "\n",
    "X = series.values\n",
    "X = X.astype('float32')\n",
    "train_size = int(len(X) * 0.50)\n",
    "train, test = X[0:train_size], X[train_size:]"
   ]
  },
  {
   "cell_type": "code",
   "execution_count": 10,
   "metadata": {},
   "outputs": [
    {
     "data": {
      "text/plain": [
       "array([  2815.,   2672.,   2755.,   2721.,   2946.,   3036.,   2282.,\n",
       "         2212.,   2922.,   4301.,   5764.,   7312.,   2541.,   2475.,\n",
       "         3031.,   3266.,   3776.,   3230.,   3028.,   1759.,   3595.,\n",
       "         4474.,   6838.,   8357.,   3113.,   3006.,   4047.,   3523.,\n",
       "         3937.,   3986.,   3260.,   1573.,   3528.,   5211.,   7614.,\n",
       "         9254.,   5375.,   3088.,   3718.,   4514.,   4520.,   4539.,\n",
       "         3663.,   1643.,   4739.,   5428.,   8314.,  10651.,   3633.,\n",
       "         4292.,   4154.,   4121.,   4647.,   4753.,   3965.,   1723.,\n",
       "         5048.,   6922.,   9858.,  11331.,   4016.,   3957.,   4510.,\n",
       "         4276.,   4968.,   4677.,   3523.,   1821.,   5222.,   6872.,\n",
       "        10803.,  13916.,   2639.,   2899.,   3370.,   3740.,   2927.,\n",
       "         3986.,   4217.,   1738.,   5221.,   6424.,   9842.,  13076.,\n",
       "         3934.,   3162.,   4286.,   4676.,   5010.,   4874.,   4633.,\n",
       "         1659.,   5951.,   6981.,   9851.,  12670.,   4348.,   3564.,\n",
       "         4577.,   4788.,   4618.,   5312.,   4298.,   1413.,   5877.,\n",
       "           nan], dtype=float32)"
      ]
     },
     "execution_count": 10,
     "metadata": {},
     "output_type": "execute_result"
    }
   ],
   "source": [
    "X"
   ]
  },
  {
   "cell_type": "code",
   "execution_count": 12,
   "metadata": {
    "collapsed": true
   },
   "outputs": [],
   "source": [
    "history = [x for x in train]\n",
    "predictions = list()"
   ]
  },
  {
   "cell_type": "code",
   "execution_count": 15,
   "metadata": {},
   "outputs": [
    {
     "name": "stdout",
     "output_type": "stream",
     "text": [
      "Predited=4647.000, Expected=4753\n",
      "Predited=4753.000, Expected=3965\n",
      "Predited=3965.000, Expected=1723\n",
      "Predited=1723.000, Expected=5048\n",
      "Predited=5048.000, Expected=6922\n",
      "Predited=6922.000, Expected=9858\n",
      "Predited=9858.000, Expected=11331\n",
      "Predited=11331.000, Expected=4016\n",
      "Predited=4016.000, Expected=3957\n",
      "Predited=3957.000, Expected=4510\n",
      "Predited=4510.000, Expected=4276\n",
      "Predited=4276.000, Expected=4968\n",
      "Predited=4968.000, Expected=4677\n",
      "Predited=4677.000, Expected=3523\n",
      "Predited=3523.000, Expected=1821\n",
      "Predited=1821.000, Expected=5222\n",
      "Predited=5222.000, Expected=6872\n",
      "Predited=6872.000, Expected=10803\n",
      "Predited=10803.000, Expected=13916\n",
      "Predited=13916.000, Expected=2639\n",
      "Predited=2639.000, Expected=2899\n",
      "Predited=2899.000, Expected=3370\n",
      "Predited=3370.000, Expected=3740\n",
      "Predited=3740.000, Expected=2927\n",
      "Predited=2927.000, Expected=3986\n",
      "Predited=3986.000, Expected=4217\n",
      "Predited=4217.000, Expected=1738\n",
      "Predited=1738.000, Expected=5221\n",
      "Predited=5221.000, Expected=6424\n",
      "Predited=6424.000, Expected=9842\n",
      "Predited=9842.000, Expected=13076\n",
      "Predited=13076.000, Expected=3934\n",
      "Predited=3934.000, Expected=3162\n",
      "Predited=3162.000, Expected=4286\n",
      "Predited=4286.000, Expected=4676\n",
      "Predited=4676.000, Expected=5010\n",
      "Predited=5010.000, Expected=4874\n",
      "Predited=4874.000, Expected=4633\n",
      "Predited=4633.000, Expected=1659\n",
      "Predited=1659.000, Expected=5951\n",
      "Predited=5951.000, Expected=6981\n",
      "Predited=6981.000, Expected=9851\n",
      "Predited=9851.000, Expected=12670\n",
      "Predited=12670.000, Expected=4348\n",
      "Predited=4348.000, Expected=3564\n",
      "Predited=3564.000, Expected=4577\n",
      "Predited=4577.000, Expected=4788\n",
      "Predited=4788.000, Expected=4618\n",
      "Predited=4618.000, Expected=5312\n",
      "Predited=5312.000, Expected=4298\n",
      "Predited=4298.000, Expected=1413\n",
      "Predited=1413.000, Expected=5877\n",
      "Predited=5877.000, Expected=nan\n"
     ]
    }
   ],
   "source": [
    "for i in range(len(test)):\n",
    "    yhat = history[-1]\n",
    "    predictions.append(yhat)\n",
    "    obs = test[i]\n",
    "    history.append(obs)\n",
    "    print('Predited=%.3f, Expected=%3.f' % (yhat, obs))\n"
   ]
  },
  {
   "cell_type": "code",
   "execution_count": 17,
   "metadata": {},
   "outputs": [
    {
     "ename": "ValueError",
     "evalue": "Input contains NaN, infinity or a value too large for dtype('float32').",
     "output_type": "error",
     "traceback": [
      "\u001b[1;31m---------------------------------------------------------------------------\u001b[0m",
      "\u001b[1;31mValueError\u001b[0m                                Traceback (most recent call last)",
      "\u001b[1;32m<ipython-input-17-26c33d27bed8>\u001b[0m in \u001b[0;36m<module>\u001b[1;34m()\u001b[0m\n\u001b[0;32m      1\u001b[0m \u001b[1;32mfrom\u001b[0m \u001b[0msklearn\u001b[0m\u001b[1;33m.\u001b[0m\u001b[0mmetrics\u001b[0m \u001b[1;32mimport\u001b[0m \u001b[0mmean_squared_error\u001b[0m\u001b[1;33m\u001b[0m\u001b[0m\n\u001b[0;32m      2\u001b[0m \u001b[1;32mfrom\u001b[0m \u001b[0mmath\u001b[0m \u001b[1;32mimport\u001b[0m \u001b[0msqrt\u001b[0m\u001b[1;33m\u001b[0m\u001b[0m\n\u001b[1;32m----> 3\u001b[1;33m \u001b[0mmse\u001b[0m \u001b[1;33m=\u001b[0m \u001b[0mmean_squared_error\u001b[0m\u001b[1;33m(\u001b[0m\u001b[0mtest\u001b[0m\u001b[1;33m,\u001b[0m \u001b[0mpredictions\u001b[0m\u001b[1;33m)\u001b[0m\u001b[1;33m\u001b[0m\u001b[0m\n\u001b[0m\u001b[0;32m      4\u001b[0m \u001b[0mrmse\u001b[0m \u001b[1;33m=\u001b[0m \u001b[0msqrt\u001b[0m\u001b[1;33m(\u001b[0m\u001b[0mmse\u001b[0m\u001b[1;33m)\u001b[0m\u001b[1;33m\u001b[0m\u001b[0m\n",
      "\u001b[1;32m~\\Anaconda3\\lib\\site-packages\\sklearn\\metrics\\regression.py\u001b[0m in \u001b[0;36mmean_squared_error\u001b[1;34m(y_true, y_pred, sample_weight, multioutput)\u001b[0m\n\u001b[0;32m    236\u001b[0m     \"\"\"\n\u001b[0;32m    237\u001b[0m     y_type, y_true, y_pred, multioutput = _check_reg_targets(\n\u001b[1;32m--> 238\u001b[1;33m         y_true, y_pred, multioutput)\n\u001b[0m\u001b[0;32m    239\u001b[0m     output_errors = np.average((y_true - y_pred) ** 2, axis=0,\n\u001b[0;32m    240\u001b[0m                                weights=sample_weight)\n",
      "\u001b[1;32m~\\Anaconda3\\lib\\site-packages\\sklearn\\metrics\\regression.py\u001b[0m in \u001b[0;36m_check_reg_targets\u001b[1;34m(y_true, y_pred, multioutput)\u001b[0m\n\u001b[0;32m     74\u001b[0m     \"\"\"\n\u001b[0;32m     75\u001b[0m     \u001b[0mcheck_consistent_length\u001b[0m\u001b[1;33m(\u001b[0m\u001b[0my_true\u001b[0m\u001b[1;33m,\u001b[0m \u001b[0my_pred\u001b[0m\u001b[1;33m)\u001b[0m\u001b[1;33m\u001b[0m\u001b[0m\n\u001b[1;32m---> 76\u001b[1;33m     \u001b[0my_true\u001b[0m \u001b[1;33m=\u001b[0m \u001b[0mcheck_array\u001b[0m\u001b[1;33m(\u001b[0m\u001b[0my_true\u001b[0m\u001b[1;33m,\u001b[0m \u001b[0mensure_2d\u001b[0m\u001b[1;33m=\u001b[0m\u001b[1;32mFalse\u001b[0m\u001b[1;33m)\u001b[0m\u001b[1;33m\u001b[0m\u001b[0m\n\u001b[0m\u001b[0;32m     77\u001b[0m     \u001b[0my_pred\u001b[0m \u001b[1;33m=\u001b[0m \u001b[0mcheck_array\u001b[0m\u001b[1;33m(\u001b[0m\u001b[0my_pred\u001b[0m\u001b[1;33m,\u001b[0m \u001b[0mensure_2d\u001b[0m\u001b[1;33m=\u001b[0m\u001b[1;32mFalse\u001b[0m\u001b[1;33m)\u001b[0m\u001b[1;33m\u001b[0m\u001b[0m\n\u001b[0;32m     78\u001b[0m \u001b[1;33m\u001b[0m\u001b[0m\n",
      "\u001b[1;32m~\\Anaconda3\\lib\\site-packages\\sklearn\\utils\\validation.py\u001b[0m in \u001b[0;36mcheck_array\u001b[1;34m(array, accept_sparse, dtype, order, copy, force_all_finite, ensure_2d, allow_nd, ensure_min_samples, ensure_min_features, warn_on_dtype, estimator)\u001b[0m\n\u001b[0;32m    451\u001b[0m                              % (array.ndim, estimator_name))\n\u001b[0;32m    452\u001b[0m         \u001b[1;32mif\u001b[0m \u001b[0mforce_all_finite\u001b[0m\u001b[1;33m:\u001b[0m\u001b[1;33m\u001b[0m\u001b[0m\n\u001b[1;32m--> 453\u001b[1;33m             \u001b[0m_assert_all_finite\u001b[0m\u001b[1;33m(\u001b[0m\u001b[0marray\u001b[0m\u001b[1;33m)\u001b[0m\u001b[1;33m\u001b[0m\u001b[0m\n\u001b[0m\u001b[0;32m    454\u001b[0m \u001b[1;33m\u001b[0m\u001b[0m\n\u001b[0;32m    455\u001b[0m     \u001b[0mshape_repr\u001b[0m \u001b[1;33m=\u001b[0m \u001b[0m_shape_repr\u001b[0m\u001b[1;33m(\u001b[0m\u001b[0marray\u001b[0m\u001b[1;33m.\u001b[0m\u001b[0mshape\u001b[0m\u001b[1;33m)\u001b[0m\u001b[1;33m\u001b[0m\u001b[0m\n",
      "\u001b[1;32m~\\Anaconda3\\lib\\site-packages\\sklearn\\utils\\validation.py\u001b[0m in \u001b[0;36m_assert_all_finite\u001b[1;34m(X)\u001b[0m\n\u001b[0;32m     42\u001b[0m             and not np.isfinite(X).all()):\n\u001b[0;32m     43\u001b[0m         raise ValueError(\"Input contains NaN, infinity\"\n\u001b[1;32m---> 44\u001b[1;33m                          \" or a value too large for %r.\" % X.dtype)\n\u001b[0m\u001b[0;32m     45\u001b[0m \u001b[1;33m\u001b[0m\u001b[0m\n\u001b[0;32m     46\u001b[0m \u001b[1;33m\u001b[0m\u001b[0m\n",
      "\u001b[1;31mValueError\u001b[0m: Input contains NaN, infinity or a value too large for dtype('float32')."
     ]
    }
   ],
   "source": [
    "from sklearn.metrics import mean_squared_error\n",
    "from math import sqrt\n",
    "mse = mean_squared_error(test, predictions)\n",
    "rmse = sqrt(mse)"
   ]
  },
  {
   "cell_type": "code",
   "execution_count": null,
   "metadata": {
    "collapsed": true
   },
   "outputs": [],
   "source": []
  }
 ],
 "metadata": {
  "kernelspec": {
   "display_name": "Python 3",
   "language": "python",
   "name": "python3"
  },
  "language_info": {
   "codemirror_mode": {
    "name": "ipython",
    "version": 3
   },
   "file_extension": ".py",
   "mimetype": "text/x-python",
   "name": "python",
   "nbconvert_exporter": "python",
   "pygments_lexer": "ipython3",
   "version": "3.6.3"
  }
 },
 "nbformat": 4,
 "nbformat_minor": 2
}
