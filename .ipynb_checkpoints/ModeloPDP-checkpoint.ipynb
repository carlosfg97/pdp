{
 "cells": [
  {
   "cell_type": "markdown",
   "metadata": {},
   "source": [
    "# Caida de P$P (Guatemala)"
   ]
  },
  {
   "cell_type": "markdown",
   "metadata": {},
   "source": [
    "## Conexión con AWS300"
   ]
  },
  {
   "cell_type": "code",
   "execution_count": 3,
   "metadata": {
    "collapsed": true
   },
   "outputs": [],
   "source": [
    "import pandas as pd\n",
    "import pyodbc\n",
    "import warnings\n",
    "warnings.filterwarnings('ignore')\n",
    "\n",
    "conn = pyodbc.connect('DRIVER={SQL Server Native Client 11.0};SERVER=AWNTS300;DATABASE=DATALAB;UID=usrdm;PWD=dm$2Admin4')"
   ]
  },
  {
   "cell_type": "code",
   "execution_count": 5,
   "metadata": {
    "collapsed": true
   },
   "outputs": [],
   "source": [
    " #Falta afinar para que sea por país y por campaña\n",
    "df = pd.read_sql(\"select * from [dbo].[CR_INPUT1_PDP]\" , conn)\n",
    "writer = pd.ExcelWriter('output.xlsx')\n",
    "df.to_excel(writer,'Sheet1')\n",
    "writer.save()"
   ]
  },
  {
   "cell_type": "code",
   "execution_count": 4,
   "metadata": {},
   "outputs": [
    {
     "data": {
      "text/html": [
       "<div>\n",
       "<style>\n",
       "    .dataframe thead tr:only-child th {\n",
       "        text-align: right;\n",
       "    }\n",
       "\n",
       "    .dataframe thead th {\n",
       "        text-align: left;\n",
       "    }\n",
       "\n",
       "    .dataframe tbody tr th {\n",
       "        vertical-align: top;\n",
       "    }\n",
       "</style>\n",
       "<table border=\"1\" class=\"dataframe\">\n",
       "  <thead>\n",
       "    <tr style=\"text-align: right;\">\n",
       "      <th></th>\n",
       "      <th>Pkebelista</th>\n",
       "      <th>v201711</th>\n",
       "      <th>v201712</th>\n",
       "      <th>v201713</th>\n",
       "      <th>v201715</th>\n",
       "      <th>Pedidos_ult_18camp</th>\n",
       "      <th>DecilAñoAnterior</th>\n",
       "      <th>PMNPAñoAnterior</th>\n",
       "      <th>DecilCampAnterior</th>\n",
       "      <th>PMNPCampAnterior</th>\n",
       "      <th>...</th>\n",
       "      <th>ppu201713</th>\n",
       "      <th>Q201711</th>\n",
       "      <th>Q201712</th>\n",
       "      <th>Q201713</th>\n",
       "      <th>FlagIpUnicoZona</th>\n",
       "      <th>pd201711</th>\n",
       "      <th>pd201712</th>\n",
       "      <th>pd201713</th>\n",
       "      <th>CodComportamientoRolling</th>\n",
       "      <th>FechaNacimiento</th>\n",
       "    </tr>\n",
       "  </thead>\n",
       "  <tbody>\n",
       "    <tr>\n",
       "      <th>0</th>\n",
       "      <td>245726</td>\n",
       "      <td>26628.379925</td>\n",
       "      <td>28062.429781</td>\n",
       "      <td>20703.969954</td>\n",
       "      <td>55986.529604</td>\n",
       "      <td>9</td>\n",
       "      <td>NaN</td>\n",
       "      <td>NaN</td>\n",
       "      <td>4</td>\n",
       "      <td>20703.969954</td>\n",
       "      <td>...</td>\n",
       "      <td>79.325555</td>\n",
       "      <td>15</td>\n",
       "      <td>17</td>\n",
       "      <td>9</td>\n",
       "      <td>0</td>\n",
       "      <td>0</td>\n",
       "      <td>0</td>\n",
       "      <td>0</td>\n",
       "      <td>5</td>\n",
       "      <td>1973-12-03</td>\n",
       "    </tr>\n",
       "    <tr>\n",
       "      <th>1</th>\n",
       "      <td>247412</td>\n",
       "      <td>36262.499485</td>\n",
       "      <td>37686.600151</td>\n",
       "      <td>15762.899895</td>\n",
       "      <td>44087.399969</td>\n",
       "      <td>12</td>\n",
       "      <td>NaN</td>\n",
       "      <td>NaN</td>\n",
       "      <td>6</td>\n",
       "      <td>15762.899895</td>\n",
       "      <td>...</td>\n",
       "      <td>52.543000</td>\n",
       "      <td>17</td>\n",
       "      <td>18</td>\n",
       "      <td>10</td>\n",
       "      <td>0</td>\n",
       "      <td>0</td>\n",
       "      <td>0</td>\n",
       "      <td>0</td>\n",
       "      <td>6</td>\n",
       "      <td>1997-08-04</td>\n",
       "    </tr>\n",
       "    <tr>\n",
       "      <th>2</th>\n",
       "      <td>258294</td>\n",
       "      <td>12952.319824</td>\n",
       "      <td>18401.280151</td>\n",
       "      <td>15154.239990</td>\n",
       "      <td>23932.479980</td>\n",
       "      <td>12</td>\n",
       "      <td>7.0</td>\n",
       "      <td>17854.506470</td>\n",
       "      <td>7</td>\n",
       "      <td>15154.239990</td>\n",
       "      <td>...</td>\n",
       "      <td>67.652857</td>\n",
       "      <td>6</td>\n",
       "      <td>9</td>\n",
       "      <td>7</td>\n",
       "      <td>0</td>\n",
       "      <td>0</td>\n",
       "      <td>0</td>\n",
       "      <td>0</td>\n",
       "      <td>7</td>\n",
       "      <td>1964-06-14</td>\n",
       "    </tr>\n",
       "    <tr>\n",
       "      <th>3</th>\n",
       "      <td>258551</td>\n",
       "      <td>12660.479858</td>\n",
       "      <td>12619.199707</td>\n",
       "      <td>15199.359924</td>\n",
       "      <td>15979.199829</td>\n",
       "      <td>16</td>\n",
       "      <td>4.0</td>\n",
       "      <td>22915.108538</td>\n",
       "      <td>7</td>\n",
       "      <td>15199.359924</td>\n",
       "      <td>...</td>\n",
       "      <td>94.996000</td>\n",
       "      <td>5</td>\n",
       "      <td>2</td>\n",
       "      <td>5</td>\n",
       "      <td>0</td>\n",
       "      <td>0</td>\n",
       "      <td>0</td>\n",
       "      <td>0</td>\n",
       "      <td>6</td>\n",
       "      <td>1990-10-06</td>\n",
       "    </tr>\n",
       "    <tr>\n",
       "      <th>4</th>\n",
       "      <td>260409</td>\n",
       "      <td>24095.040161</td>\n",
       "      <td>18920.319946</td>\n",
       "      <td>19564.800110</td>\n",
       "      <td>13748.799805</td>\n",
       "      <td>18</td>\n",
       "      <td>5.0</td>\n",
       "      <td>21650.453089</td>\n",
       "      <td>4</td>\n",
       "      <td>19564.800110</td>\n",
       "      <td>...</td>\n",
       "      <td>76.425000</td>\n",
       "      <td>12</td>\n",
       "      <td>12</td>\n",
       "      <td>8</td>\n",
       "      <td>1</td>\n",
       "      <td>0</td>\n",
       "      <td>0</td>\n",
       "      <td>0</td>\n",
       "      <td>5</td>\n",
       "      <td>1990-02-11</td>\n",
       "    </tr>\n",
       "  </tbody>\n",
       "</table>\n",
       "<p>5 rows × 25 columns</p>\n",
       "</div>"
      ],
      "text/plain": [
       "   Pkebelista       v201711       v201712       v201713       v201715  \\\n",
       "0      245726  26628.379925  28062.429781  20703.969954  55986.529604   \n",
       "1      247412  36262.499485  37686.600151  15762.899895  44087.399969   \n",
       "2      258294  12952.319824  18401.280151  15154.239990  23932.479980   \n",
       "3      258551  12660.479858  12619.199707  15199.359924  15979.199829   \n",
       "4      260409  24095.040161  18920.319946  19564.800110  13748.799805   \n",
       "\n",
       "   Pedidos_ult_18camp  DecilAñoAnterior  PMNPAñoAnterior  DecilCampAnterior  \\\n",
       "0                   9               NaN              NaN                  4   \n",
       "1                  12               NaN              NaN                  6   \n",
       "2                  12               7.0     17854.506470                  7   \n",
       "3                  16               4.0     22915.108538                  7   \n",
       "4                  18               5.0     21650.453089                  4   \n",
       "\n",
       "   PMNPCampAnterior       ...         ppu201713  Q201711  Q201712  Q201713  \\\n",
       "0      20703.969954       ...         79.325555       15       17        9   \n",
       "1      15762.899895       ...         52.543000       17       18       10   \n",
       "2      15154.239990       ...         67.652857        6        9        7   \n",
       "3      15199.359924       ...         94.996000        5        2        5   \n",
       "4      19564.800110       ...         76.425000       12       12        8   \n",
       "\n",
       "   FlagIpUnicoZona  pd201711  pd201712  pd201713  CodComportamientoRolling  \\\n",
       "0                0         0         0         0                         5   \n",
       "1                0         0         0         0                         6   \n",
       "2                0         0         0         0                         7   \n",
       "3                0         0         0         0                         6   \n",
       "4                1         0         0         0                         5   \n",
       "\n",
       "   FechaNacimiento  \n",
       "0       1973-12-03  \n",
       "1       1997-08-04  \n",
       "2       1964-06-14  \n",
       "3       1990-10-06  \n",
       "4       1990-02-11  \n",
       "\n",
       "[5 rows x 25 columns]"
      ]
     },
     "execution_count": 4,
     "metadata": {},
     "output_type": "execute_result"
    }
   ],
   "source": [
    "df.head()"
   ]
  },
  {
   "cell_type": "code",
   "execution_count": 5,
   "metadata": {},
   "outputs": [
    {
     "name": "stdout",
     "output_type": "stream",
     "text": [
      "La base de datos cuenta con 15605 filas y 25 columnas.\n"
     ]
    }
   ],
   "source": [
    "print('La base de datos cuenta con ' + str(df.shape[0]) + ' filas y ' \n",
    "      + str(df.shape[1]) +' columnas.')"
   ]
  },
  {
   "cell_type": "code",
   "execution_count": 6,
   "metadata": {
    "collapsed": true
   },
   "outputs": [],
   "source": [
    "#Eliminamos las filas que contengan valores NULL en campos donde no deberían tener.\n",
    "\n",
    "df = df.dropna(axis=0, how='all', subset=['FechaNacimiento'])"
   ]
  },
  {
   "cell_type": "code",
   "execution_count": 7,
   "metadata": {
    "collapsed": true
   },
   "outputs": [],
   "source": [
    "def PromVariacion (num1, num2, num3):\n",
    "    var1 = ((num2/num1)-1)\n",
    "    var2 = ((num3/num2)-1)\n",
    "    PromVar = (var1+var2)/2\n",
    "    return PromVar*100\n"
   ]
  },
  {
   "cell_type": "code",
   "execution_count": 8,
   "metadata": {
    "collapsed": true
   },
   "outputs": [],
   "source": [
    "df['VarVentas3Camp'] = PromVariacion(df.v201711,df.v201712,df.v201713)\n",
    "df['VarMCT3Camp'] =PromVariacion(df.mct201711,df.mct201712,df.mct201713)\n",
    "df['VarPPU3Camp'] =PromVariacion(df.ppu201711,df.ppu201712,df.ppu201713)\n",
    "df['VarPPU3Camp'] =PromVariacion(df.Q201711,df.Q201712,df.Q201713)\n",
    "df['PD3Camp'] = df.pd201711 + df.pd201712 +df.pd201713\n",
    "df['Target'] = (df.v201715/df.v201713 -1)*100\n"
   ]
  },
  {
   "cell_type": "code",
   "execution_count": 9,
   "metadata": {
    "collapsed": true
   },
   "outputs": [],
   "source": [
    "df1 = df.drop(['v201711', 'v201712','v201713','v201715','mct201711','mct201712','mct201713','ppu201711','ppu201712','ppu201713',\n",
    "               'Q201711', 'Q201712', 'Q201713', 'pd201711', 'pd201712', 'pd201713'], axis=1)\n"
   ]
  },
  {
   "cell_type": "code",
   "execution_count": 10,
   "metadata": {},
   "outputs": [
    {
     "data": {
      "text/html": [
       "<div>\n",
       "<style>\n",
       "    .dataframe thead tr:only-child th {\n",
       "        text-align: right;\n",
       "    }\n",
       "\n",
       "    .dataframe thead th {\n",
       "        text-align: left;\n",
       "    }\n",
       "\n",
       "    .dataframe tbody tr th {\n",
       "        vertical-align: top;\n",
       "    }\n",
       "</style>\n",
       "<table border=\"1\" class=\"dataframe\">\n",
       "  <thead>\n",
       "    <tr style=\"text-align: right;\">\n",
       "      <th></th>\n",
       "      <th>Tipo de dato</th>\n",
       "    </tr>\n",
       "  </thead>\n",
       "  <tbody>\n",
       "    <tr>\n",
       "      <th>Pkebelista</th>\n",
       "      <td>int64</td>\n",
       "    </tr>\n",
       "    <tr>\n",
       "      <th>Pedidos_ult_18camp</th>\n",
       "      <td>int64</td>\n",
       "    </tr>\n",
       "    <tr>\n",
       "      <th>DecilAñoAnterior</th>\n",
       "      <td>float64</td>\n",
       "    </tr>\n",
       "    <tr>\n",
       "      <th>PMNPAñoAnterior</th>\n",
       "      <td>float64</td>\n",
       "    </tr>\n",
       "    <tr>\n",
       "      <th>DecilCampAnterior</th>\n",
       "      <td>int64</td>\n",
       "    </tr>\n",
       "    <tr>\n",
       "      <th>PMNPCampAnterior</th>\n",
       "      <td>float64</td>\n",
       "    </tr>\n",
       "    <tr>\n",
       "      <th>FlagIpUnicoZona</th>\n",
       "      <td>int64</td>\n",
       "    </tr>\n",
       "    <tr>\n",
       "      <th>CodComportamientoRolling</th>\n",
       "      <td>int64</td>\n",
       "    </tr>\n",
       "    <tr>\n",
       "      <th>FechaNacimiento</th>\n",
       "      <td>datetime64[ns]</td>\n",
       "    </tr>\n",
       "    <tr>\n",
       "      <th>VarVentas3Camp</th>\n",
       "      <td>float64</td>\n",
       "    </tr>\n",
       "    <tr>\n",
       "      <th>VarMCT3Camp</th>\n",
       "      <td>float64</td>\n",
       "    </tr>\n",
       "    <tr>\n",
       "      <th>VarPPU3Camp</th>\n",
       "      <td>float64</td>\n",
       "    </tr>\n",
       "    <tr>\n",
       "      <th>PD3Camp</th>\n",
       "      <td>int64</td>\n",
       "    </tr>\n",
       "    <tr>\n",
       "      <th>Target</th>\n",
       "      <td>float64</td>\n",
       "    </tr>\n",
       "  </tbody>\n",
       "</table>\n",
       "</div>"
      ],
      "text/plain": [
       "                            Tipo de dato\n",
       "Pkebelista                         int64\n",
       "Pedidos_ult_18camp                 int64\n",
       "DecilAñoAnterior                 float64\n",
       "PMNPAñoAnterior                  float64\n",
       "DecilCampAnterior                  int64\n",
       "PMNPCampAnterior                 float64\n",
       "FlagIpUnicoZona                    int64\n",
       "CodComportamientoRolling           int64\n",
       "FechaNacimiento           datetime64[ns]\n",
       "VarVentas3Camp                   float64\n",
       "VarMCT3Camp                      float64\n",
       "VarPPU3Camp                      float64\n",
       "PD3Camp                            int64\n",
       "Target                           float64"
      ]
     },
     "execution_count": 10,
     "metadata": {},
     "output_type": "execute_result"
    }
   ],
   "source": [
    "pd.DataFrame(df1.dtypes, columns = ['Tipo de dato'])"
   ]
  },
  {
   "cell_type": "code",
   "execution_count": 47,
   "metadata": {},
   "outputs": [
    {
     "data": {
      "text/plain": [
       "0    8748\n",
       "1    6855\n",
       "Name: TargetBinary, dtype: int64"
      ]
     },
     "execution_count": 47,
     "metadata": {},
     "output_type": "execute_result"
    }
   ],
   "source": [
    "import numpy as np\n",
    "\n",
    "df1['TargetBinary'] = np.where(df1['Target']<-10, 1, 0)\n",
    "\n",
    "df1['TargetBinary'].value_counts(normalize=False, sort=True, ascending=False, bins=None, dropna=True)"
   ]
  },
  {
   "cell_type": "code",
   "execution_count": 12,
   "metadata": {
    "collapsed": true
   },
   "outputs": [],
   "source": [
    "import datetime as DT\n",
    "import io\n",
    "\n",
    "now = pd.Timestamp(DT.datetime.now())\n",
    "df1['FechaNacimiento'] = df1['FechaNacimiento'].where(df1['FechaNacimiento'] < now, df1['FechaNacimiento'] -  np.timedelta64(100, 'Y'))   # 2\n",
    "df1['Edad'] = (now - df1['FechaNacimiento']).astype('<m8[Y]')    # 3\n",
    "\n",
    "df2 = df1.drop(['FechaNacimiento'], axis=1)"
   ]
  },
  {
   "cell_type": "code",
   "execution_count": 13,
   "metadata": {},
   "outputs": [
    {
     "data": {
      "text/html": [
       "<div>\n",
       "<style>\n",
       "    .dataframe thead tr:only-child th {\n",
       "        text-align: right;\n",
       "    }\n",
       "\n",
       "    .dataframe thead th {\n",
       "        text-align: left;\n",
       "    }\n",
       "\n",
       "    .dataframe tbody tr th {\n",
       "        vertical-align: top;\n",
       "    }\n",
       "</style>\n",
       "<table border=\"1\" class=\"dataframe\">\n",
       "  <thead>\n",
       "    <tr style=\"text-align: right;\">\n",
       "      <th></th>\n",
       "      <th>Tipo de dato</th>\n",
       "    </tr>\n",
       "  </thead>\n",
       "  <tbody>\n",
       "    <tr>\n",
       "      <th>Pkebelista</th>\n",
       "      <td>int64</td>\n",
       "    </tr>\n",
       "    <tr>\n",
       "      <th>Pedidos_ult_18camp</th>\n",
       "      <td>int64</td>\n",
       "    </tr>\n",
       "    <tr>\n",
       "      <th>DecilAñoAnterior</th>\n",
       "      <td>float64</td>\n",
       "    </tr>\n",
       "    <tr>\n",
       "      <th>PMNPAñoAnterior</th>\n",
       "      <td>float64</td>\n",
       "    </tr>\n",
       "    <tr>\n",
       "      <th>DecilCampAnterior</th>\n",
       "      <td>int64</td>\n",
       "    </tr>\n",
       "    <tr>\n",
       "      <th>PMNPCampAnterior</th>\n",
       "      <td>float64</td>\n",
       "    </tr>\n",
       "    <tr>\n",
       "      <th>FlagIpUnicoZona</th>\n",
       "      <td>int64</td>\n",
       "    </tr>\n",
       "    <tr>\n",
       "      <th>CodComportamientoRolling</th>\n",
       "      <td>int64</td>\n",
       "    </tr>\n",
       "    <tr>\n",
       "      <th>VarVentas3Camp</th>\n",
       "      <td>float64</td>\n",
       "    </tr>\n",
       "    <tr>\n",
       "      <th>VarMCT3Camp</th>\n",
       "      <td>float64</td>\n",
       "    </tr>\n",
       "    <tr>\n",
       "      <th>VarPPU3Camp</th>\n",
       "      <td>float64</td>\n",
       "    </tr>\n",
       "    <tr>\n",
       "      <th>PD3Camp</th>\n",
       "      <td>int64</td>\n",
       "    </tr>\n",
       "    <tr>\n",
       "      <th>Target</th>\n",
       "      <td>float64</td>\n",
       "    </tr>\n",
       "    <tr>\n",
       "      <th>TargetBinary</th>\n",
       "      <td>int32</td>\n",
       "    </tr>\n",
       "    <tr>\n",
       "      <th>Edad</th>\n",
       "      <td>float64</td>\n",
       "    </tr>\n",
       "  </tbody>\n",
       "</table>\n",
       "</div>"
      ],
      "text/plain": [
       "                         Tipo de dato\n",
       "Pkebelista                      int64\n",
       "Pedidos_ult_18camp              int64\n",
       "DecilAñoAnterior              float64\n",
       "PMNPAñoAnterior               float64\n",
       "DecilCampAnterior               int64\n",
       "PMNPCampAnterior              float64\n",
       "FlagIpUnicoZona                 int64\n",
       "CodComportamientoRolling        int64\n",
       "VarVentas3Camp                float64\n",
       "VarMCT3Camp                   float64\n",
       "VarPPU3Camp                   float64\n",
       "PD3Camp                         int64\n",
       "Target                        float64\n",
       "TargetBinary                    int32\n",
       "Edad                          float64"
      ]
     },
     "execution_count": 13,
     "metadata": {},
     "output_type": "execute_result"
    }
   ],
   "source": [
    "pd.DataFrame(df2.dtypes, columns = ['Tipo de dato'])"
   ]
  },
  {
   "cell_type": "code",
   "execution_count": 14,
   "metadata": {},
   "outputs": [
    {
     "data": {
      "text/html": [
       "<div>\n",
       "<style>\n",
       "    .dataframe thead tr:only-child th {\n",
       "        text-align: right;\n",
       "    }\n",
       "\n",
       "    .dataframe thead th {\n",
       "        text-align: left;\n",
       "    }\n",
       "\n",
       "    .dataframe tbody tr th {\n",
       "        vertical-align: top;\n",
       "    }\n",
       "</style>\n",
       "<table border=\"1\" class=\"dataframe\">\n",
       "  <thead>\n",
       "    <tr style=\"text-align: right;\">\n",
       "      <th></th>\n",
       "      <th>Pkebelista</th>\n",
       "      <th>Pedidos_ult_18camp</th>\n",
       "      <th>DecilAñoAnterior</th>\n",
       "      <th>PMNPAñoAnterior</th>\n",
       "      <th>DecilCampAnterior</th>\n",
       "      <th>PMNPCampAnterior</th>\n",
       "      <th>FlagIpUnicoZona</th>\n",
       "      <th>CodComportamientoRolling</th>\n",
       "      <th>VarVentas3Camp</th>\n",
       "      <th>VarMCT3Camp</th>\n",
       "      <th>VarPPU3Camp</th>\n",
       "      <th>PD3Camp</th>\n",
       "      <th>Target</th>\n",
       "      <th>TargetBinary</th>\n",
       "      <th>Edad</th>\n",
       "    </tr>\n",
       "  </thead>\n",
       "  <tbody>\n",
       "    <tr>\n",
       "      <th>count</th>\n",
       "      <td>15603.000000</td>\n",
       "      <td>15603.000000</td>\n",
       "      <td>13387.000000</td>\n",
       "      <td>13387.000000</td>\n",
       "      <td>15603.000000</td>\n",
       "      <td>15603.000000</td>\n",
       "      <td>15603.000000</td>\n",
       "      <td>15603.000000</td>\n",
       "      <td>15603.000000</td>\n",
       "      <td>15603.000000</td>\n",
       "      <td>15603.000000</td>\n",
       "      <td>15603.000000</td>\n",
       "      <td>15603.000000</td>\n",
       "      <td>15603.000000</td>\n",
       "      <td>15603.000000</td>\n",
       "    </tr>\n",
       "    <tr>\n",
       "      <th>mean</th>\n",
       "      <td>195120.682946</td>\n",
       "      <td>15.488496</td>\n",
       "      <td>5.499290</td>\n",
       "      <td>23819.463937</td>\n",
       "      <td>5.499007</td>\n",
       "      <td>21260.351174</td>\n",
       "      <td>0.372364</td>\n",
       "      <td>5.717554</td>\n",
       "      <td>12.473000</td>\n",
       "      <td>11.007092</td>\n",
       "      <td>16.661523</td>\n",
       "      <td>0.322887</td>\n",
       "      <td>4.899779</td>\n",
       "      <td>0.439339</td>\n",
       "      <td>39.883292</td>\n",
       "    </tr>\n",
       "    <tr>\n",
       "      <th>std</th>\n",
       "      <td>92753.474997</td>\n",
       "      <td>3.320185</td>\n",
       "      <td>2.872284</td>\n",
       "      <td>17210.904559</td>\n",
       "      <td>2.872418</td>\n",
       "      <td>16612.486711</td>\n",
       "      <td>0.483450</td>\n",
       "      <td>0.709607</td>\n",
       "      <td>39.296849</td>\n",
       "      <td>39.505409</td>\n",
       "      <td>49.063363</td>\n",
       "      <td>0.725022</td>\n",
       "      <td>59.211744</td>\n",
       "      <td>0.496322</td>\n",
       "      <td>12.928542</td>\n",
       "    </tr>\n",
       "    <tr>\n",
       "      <th>min</th>\n",
       "      <td>39.000000</td>\n",
       "      <td>3.000000</td>\n",
       "      <td>1.000000</td>\n",
       "      <td>4097.813334</td>\n",
       "      <td>1.000000</td>\n",
       "      <td>820.479980</td>\n",
       "      <td>0.000000</td>\n",
       "      <td>2.000000</td>\n",
       "      <td>-74.931800</td>\n",
       "      <td>-74.166667</td>\n",
       "      <td>-77.976190</td>\n",
       "      <td>0.000000</td>\n",
       "      <td>-100.000000</td>\n",
       "      <td>0.000000</td>\n",
       "      <td>10.000000</td>\n",
       "    </tr>\n",
       "    <tr>\n",
       "      <th>25%</th>\n",
       "      <td>117729.000000</td>\n",
       "      <td>14.000000</td>\n",
       "      <td>3.000000</td>\n",
       "      <td>16505.036138</td>\n",
       "      <td>3.000000</td>\n",
       "      <td>13454.879974</td>\n",
       "      <td>0.000000</td>\n",
       "      <td>5.000000</td>\n",
       "      <td>-7.798563</td>\n",
       "      <td>-12.500000</td>\n",
       "      <td>-10.000000</td>\n",
       "      <td>0.000000</td>\n",
       "      <td>-27.984697</td>\n",
       "      <td>0.000000</td>\n",
       "      <td>29.000000</td>\n",
       "    </tr>\n",
       "    <tr>\n",
       "      <th>50%</th>\n",
       "      <td>216946.000000</td>\n",
       "      <td>17.000000</td>\n",
       "      <td>5.000000</td>\n",
       "      <td>20370.285549</td>\n",
       "      <td>5.000000</td>\n",
       "      <td>16985.279785</td>\n",
       "      <td>0.000000</td>\n",
       "      <td>6.000000</td>\n",
       "      <td>5.981126</td>\n",
       "      <td>4.166667</td>\n",
       "      <td>7.777778</td>\n",
       "      <td>0.000000</td>\n",
       "      <td>-4.523442</td>\n",
       "      <td>0.000000</td>\n",
       "      <td>38.000000</td>\n",
       "    </tr>\n",
       "    <tr>\n",
       "      <th>75%</th>\n",
       "      <td>278741.000000</td>\n",
       "      <td>18.000000</td>\n",
       "      <td>8.000000</td>\n",
       "      <td>26503.565616</td>\n",
       "      <td>8.000000</td>\n",
       "      <td>24402.879608</td>\n",
       "      <td>1.000000</td>\n",
       "      <td>6.000000</td>\n",
       "      <td>24.838117</td>\n",
       "      <td>25.000000</td>\n",
       "      <td>30.000000</td>\n",
       "      <td>0.000000</td>\n",
       "      <td>22.611649</td>\n",
       "      <td>1.000000</td>\n",
       "      <td>49.000000</td>\n",
       "    </tr>\n",
       "    <tr>\n",
       "      <th>max</th>\n",
       "      <td>312147.000000</td>\n",
       "      <td>18.000000</td>\n",
       "      <td>10.000000</td>\n",
       "      <td>703053.300494</td>\n",
       "      <td>10.000000</td>\n",
       "      <td>537233.918701</td>\n",
       "      <td>1.000000</td>\n",
       "      <td>7.000000</td>\n",
       "      <td>1820.414735</td>\n",
       "      <td>541.666667</td>\n",
       "      <td>988.095238</td>\n",
       "      <td>7.000000</td>\n",
       "      <td>1737.012518</td>\n",
       "      <td>1.000000</td>\n",
       "      <td>100.000000</td>\n",
       "    </tr>\n",
       "  </tbody>\n",
       "</table>\n",
       "</div>"
      ],
      "text/plain": [
       "          Pkebelista  Pedidos_ult_18camp  DecilAñoAnterior  PMNPAñoAnterior  \\\n",
       "count   15603.000000        15603.000000      13387.000000     13387.000000   \n",
       "mean   195120.682946           15.488496          5.499290     23819.463937   \n",
       "std     92753.474997            3.320185          2.872284     17210.904559   \n",
       "min        39.000000            3.000000          1.000000      4097.813334   \n",
       "25%    117729.000000           14.000000          3.000000     16505.036138   \n",
       "50%    216946.000000           17.000000          5.000000     20370.285549   \n",
       "75%    278741.000000           18.000000          8.000000     26503.565616   \n",
       "max    312147.000000           18.000000         10.000000    703053.300494   \n",
       "\n",
       "       DecilCampAnterior  PMNPCampAnterior  FlagIpUnicoZona  \\\n",
       "count       15603.000000      15603.000000     15603.000000   \n",
       "mean            5.499007      21260.351174         0.372364   \n",
       "std             2.872418      16612.486711         0.483450   \n",
       "min             1.000000        820.479980         0.000000   \n",
       "25%             3.000000      13454.879974         0.000000   \n",
       "50%             5.000000      16985.279785         0.000000   \n",
       "75%             8.000000      24402.879608         1.000000   \n",
       "max            10.000000     537233.918701         1.000000   \n",
       "\n",
       "       CodComportamientoRolling  VarVentas3Camp   VarMCT3Camp   VarPPU3Camp  \\\n",
       "count              15603.000000    15603.000000  15603.000000  15603.000000   \n",
       "mean                   5.717554       12.473000     11.007092     16.661523   \n",
       "std                    0.709607       39.296849     39.505409     49.063363   \n",
       "min                    2.000000      -74.931800    -74.166667    -77.976190   \n",
       "25%                    5.000000       -7.798563    -12.500000    -10.000000   \n",
       "50%                    6.000000        5.981126      4.166667      7.777778   \n",
       "75%                    6.000000       24.838117     25.000000     30.000000   \n",
       "max                    7.000000     1820.414735    541.666667    988.095238   \n",
       "\n",
       "            PD3Camp        Target  TargetBinary          Edad  \n",
       "count  15603.000000  15603.000000  15603.000000  15603.000000  \n",
       "mean       0.322887      4.899779      0.439339     39.883292  \n",
       "std        0.725022     59.211744      0.496322     12.928542  \n",
       "min        0.000000   -100.000000      0.000000     10.000000  \n",
       "25%        0.000000    -27.984697      0.000000     29.000000  \n",
       "50%        0.000000     -4.523442      0.000000     38.000000  \n",
       "75%        0.000000     22.611649      1.000000     49.000000  \n",
       "max        7.000000   1737.012518      1.000000    100.000000  "
      ]
     },
     "execution_count": 14,
     "metadata": {},
     "output_type": "execute_result"
    }
   ],
   "source": [
    "df2.describe()"
   ]
  },
  {
   "cell_type": "markdown",
   "metadata": {},
   "source": [
    "# Exploración y visualización"
   ]
  },
  {
   "cell_type": "code",
   "execution_count": 105,
   "metadata": {},
   "outputs": [
    {
     "data": {
      "image/png": "[encoded data removed]",
      "text/plain": [
       "<matplotlib.figure.Figure at 0x263a4a44cc0>"
      ]
     },
     "metadata": {},
     "output_type": "display_data"
    }
   ],
   "source": [
    "import matplotlib.pyplot\n",
    "import matplotlib\n",
    "\n",
    "plt.scatter(df2.VarPPU3Camp, df2.TargetBinary, c=\"g\", alpha=0.5, marker='o')\n",
    "plt.xlabel(\"VarPPU3Camp\")\n",
    "plt.ylabel(\"TargetBinary\")\n",
    "plt.legend(loc=2)\n",
    "plt.show()"
   ]
  },
  {
   "cell_type": "code",
   "execution_count": 15,
   "metadata": {},
   "outputs": [
    {
     "data": {
      "text/plain": [
       "<matplotlib.axes._subplots.AxesSubplot at 0x263a0b4f780>"
      ]
     },
     "execution_count": 15,
     "metadata": {},
     "output_type": "execute_result"
    },
    {
     "data": {
      "image/png": "[encoded data removed]",
      "text/plain": [
       "<matplotlib.figure.Figure at 0x263a0b07f28>"
      ]
     },
     "metadata": {},
     "output_type": "display_data"
    }
   ],
   "source": [
    "%matplotlib inline\n",
    "count_edad = df2.groupby([u'Edad'])[u'Edad'].count().reset_index(name='count')\n",
    "count_edad[u'Edad'].plot(kind='hist')"
   ]
  },
  {
   "cell_type": "code",
   "execution_count": 16,
   "metadata": {},
   "outputs": [
    {
     "data": {
      "text/plain": [
       "<matplotlib.axes._subplots.AxesSubplot at 0x263a0262b70>"
      ]
     },
     "execution_count": 16,
     "metadata": {},
     "output_type": "execute_result"
    },
    {
     "data": {
      "image/png": "[encoded data removed]",
      "text/plain": [
       "<matplotlib.figure.Figure at 0x263a0b7e9b0>"
      ]
     },
     "metadata": {},
     "output_type": "display_data"
    }
   ],
   "source": [
    "count_edad[u'Edad'].plot()"
   ]
  },
  {
   "cell_type": "code",
   "execution_count": 17,
   "metadata": {
    "collapsed": true
   },
   "outputs": [],
   "source": [
    "import seaborn as sns\n",
    "import matplotlib.pyplot as plt\n",
    "def corr_1(df):\n",
    "    sns.set(style=\"white\") \n",
    "    corr = df.corr()\n",
    "    mask = np.zeros_like(corr, dtype=np.bool)\n",
    "    mask[np.triu_indices_from(mask)] = True\n",
    "    f, ax = plt.subplots(figsize=(10, 8))\n",
    "    cmap = sns.diverging_palette(220, 10, as_cmap=True)\n",
    "    return sns.heatmap(corr, mask=mask, cmap=cmap, center=0,\n",
    "            square=True, linewidths=.5)"
   ]
  },
  {
   "cell_type": "code",
   "execution_count": 48,
   "metadata": {},
   "outputs": [
    {
     "data": {
      "text/plain": [
       "<matplotlib.axes._subplots.AxesSubplot at 0x263a12e4630>"
      ]
     },
     "execution_count": 48,
     "metadata": {},
     "output_type": "execute_result"
    },
    {
     "data": {
      "image/png": "[encoded data removed]",
      "text/plain": [
       "<matplotlib.figure.Figure at 0x263a12f56d8>"
      ]
     },
     "metadata": {},
     "output_type": "display_data"
    }
   ],
   "source": [
    "corr_1(df2)"
   ]
  },
  {
   "cell_type": "markdown",
   "metadata": {},
   "source": [
    "## Modelo"
   ]
  },
  {
   "cell_type": "code",
   "execution_count": 19,
   "metadata": {
    "collapsed": true
   },
   "outputs": [],
   "source": [
    "from sklearn.model_selection import train_test_split\n",
    "from sklearn import tree\n",
    "from sklearn.metrics import classification_report\n",
    "\n",
    "from sklearn.cross_validation import cross_val_score, cross_val_predict\n",
    "from sklearn import metrics"
   ]
  },
  {
   "cell_type": "code",
   "execution_count": 111,
   "metadata": {},
   "outputs": [],
   "source": [
    "df2 = df2.drop('Target', axis=1)\n"
   ]
  },
  {
   "cell_type": "code",
   "execution_count": 120,
   "metadata": {
    "scrolled": true
   },
   "outputs": [
    {
     "name": "stdout",
     "output_type": "stream",
     "text": [
      "(13387, 14)\n",
      "False\n",
      "             precision    recall  f1-score   support\n",
      "\n",
      "          0       0.79      0.66      0.72      1163\n",
      "          1       0.62      0.76      0.68       846\n",
      "\n",
      "avg / total       0.72      0.70      0.71      2009\n",
      "\n",
      "Cross-validated scores:  [ 0.7311828   0.70833333  0.71908602  0.71268489  0.71076233  0.73049327]\n"
     ]
    }
   ],
   "source": [
    "# 1. Borrando filas con NA en datos del año anterior: trabajamos solo con registros de los cuales se tiene data desde el año pasado.\n",
    "df21 = df2.dropna(axis=0, how='all', subset=['DecilAñoAnterior', 'PMNPAñoAnterior'])\n",
    "print(df21.shape)\n",
    "print(df21.isnull().values.any())\n",
    "\n",
    "\n",
    "X_train, X_test, y_train, y_test = train_test_split(\n",
    "df21.loc[:, df21.columns != 'TargetBinary'],\n",
    " df21[u'TargetBinary'].values, \n",
    " test_size=0.15, \n",
    " random_state=42)\n",
    "\n",
    "\n",
    "niveles_arbol = 3\n",
    "clf = tree.DecisionTreeClassifier(criterion='entropy', max_depth = niveles_arbol)\n",
    "clf = clf.fit(X_train, y_train)\n",
    "\n",
    "y_pred = clf.predict(X_test)\n",
    "\n",
    "\n",
    "print(classification_report(y_test, y_pred))\n",
    "\n",
    "\n",
    "scores = cross_val_score(clf, df21.loc[:, df21.columns != 'TargetBinary'],df21[u'TargetBinary'].values,  cv=6)\n",
    "print('Cross-validated scores: ', scores)"
   ]
  },
  {
   "cell_type": "code",
   "execution_count": 124,
   "metadata": {},
   "outputs": [
    {
     "name": "stdout",
     "output_type": "stream",
     "text": [
      "(15603, 12)\n",
      "             precision    recall  f1-score   support\n",
      "\n",
      "          0       0.73      0.75      0.74      1297\n",
      "          1       0.68      0.66      0.67      1044\n",
      "\n",
      "avg / total       0.71      0.71      0.71      2341\n",
      "\n"
     ]
    }
   ],
   "source": [
    "# 2. Borrando por completo las columnas  que tengan valores NA.\n",
    "df22 = df2.drop(['DecilAñoAnterior', 'PMNPAñoAnterior' ], axis=1)\n",
    "print(df22.shape)\n",
    "df22.isnull().values.any()\n",
    "\n",
    "X_train, X_test, y_train, y_test = train_test_split(\n",
    "df22.loc[:, df22.columns != 'TargetBinary'],\n",
    " df22[u'TargetBinary'].values, \n",
    " test_size=0.15, \n",
    " random_state=42)\n",
    "\n",
    "\n",
    "q_niveles_arbol = 10\n",
    "clf = tree.DecisionTreeClassifier(criterion='entropy', max_depth = q_niveles_arbol)\n",
    "clf = clf.fit(X_train, y_train)\n",
    "\n",
    "y_pred = clf.predict(X_test)\n",
    "\n",
    "\n",
    "print(classification_report(y_test, y_pred))"
   ]
  },
  {
   "cell_type": "code",
   "execution_count": 134,
   "metadata": {},
   "outputs": [
    {
     "name": "stdout",
     "output_type": "stream",
     "text": [
      "             precision    recall  f1-score   support\n",
      "\n",
      "        0.0       0.76      0.77      0.76      1297\n",
      "        1.0       0.71      0.70      0.71      1044\n",
      "\n",
      "avg / total       0.74      0.74      0.74      2341\n",
      "\n"
     ]
    }
   ],
   "source": [
    "# 3. Usando IMPUTER de scikit learn: reemplazando los NaN con la media\n",
    "\n",
    "from sklearn.preprocessing import Imputer\n",
    "imp = Imputer(missing_values='NaN', strategy='mean', axis=0)\n",
    "imp.fit(df2)\n",
    "\n",
    "prep = imp.transform(df2) \n",
    "df23 = pd.DataFrame(prep, columns = df2.columns)\n",
    "\n",
    "X_train, X_test, y_train, y_test = train_test_split(\n",
    "df23.loc[:, df23.columns != 'TargetBinary'],\n",
    " df23[u'TargetBinary'].values, \n",
    " test_size=0.15, \n",
    " random_state=42)\n",
    "\n",
    "\n",
    "q_niveles_arbol = 5\n",
    "clf = tree.DecisionTreeClassifier(criterion='entropy', max_depth = q_niveles_arbol)\n",
    "clf = clf.fit(X_train, y_train)\n",
    "\n",
    "y_pred = clf.predict(X_test)\n",
    "\n",
    "print(classification_report(y_test, y_pred))\n",
    "\n"
   ]
  },
  {
   "cell_type": "markdown",
   "metadata": {},
   "source": [
    "Ajustes al modelo:\n",
    "- No eliminar las columnas con data del año pasado sino procesarlas (reemplazar con decil 0?, reemplazar con la media?)\n",
    "- trabajr solo con las filas de las cuales se tiene info del año pasado?\n",
    "\n"
   ]
  },
  {
   "cell_type": "code",
   "execution_count": 86,
   "metadata": {
    "collapsed": true
   },
   "outputs": [],
   "source": [
    "from sklearn.metrics import confusion_matrix\n",
    "cnf_matrix = confusion_matrix(y_test, y_pred) "
   ]
  },
  {
   "cell_type": "code",
   "execution_count": 87,
   "metadata": {
    "collapsed": true
   },
   "outputs": [],
   "source": [
    "from sklearn.metrics import confusion_matrix\n",
    "\n",
    "def print_cm(cm, labels, hide_zeroes=False, hide_diagonal=False, hide_threshold=None):\n",
    "    \"\"\"pretty print for confusion matrixes\"\"\"\n",
    "    columnwidth = max([len(x) for x in labels] + [5])  # 5 is value length\n",
    "    empty_cell = \" \" * columnwidth\n",
    "    # Print header\n",
    "    print(\"    \" + empty_cell, end=\" \")\n",
    "    for label in labels:\n",
    "        print(\"%{0}s\".format(columnwidth) % label, end=\" \")\n",
    "    print()\n",
    "    # Print rows\n",
    "    for i, label1 in enumerate(labels):\n",
    "        print(\"    %{0}s\".format(columnwidth) % label1, end=\" \")\n",
    "        for j in range(len(labels)):\n",
    "            cell = \"%{0}.1f\".format(columnwidth) % cm[i, j]\n",
    "            if hide_zeroes:\n",
    "                cell = cell if float(cm[i, j]) != 0 else empty_cell\n",
    "            if hide_diagonal:\n",
    "                cell = cell if i != j else empty_cell\n",
    "            if hide_threshold:\n",
    "                cell = cell if cm[i, j] > hide_threshold else empty_cell\n",
    "            print(cell, end=\" \")\n",
    "        print()\n"
   ]
  },
  {
   "cell_type": "code",
   "execution_count": 88,
   "metadata": {},
   "outputs": [
    {
     "name": "stdout",
     "output_type": "stream",
     "text": [
      "                             Sí Cae Sube o Mantiene \n",
      "             Sí Cae          1463.0             0.0 \n",
      "    Sube o Mantiene             0.0          1215.0 \n"
     ]
    }
   ],
   "source": [
    "labels = ['Sí Cae', 'Sube o Mantiene']\n",
    "print_cm(cnf_matrix, labels)"
   ]
  },
  {
   "cell_type": "code",
   "execution_count": 89,
   "metadata": {
    "collapsed": true
   },
   "outputs": [],
   "source": [
    "\n",
    "y_pred2 = np.ones(len(y_pred))\n"
   ]
  },
  {
   "cell_type": "code",
   "execution_count": null,
   "metadata": {
    "collapsed": true
   },
   "outputs": [],
   "source": [
    "from sklearn.metrics import classification_report\n",
    "print(classification_report(y_test, y_pred2))"
   ]
  },
  {
   "cell_type": "code",
   "execution_count": null,
   "metadata": {
    "collapsed": true
   },
   "outputs": [],
   "source": []
  }
 ],
 "metadata": {
  "kernelspec": {
   "display_name": "Python 3",
   "language": "python",
   "name": "python3"
  },
  "language_info": {
   "codemirror_mode": {
    "name": "ipython",
    "version": 3
   },
   "file_extension": ".py",
   "mimetype": "text/x-python",
   "name": "python",
   "nbconvert_exporter": "python",
   "pygments_lexer": "ipython3",
   "version": "3.6.3"
  }
 },
 "nbformat": 4,
 "nbformat_minor": 2
}
