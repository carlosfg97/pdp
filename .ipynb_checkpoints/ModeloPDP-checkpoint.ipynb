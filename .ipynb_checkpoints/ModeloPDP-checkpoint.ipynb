{
 "cells": [
  {
   "cell_type": "markdown",
   "metadata": {},
   "source": [
    "# Caida de P$P (Guatemala)"
   ]
  },
  {
   "cell_type": "markdown",
   "metadata": {},
   "source": [
    "## Conexión con AWS300"
   ]
  },
  {
   "cell_type": "code",
   "execution_count": 1,
   "metadata": {},
   "outputs": [],
   "source": [
    "import pandas as pd\n",
    "import numpy as np\n",
    "import pyodbc\n",
    "import warnings\n",
    "warnings.filterwarnings('ignore')\n",
    "conn = pyodbc.connect('DRIVER={SQL Server Native Client 11.0};SERVER=AWNTS300;DATABASE=DATALAB;UID=usrdm;PWD=dm$2Admin4')"
   ]
  },
  {
   "cell_type": "code",
   "execution_count": 2,
   "metadata": {},
   "outputs": [],
   "source": [
    " #Falta afinar para que sea por país y por campaña\n",
    "#df = pd.read_sql(\"select * from [dbo].[CR_INPUT1_PDP]\" , conn)\n",
    "df = pd.read_sql(\"select * from [dbo].[CR_INPUT1_PDP]\" , conn)\n",
    "\n",
    "#df = pd.read_excel('output.xlsx')\n",
    "#writer = pd.ExcelWriter('output.xlsx')\n",
    "#df.to_excel(writer,'Sheet1')\n",
    "#writer.save()"
   ]
  },
  {
   "cell_type": "code",
   "execution_count": 3,
   "metadata": {},
   "outputs": [
    {
     "data": {
      "text/html": [
       "<div>\n",
       "<style scoped>\n",
       "    .dataframe tbody tr th:only-of-type {\n",
       "        vertical-align: middle;\n",
       "    }\n",
       "\n",
       "    .dataframe tbody tr th {\n",
       "        vertical-align: top;\n",
       "    }\n",
       "\n",
       "    .dataframe thead th {\n",
       "        text-align: right;\n",
       "    }\n",
       "</style>\n",
       "<table border=\"1\" class=\"dataframe\">\n",
       "  <thead>\n",
       "    <tr style=\"text-align: right;\">\n",
       "      <th></th>\n",
       "      <th>Pkebelista</th>\n",
       "      <th>v201711</th>\n",
       "      <th>v201712</th>\n",
       "      <th>v201713</th>\n",
       "      <th>v201715</th>\n",
       "      <th>Target</th>\n",
       "      <th>Pedidos_ult_18camp</th>\n",
       "      <th>DecilAñoAnterior</th>\n",
       "      <th>PMNPAñoAnterior</th>\n",
       "      <th>DecilCampAnterior</th>\n",
       "      <th>...</th>\n",
       "      <th>ppu201713</th>\n",
       "      <th>Q201711</th>\n",
       "      <th>Q201712</th>\n",
       "      <th>Q201713</th>\n",
       "      <th>FlagIpUnicoZona</th>\n",
       "      <th>pd201711</th>\n",
       "      <th>pd201712</th>\n",
       "      <th>pd201713</th>\n",
       "      <th>CodComportamientoRolling</th>\n",
       "      <th>FechaNacimiento</th>\n",
       "    </tr>\n",
       "  </thead>\n",
       "  <tbody>\n",
       "    <tr>\n",
       "      <th>0</th>\n",
       "      <td>720</td>\n",
       "      <td>6979.771274</td>\n",
       "      <td>4200.445514</td>\n",
       "      <td>6724.908075</td>\n",
       "      <td>8758.605493</td>\n",
       "      <td>0</td>\n",
       "      <td>18</td>\n",
       "      <td>1.0</td>\n",
       "      <td>7152.190837</td>\n",
       "      <td>1</td>\n",
       "      <td>...</td>\n",
       "      <td>8.151404</td>\n",
       "      <td>24</td>\n",
       "      <td>17</td>\n",
       "      <td>25</td>\n",
       "      <td>1</td>\n",
       "      <td>0</td>\n",
       "      <td>0</td>\n",
       "      <td>0</td>\n",
       "      <td>4</td>\n",
       "      <td>1969-02-21</td>\n",
       "    </tr>\n",
       "    <tr>\n",
       "      <th>1</th>\n",
       "      <td>89964</td>\n",
       "      <td>2154.041014</td>\n",
       "      <td>2141.305731</td>\n",
       "      <td>2091.087431</td>\n",
       "      <td>2224.961983</td>\n",
       "      <td>0</td>\n",
       "      <td>18</td>\n",
       "      <td>9.0</td>\n",
       "      <td>2047.940153</td>\n",
       "      <td>7</td>\n",
       "      <td>...</td>\n",
       "      <td>12.673257</td>\n",
       "      <td>7</td>\n",
       "      <td>7</td>\n",
       "      <td>5</td>\n",
       "      <td>0</td>\n",
       "      <td>0</td>\n",
       "      <td>0</td>\n",
       "      <td>0</td>\n",
       "      <td>6</td>\n",
       "      <td>1978-12-01</td>\n",
       "    </tr>\n",
       "    <tr>\n",
       "      <th>2</th>\n",
       "      <td>90836</td>\n",
       "      <td>1889.314461</td>\n",
       "      <td>3063.642365</td>\n",
       "      <td>2054.850645</td>\n",
       "      <td>4617.455549</td>\n",
       "      <td>0</td>\n",
       "      <td>18</td>\n",
       "      <td>8.0</td>\n",
       "      <td>2190.827464</td>\n",
       "      <td>7</td>\n",
       "      <td>...</td>\n",
       "      <td>8.895457</td>\n",
       "      <td>8</td>\n",
       "      <td>8</td>\n",
       "      <td>7</td>\n",
       "      <td>1</td>\n",
       "      <td>0</td>\n",
       "      <td>0</td>\n",
       "      <td>0</td>\n",
       "      <td>6</td>\n",
       "      <td>1990-11-12</td>\n",
       "    </tr>\n",
       "    <tr>\n",
       "      <th>3</th>\n",
       "      <td>263422</td>\n",
       "      <td>2375.302251</td>\n",
       "      <td>2115.988981</td>\n",
       "      <td>2185.302904</td>\n",
       "      <td>5885.626802</td>\n",
       "      <td>0</td>\n",
       "      <td>18</td>\n",
       "      <td>6.0</td>\n",
       "      <td>2650.747593</td>\n",
       "      <td>6</td>\n",
       "      <td>...</td>\n",
       "      <td>16.555325</td>\n",
       "      <td>7</td>\n",
       "      <td>7</td>\n",
       "      <td>4</td>\n",
       "      <td>1</td>\n",
       "      <td>0</td>\n",
       "      <td>0</td>\n",
       "      <td>0</td>\n",
       "      <td>6</td>\n",
       "      <td>1992-05-28</td>\n",
       "    </tr>\n",
       "    <tr>\n",
       "      <th>4</th>\n",
       "      <td>267409</td>\n",
       "      <td>1843.579517</td>\n",
       "      <td>1349.515027</td>\n",
       "      <td>1269.000250</td>\n",
       "      <td>2603.406096</td>\n",
       "      <td>0</td>\n",
       "      <td>9</td>\n",
       "      <td>NaN</td>\n",
       "      <td>NaN</td>\n",
       "      <td>10</td>\n",
       "      <td>...</td>\n",
       "      <td>8.751726</td>\n",
       "      <td>5</td>\n",
       "      <td>5</td>\n",
       "      <td>5</td>\n",
       "      <td>1</td>\n",
       "      <td>1</td>\n",
       "      <td>0</td>\n",
       "      <td>0</td>\n",
       "      <td>6</td>\n",
       "      <td>1993-06-01</td>\n",
       "    </tr>\n",
       "  </tbody>\n",
       "</table>\n",
       "<p>5 rows × 26 columns</p>\n",
       "</div>"
      ],
      "text/plain": [
       "   Pkebelista      v201711      v201712      v201713      v201715  Target  \\\n",
       "0         720  6979.771274  4200.445514  6724.908075  8758.605493       0   \n",
       "1       89964  2154.041014  2141.305731  2091.087431  2224.961983       0   \n",
       "2       90836  1889.314461  3063.642365  2054.850645  4617.455549       0   \n",
       "3      263422  2375.302251  2115.988981  2185.302904  5885.626802       0   \n",
       "4      267409  1843.579517  1349.515027  1269.000250  2603.406096       0   \n",
       "\n",
       "   Pedidos_ult_18camp  DecilAñoAnterior  PMNPAñoAnterior  DecilCampAnterior  \\\n",
       "0                  18               1.0      7152.190837                  1   \n",
       "1                  18               9.0      2047.940153                  7   \n",
       "2                  18               8.0      2190.827464                  7   \n",
       "3                  18               6.0      2650.747593                  6   \n",
       "4                   9               NaN              NaN                 10   \n",
       "\n",
       "        ...         ppu201713  Q201711  Q201712  Q201713  FlagIpUnicoZona  \\\n",
       "0       ...          8.151404       24       17       25                1   \n",
       "1       ...         12.673257        7        7        5                0   \n",
       "2       ...          8.895457        8        8        7                1   \n",
       "3       ...         16.555325        7        7        4                1   \n",
       "4       ...          8.751726        5        5        5                1   \n",
       "\n",
       "   pd201711  pd201712  pd201713  CodComportamientoRolling  FechaNacimiento  \n",
       "0         0         0         0                         4       1969-02-21  \n",
       "1         0         0         0                         6       1978-12-01  \n",
       "2         0         0         0                         6       1990-11-12  \n",
       "3         0         0         0                         6       1992-05-28  \n",
       "4         1         0         0                         6       1993-06-01  \n",
       "\n",
       "[5 rows x 26 columns]"
      ]
     },
     "execution_count": 3,
     "metadata": {},
     "output_type": "execute_result"
    }
   ],
   "source": [
    "df.head()"
   ]
  },
  {
   "cell_type": "code",
   "execution_count": 4,
   "metadata": {},
   "outputs": [
    {
     "data": {
      "text/html": [
       "<div>\n",
       "<style scoped>\n",
       "    .dataframe tbody tr th:only-of-type {\n",
       "        vertical-align: middle;\n",
       "    }\n",
       "\n",
       "    .dataframe tbody tr th {\n",
       "        vertical-align: top;\n",
       "    }\n",
       "\n",
       "    .dataframe thead th {\n",
       "        text-align: right;\n",
       "    }\n",
       "</style>\n",
       "<table border=\"1\" class=\"dataframe\">\n",
       "  <thead>\n",
       "    <tr style=\"text-align: right;\">\n",
       "      <th></th>\n",
       "      <th>Pkebelista</th>\n",
       "      <th>v201711</th>\n",
       "      <th>v201712</th>\n",
       "      <th>v201713</th>\n",
       "      <th>v201715</th>\n",
       "      <th>Target</th>\n",
       "      <th>Pedidos_ult_18camp</th>\n",
       "      <th>DecilAñoAnterior</th>\n",
       "      <th>PMNPAñoAnterior</th>\n",
       "      <th>DecilCampAnterior</th>\n",
       "      <th>...</th>\n",
       "      <th>ppu201713</th>\n",
       "      <th>Q201711</th>\n",
       "      <th>Q201712</th>\n",
       "      <th>Q201713</th>\n",
       "      <th>FlagIpUnicoZona</th>\n",
       "      <th>pd201711</th>\n",
       "      <th>pd201712</th>\n",
       "      <th>pd201713</th>\n",
       "      <th>CodComportamientoRolling</th>\n",
       "      <th>FechaNacimiento</th>\n",
       "    </tr>\n",
       "  </thead>\n",
       "  <tbody>\n",
       "    <tr>\n",
       "      <th>6734</th>\n",
       "      <td>39</td>\n",
       "      <td>28378.70436</td>\n",
       "      <td>28932.354438</td>\n",
       "      <td>35910.672637</td>\n",
       "      <td>24824.20535</td>\n",
       "      <td>1</td>\n",
       "      <td>18</td>\n",
       "      <td>1.0</td>\n",
       "      <td>26915.802299</td>\n",
       "      <td>1</td>\n",
       "      <td>...</td>\n",
       "      <td>11.828285</td>\n",
       "      <td>77</td>\n",
       "      <td>72</td>\n",
       "      <td>92</td>\n",
       "      <td>1</td>\n",
       "      <td>1</td>\n",
       "      <td>0</td>\n",
       "      <td>0</td>\n",
       "      <td>2</td>\n",
       "      <td>1950-07-13</td>\n",
       "    </tr>\n",
       "  </tbody>\n",
       "</table>\n",
       "<p>1 rows × 26 columns</p>\n",
       "</div>"
      ],
      "text/plain": [
       "      Pkebelista      v201711       v201712       v201713      v201715  \\\n",
       "6734          39  28378.70436  28932.354438  35910.672637  24824.20535   \n",
       "\n",
       "      Target  Pedidos_ult_18camp  DecilAñoAnterior  PMNPAñoAnterior  \\\n",
       "6734       1                  18               1.0     26915.802299   \n",
       "\n",
       "      DecilCampAnterior       ...         ppu201713  Q201711  Q201712  \\\n",
       "6734                  1       ...         11.828285       77       72   \n",
       "\n",
       "      Q201713  FlagIpUnicoZona  pd201711  pd201712  pd201713  \\\n",
       "6734       92                1         1         0         0   \n",
       "\n",
       "      CodComportamientoRolling  FechaNacimiento  \n",
       "6734                         2       1950-07-13  \n",
       "\n",
       "[1 rows x 26 columns]"
      ]
     },
     "execution_count": 4,
     "metadata": {},
     "output_type": "execute_result"
    }
   ],
   "source": [
    "df[df.Pkebelista == 39]\n",
    "\n"
   ]
  },
  {
   "cell_type": "code",
   "execution_count": 5,
   "metadata": {},
   "outputs": [
    {
     "name": "stdout",
     "output_type": "stream",
     "text": [
      "La base de datos cuenta con 15605 filas y 26 columnas.\n"
     ]
    }
   ],
   "source": [
    "print('La base de datos cuenta con ' + str(df.shape[0]) + ' filas y ' \n",
    "      + str(df.shape[1]) +' columnas.')\n"
   ]
  },
  {
   "cell_type": "code",
   "execution_count": 6,
   "metadata": {},
   "outputs": [],
   "source": [
    "#Eliminamos las filas que contengan valores NULL en campos donde no deberían tener.\n",
    "\n",
    "df = df.dropna(axis=0, how='all', subset=['FechaNacimiento'])"
   ]
  },
  {
   "cell_type": "code",
   "execution_count": 7,
   "metadata": {
    "collapsed": true
   },
   "outputs": [],
   "source": [
    "def PromVariacion (num1, num2, num3):\n",
    "    var1 = ((num2/num1)-1)\n",
    "    var2 = ((num3/num2)-1)\n",
    "    PromVar = (var1+var2)/2\n",
    "    return PromVar*100\n"
   ]
  },
  {
   "cell_type": "code",
   "execution_count": 8,
   "metadata": {
    "collapsed": true
   },
   "outputs": [],
   "source": [
    "df['VarVentas3Camp'] = PromVariacion(df.v201711,df.v201712,df.v201713)\n",
    "df['VarMCT3Camp'] =PromVariacion(df.mct201711,df.mct201712,df.mct201713)\n",
    "df['VarPPU3Camp'] =PromVariacion(df.ppu201711,df.ppu201712,df.ppu201713)\n",
    "df['VarPPU3Camp'] =PromVariacion(df.Q201711,df.Q201712,df.Q201713)\n",
    "df['PD3Camp'] = df.pd201711 + df.pd201712 +df.pd201713\n"
   ]
  },
  {
   "cell_type": "code",
   "execution_count": 9,
   "metadata": {
    "collapsed": true
   },
   "outputs": [],
   "source": [
    "df1 = df.drop(['v201711', 'v201712','v201713','v201715','mct201711','mct201712','mct201713','ppu201711','ppu201712','ppu201713',\n",
    "               'Q201711', 'Q201712', 'Q201713', 'pd201711', 'pd201712', 'pd201713'], axis=1)\n"
   ]
  },
  {
   "cell_type": "code",
   "execution_count": 10,
   "metadata": {},
   "outputs": [
    {
     "data": {
      "text/html": [
       "<div>\n",
       "<style scoped>\n",
       "    .dataframe tbody tr th:only-of-type {\n",
       "        vertical-align: middle;\n",
       "    }\n",
       "\n",
       "    .dataframe tbody tr th {\n",
       "        vertical-align: top;\n",
       "    }\n",
       "\n",
       "    .dataframe thead th {\n",
       "        text-align: right;\n",
       "    }\n",
       "</style>\n",
       "<table border=\"1\" class=\"dataframe\">\n",
       "  <thead>\n",
       "    <tr style=\"text-align: right;\">\n",
       "      <th></th>\n",
       "      <th>Tipo de dato</th>\n",
       "    </tr>\n",
       "  </thead>\n",
       "  <tbody>\n",
       "    <tr>\n",
       "      <th>Pkebelista</th>\n",
       "      <td>int64</td>\n",
       "    </tr>\n",
       "    <tr>\n",
       "      <th>Target</th>\n",
       "      <td>int64</td>\n",
       "    </tr>\n",
       "    <tr>\n",
       "      <th>Pedidos_ult_18camp</th>\n",
       "      <td>int64</td>\n",
       "    </tr>\n",
       "    <tr>\n",
       "      <th>DecilAñoAnterior</th>\n",
       "      <td>float64</td>\n",
       "    </tr>\n",
       "    <tr>\n",
       "      <th>PMNPAñoAnterior</th>\n",
       "      <td>float64</td>\n",
       "    </tr>\n",
       "    <tr>\n",
       "      <th>DecilCampAnterior</th>\n",
       "      <td>int64</td>\n",
       "    </tr>\n",
       "    <tr>\n",
       "      <th>PMNPCampAnterior</th>\n",
       "      <td>float64</td>\n",
       "    </tr>\n",
       "    <tr>\n",
       "      <th>FlagIpUnicoZona</th>\n",
       "      <td>int64</td>\n",
       "    </tr>\n",
       "    <tr>\n",
       "      <th>CodComportamientoRolling</th>\n",
       "      <td>int64</td>\n",
       "    </tr>\n",
       "    <tr>\n",
       "      <th>FechaNacimiento</th>\n",
       "      <td>datetime64[ns]</td>\n",
       "    </tr>\n",
       "    <tr>\n",
       "      <th>VarVentas3Camp</th>\n",
       "      <td>float64</td>\n",
       "    </tr>\n",
       "    <tr>\n",
       "      <th>VarMCT3Camp</th>\n",
       "      <td>float64</td>\n",
       "    </tr>\n",
       "    <tr>\n",
       "      <th>VarPPU3Camp</th>\n",
       "      <td>float64</td>\n",
       "    </tr>\n",
       "    <tr>\n",
       "      <th>PD3Camp</th>\n",
       "      <td>int64</td>\n",
       "    </tr>\n",
       "  </tbody>\n",
       "</table>\n",
       "</div>"
      ],
      "text/plain": [
       "                            Tipo de dato\n",
       "Pkebelista                         int64\n",
       "Target                             int64\n",
       "Pedidos_ult_18camp                 int64\n",
       "DecilAñoAnterior                 float64\n",
       "PMNPAñoAnterior                  float64\n",
       "DecilCampAnterior                  int64\n",
       "PMNPCampAnterior                 float64\n",
       "FlagIpUnicoZona                    int64\n",
       "CodComportamientoRolling           int64\n",
       "FechaNacimiento           datetime64[ns]\n",
       "VarVentas3Camp                   float64\n",
       "VarMCT3Camp                      float64\n",
       "VarPPU3Camp                      float64\n",
       "PD3Camp                            int64"
      ]
     },
     "execution_count": 10,
     "metadata": {},
     "output_type": "execute_result"
    }
   ],
   "source": [
    "pd.DataFrame(df1.dtypes, columns = ['Tipo de dato'])"
   ]
  },
  {
   "cell_type": "code",
   "execution_count": 11,
   "metadata": {},
   "outputs": [
    {
     "data": {
      "text/plain": [
       "0    9204\n",
       "1    6401\n",
       "Name: Target, dtype: int64"
      ]
     },
     "execution_count": 11,
     "metadata": {},
     "output_type": "execute_result"
    }
   ],
   "source": [
    "df1['Target'].value_counts(normalize=False, sort=True, ascending=False, bins=None, dropna=True)"
   ]
  },
  {
   "cell_type": "code",
   "execution_count": 13,
   "metadata": {},
   "outputs": [],
   "source": [
    "import datetime as DT\n",
    "import numpy as np\n",
    "import io\n",
    "\n",
    "now = pd.Timestamp(DT.datetime.now())\n",
    "df1['FechaNacimiento'] = df1['FechaNacimiento'].where(df1['FechaNacimiento'] < now, df1['FechaNacimiento'] -  np.timedelta64(100, 'Y'))   # 2\n",
    "df1['Edad'] = (now - df1['FechaNacimiento']).astype('<m8[Y]')    # 3\n",
    "\n",
    "df2 = df1.drop(['FechaNacimiento'], axis=1)"
   ]
  },
  {
   "cell_type": "code",
   "execution_count": 14,
   "metadata": {},
   "outputs": [
    {
     "data": {
      "text/html": [
       "<div>\n",
       "<style scoped>\n",
       "    .dataframe tbody tr th:only-of-type {\n",
       "        vertical-align: middle;\n",
       "    }\n",
       "\n",
       "    .dataframe tbody tr th {\n",
       "        vertical-align: top;\n",
       "    }\n",
       "\n",
       "    .dataframe thead th {\n",
       "        text-align: right;\n",
       "    }\n",
       "</style>\n",
       "<table border=\"1\" class=\"dataframe\">\n",
       "  <thead>\n",
       "    <tr style=\"text-align: right;\">\n",
       "      <th></th>\n",
       "      <th>Tipo de dato</th>\n",
       "    </tr>\n",
       "  </thead>\n",
       "  <tbody>\n",
       "    <tr>\n",
       "      <th>Pkebelista</th>\n",
       "      <td>int64</td>\n",
       "    </tr>\n",
       "    <tr>\n",
       "      <th>Target</th>\n",
       "      <td>int64</td>\n",
       "    </tr>\n",
       "    <tr>\n",
       "      <th>Pedidos_ult_18camp</th>\n",
       "      <td>int64</td>\n",
       "    </tr>\n",
       "    <tr>\n",
       "      <th>DecilAñoAnterior</th>\n",
       "      <td>float64</td>\n",
       "    </tr>\n",
       "    <tr>\n",
       "      <th>PMNPAñoAnterior</th>\n",
       "      <td>float64</td>\n",
       "    </tr>\n",
       "    <tr>\n",
       "      <th>DecilCampAnterior</th>\n",
       "      <td>int64</td>\n",
       "    </tr>\n",
       "    <tr>\n",
       "      <th>PMNPCampAnterior</th>\n",
       "      <td>float64</td>\n",
       "    </tr>\n",
       "    <tr>\n",
       "      <th>FlagIpUnicoZona</th>\n",
       "      <td>int64</td>\n",
       "    </tr>\n",
       "    <tr>\n",
       "      <th>CodComportamientoRolling</th>\n",
       "      <td>int64</td>\n",
       "    </tr>\n",
       "    <tr>\n",
       "      <th>VarVentas3Camp</th>\n",
       "      <td>float64</td>\n",
       "    </tr>\n",
       "    <tr>\n",
       "      <th>VarMCT3Camp</th>\n",
       "      <td>float64</td>\n",
       "    </tr>\n",
       "    <tr>\n",
       "      <th>VarPPU3Camp</th>\n",
       "      <td>float64</td>\n",
       "    </tr>\n",
       "    <tr>\n",
       "      <th>PD3Camp</th>\n",
       "      <td>int64</td>\n",
       "    </tr>\n",
       "    <tr>\n",
       "      <th>Edad</th>\n",
       "      <td>float64</td>\n",
       "    </tr>\n",
       "  </tbody>\n",
       "</table>\n",
       "</div>"
      ],
      "text/plain": [
       "                         Tipo de dato\n",
       "Pkebelista                      int64\n",
       "Target                          int64\n",
       "Pedidos_ult_18camp              int64\n",
       "DecilAñoAnterior              float64\n",
       "PMNPAñoAnterior               float64\n",
       "DecilCampAnterior               int64\n",
       "PMNPCampAnterior              float64\n",
       "FlagIpUnicoZona                 int64\n",
       "CodComportamientoRolling        int64\n",
       "VarVentas3Camp                float64\n",
       "VarMCT3Camp                   float64\n",
       "VarPPU3Camp                   float64\n",
       "PD3Camp                         int64\n",
       "Edad                          float64"
      ]
     },
     "execution_count": 14,
     "metadata": {},
     "output_type": "execute_result"
    }
   ],
   "source": [
    "pd.DataFrame(df2.dtypes, columns = ['Tipo de dato'])"
   ]
  },
  {
   "cell_type": "code",
   "execution_count": 15,
   "metadata": {},
   "outputs": [
    {
     "data": {
      "text/html": [
       "<div>\n",
       "<style scoped>\n",
       "    .dataframe tbody tr th:only-of-type {\n",
       "        vertical-align: middle;\n",
       "    }\n",
       "\n",
       "    .dataframe tbody tr th {\n",
       "        vertical-align: top;\n",
       "    }\n",
       "\n",
       "    .dataframe thead th {\n",
       "        text-align: right;\n",
       "    }\n",
       "</style>\n",
       "<table border=\"1\" class=\"dataframe\">\n",
       "  <thead>\n",
       "    <tr style=\"text-align: right;\">\n",
       "      <th></th>\n",
       "      <th>Pkebelista</th>\n",
       "      <th>Target</th>\n",
       "      <th>Pedidos_ult_18camp</th>\n",
       "      <th>DecilAñoAnterior</th>\n",
       "      <th>PMNPAñoAnterior</th>\n",
       "      <th>DecilCampAnterior</th>\n",
       "      <th>PMNPCampAnterior</th>\n",
       "      <th>FlagIpUnicoZona</th>\n",
       "      <th>CodComportamientoRolling</th>\n",
       "      <th>VarVentas3Camp</th>\n",
       "      <th>VarMCT3Camp</th>\n",
       "      <th>VarPPU3Camp</th>\n",
       "      <th>PD3Camp</th>\n",
       "      <th>Edad</th>\n",
       "    </tr>\n",
       "  </thead>\n",
       "  <tbody>\n",
       "    <tr>\n",
       "      <th>count</th>\n",
       "      <td>15605.000000</td>\n",
       "      <td>15605.000000</td>\n",
       "      <td>15605.000000</td>\n",
       "      <td>13389.000000</td>\n",
       "      <td>13389.000000</td>\n",
       "      <td>15605.000000</td>\n",
       "      <td>15605.000000</td>\n",
       "      <td>15605.000000</td>\n",
       "      <td>15605.000000</td>\n",
       "      <td>15605.000000</td>\n",
       "      <td>15605.000000</td>\n",
       "      <td>15605.000000</td>\n",
       "      <td>15605.000000</td>\n",
       "      <td>15605.000000</td>\n",
       "    </tr>\n",
       "    <tr>\n",
       "      <th>mean</th>\n",
       "      <td>195126.126370</td>\n",
       "      <td>0.410189</td>\n",
       "      <td>15.488561</td>\n",
       "      <td>5.499664</td>\n",
       "      <td>3266.200045</td>\n",
       "      <td>5.499199</td>\n",
       "      <td>3009.730870</td>\n",
       "      <td>0.372445</td>\n",
       "      <td>5.717655</td>\n",
       "      <td>12.554007</td>\n",
       "      <td>11.016673</td>\n",
       "      <td>16.658453</td>\n",
       "      <td>0.322845</td>\n",
       "      <td>39.920346</td>\n",
       "    </tr>\n",
       "    <tr>\n",
       "      <th>std</th>\n",
       "      <td>92750.457536</td>\n",
       "      <td>0.491884</td>\n",
       "      <td>3.320055</td>\n",
       "      <td>2.872233</td>\n",
       "      <td>2361.674620</td>\n",
       "      <td>2.872373</td>\n",
       "      <td>2349.897689</td>\n",
       "      <td>0.483471</td>\n",
       "      <td>0.709639</td>\n",
       "      <td>39.349584</td>\n",
       "      <td>39.523005</td>\n",
       "      <td>49.061038</td>\n",
       "      <td>0.724985</td>\n",
       "      <td>12.929655</td>\n",
       "    </tr>\n",
       "    <tr>\n",
       "      <th>min</th>\n",
       "      <td>39.000000</td>\n",
       "      <td>0.000000</td>\n",
       "      <td>3.000000</td>\n",
       "      <td>1.000000</td>\n",
       "      <td>545.821340</td>\n",
       "      <td>1.000000</td>\n",
       "      <td>116.138803</td>\n",
       "      <td>0.000000</td>\n",
       "      <td>2.000000</td>\n",
       "      <td>-74.927721</td>\n",
       "      <td>-74.166667</td>\n",
       "      <td>-77.976190</td>\n",
       "      <td>0.000000</td>\n",
       "      <td>10.000000</td>\n",
       "    </tr>\n",
       "    <tr>\n",
       "      <th>25%</th>\n",
       "      <td>117739.000000</td>\n",
       "      <td>0.000000</td>\n",
       "      <td>14.000000</td>\n",
       "      <td>3.000000</td>\n",
       "      <td>2263.271511</td>\n",
       "      <td>3.000000</td>\n",
       "      <td>1904.966350</td>\n",
       "      <td>0.000000</td>\n",
       "      <td>5.000000</td>\n",
       "      <td>-7.772329</td>\n",
       "      <td>-12.500000</td>\n",
       "      <td>-10.000000</td>\n",
       "      <td>0.000000</td>\n",
       "      <td>29.000000</td>\n",
       "    </tr>\n",
       "    <tr>\n",
       "      <th>50%</th>\n",
       "      <td>216946.000000</td>\n",
       "      <td>0.000000</td>\n",
       "      <td>17.000000</td>\n",
       "      <td>5.000000</td>\n",
       "      <td>2790.398827</td>\n",
       "      <td>5.000000</td>\n",
       "      <td>2404.716542</td>\n",
       "      <td>0.000000</td>\n",
       "      <td>6.000000</td>\n",
       "      <td>6.065071</td>\n",
       "      <td>4.166667</td>\n",
       "      <td>7.777778</td>\n",
       "      <td>0.000000</td>\n",
       "      <td>38.000000</td>\n",
       "    </tr>\n",
       "    <tr>\n",
       "      <th>75%</th>\n",
       "      <td>278756.000000</td>\n",
       "      <td>1.000000</td>\n",
       "      <td>18.000000</td>\n",
       "      <td>8.000000</td>\n",
       "      <td>3632.813576</td>\n",
       "      <td>8.000000</td>\n",
       "      <td>3454.091922</td>\n",
       "      <td>1.000000</td>\n",
       "      <td>6.000000</td>\n",
       "      <td>24.934718</td>\n",
       "      <td>25.000000</td>\n",
       "      <td>30.000000</td>\n",
       "      <td>0.000000</td>\n",
       "      <td>49.000000</td>\n",
       "    </tr>\n",
       "    <tr>\n",
       "      <th>max</th>\n",
       "      <td>312147.000000</td>\n",
       "      <td>1.000000</td>\n",
       "      <td>18.000000</td>\n",
       "      <td>10.000000</td>\n",
       "      <td>96510.051673</td>\n",
       "      <td>10.000000</td>\n",
       "      <td>76045.373449</td>\n",
       "      <td>1.000000</td>\n",
       "      <td>7.000000</td>\n",
       "      <td>1826.310517</td>\n",
       "      <td>541.666667</td>\n",
       "      <td>988.095238</td>\n",
       "      <td>7.000000</td>\n",
       "      <td>100.000000</td>\n",
       "    </tr>\n",
       "  </tbody>\n",
       "</table>\n",
       "</div>"
      ],
      "text/plain": [
       "          Pkebelista        Target  Pedidos_ult_18camp  DecilAñoAnterior  \\\n",
       "count   15605.000000  15605.000000        15605.000000      13389.000000   \n",
       "mean   195126.126370      0.410189           15.488561          5.499664   \n",
       "std     92750.457536      0.491884            3.320055          2.872233   \n",
       "min        39.000000      0.000000            3.000000          1.000000   \n",
       "25%    117739.000000      0.000000           14.000000          3.000000   \n",
       "50%    216946.000000      0.000000           17.000000          5.000000   \n",
       "75%    278756.000000      1.000000           18.000000          8.000000   \n",
       "max    312147.000000      1.000000           18.000000         10.000000   \n",
       "\n",
       "       PMNPAñoAnterior  DecilCampAnterior  PMNPCampAnterior  FlagIpUnicoZona  \\\n",
       "count     13389.000000       15605.000000      15605.000000     15605.000000   \n",
       "mean       3266.200045           5.499199       3009.730870         0.372445   \n",
       "std        2361.674620           2.872373       2349.897689         0.483471   \n",
       "min         545.821340           1.000000        116.138803         0.000000   \n",
       "25%        2263.271511           3.000000       1904.966350         0.000000   \n",
       "50%        2790.398827           5.000000       2404.716542         0.000000   \n",
       "75%        3632.813576           8.000000       3454.091922         1.000000   \n",
       "max       96510.051673          10.000000      76045.373449         1.000000   \n",
       "\n",
       "       CodComportamientoRolling  VarVentas3Camp   VarMCT3Camp   VarPPU3Camp  \\\n",
       "count              15605.000000    15605.000000  15605.000000  15605.000000   \n",
       "mean                   5.717655       12.554007     11.016673     16.658453   \n",
       "std                    0.709639       39.349584     39.523005     49.061038   \n",
       "min                    2.000000      -74.927721    -74.166667    -77.976190   \n",
       "25%                    5.000000       -7.772329    -12.500000    -10.000000   \n",
       "50%                    6.000000        6.065071      4.166667      7.777778   \n",
       "75%                    6.000000       24.934718     25.000000     30.000000   \n",
       "max                    7.000000     1826.310517    541.666667    988.095238   \n",
       "\n",
       "            PD3Camp          Edad  \n",
       "count  15605.000000  15605.000000  \n",
       "mean       0.322845     39.920346  \n",
       "std        0.724985     12.929655  \n",
       "min        0.000000     10.000000  \n",
       "25%        0.000000     29.000000  \n",
       "50%        0.000000     38.000000  \n",
       "75%        0.000000     49.000000  \n",
       "max        7.000000    100.000000  "
      ]
     },
     "execution_count": 15,
     "metadata": {},
     "output_type": "execute_result"
    }
   ],
   "source": [
    "df2.describe()"
   ]
  },
  {
   "cell_type": "markdown",
   "metadata": {},
   "source": [
    "# Exploración y visualización"
   ]
  },
  {
   "cell_type": "code",
   "execution_count": 19,
   "metadata": {
    "scrolled": true
   },
   "outputs": [
    {
     "name": "stdout",
     "output_type": "stream",
     "text": [
      "AxesSubplot(0.125,0.125;0.352273x0.755)\n",
      "AxesSubplot(0.547727,0.125;0.352273x0.755)\n",
      "count    15605.000000\n",
      "mean      3009.730870\n",
      "std       2349.897689\n",
      "min        116.138803\n",
      "25%       1904.966350\n",
      "50%       2404.716542\n",
      "75%       3454.091922\n",
      "max      76045.373449\n",
      "Name: PMNPCampAnterior, dtype: float64\n"
     ]
    },
    {
     "data": {
      "image/png": "[encoded data removed]",
      "text/plain": [
       "<matplotlib.figure.Figure at 0x16fb4838320>"
      ]
     },
     "metadata": {},
     "output_type": "display_data"
    }
   ],
   "source": [
    "import seaborn as sns\n",
    "import matplotlib.pyplot as plt\n",
    "%matplotlib inline\n",
    "\n",
    "\n",
    "'''def VarDescr (x):\n",
    "    sns.set()\n",
    "    fig, ax = plt.subplots(figsize=(15,5), ncols=2)\n",
    "    sns.set_style(\"whitegrid\")\n",
    "    print(sns.distplot(x, ax = ax[0]))\n",
    "    print(sns.boxplot(x=x, ax = ax[1]))\n",
    "    print(x.describe())\n",
    "\n",
    "VarDescr(df2['PMNPCampAnterior'])'''\n",
    "\n",
    "from pandas.plotting import table and table(ax[2], np.round(df2['VarMCT3Camp'].describe(), 2))"
   ]
  },
  {
   "cell_type": "code",
   "execution_count": 42,
   "metadata": {},
   "outputs": [
    {
     "name": "stdout",
     "output_type": "stream",
     "text": [
      "AxesSubplot(0.125,0.125;0.352273x0.755)\n",
      "AxesSubplot(0.547727,0.125;0.352273x0.755)\n"
     ]
    },
    {
     "data": {
      "image/png": "[encoded data removed]",
      "text/plain": [
       "<matplotlib.figure.Figure at 0x16fb634df28>"
      ]
     },
     "metadata": {},
     "output_type": "display_data"
    }
   ],
   "source": [
    "import seaborn as sns\n",
    "import matplotlib.pyplot as plt\n",
    "from pandas.plotting import table \n",
    "%matplotlib inline\n",
    "\n",
    "\n",
    "\n",
    "sns.set()\n",
    "fig, ax = plt.subplots(figsize=(15,5), ncols=2)\n",
    "sns.set_style(\"whitegrid\")\n",
    "table(ax[0], np.round(df2['PMNPCampAnterior'].describe(), 2),loc='upper right', colWidths=[0.2, 0.2, 0.2])\n",
    "print(sns.distplot(df2['PMNPCampAnterior'], ax = ax[0]))\n",
    "print(sns.boxplot(x=df2['PMNPCampAnterior'], ax = ax[1]))\n",
    "\n"
   ]
  },
  {
   "cell_type": "code",
   "execution_count": 120,
   "metadata": {},
   "outputs": [
    {
     "name": "stdout",
     "output_type": "stream",
     "text": [
      "AxesSubplot(0.125,0.125;0.352273x0.755)\n",
      "AxesSubplot(0.547727,0.125;0.352273x0.755)\n",
      "count    15605.000000\n",
      "mean        15.488561\n",
      "std          3.320055\n",
      "min          3.000000\n",
      "25%         14.000000\n",
      "50%         17.000000\n",
      "75%         18.000000\n",
      "max         18.000000\n",
      "Name: Pedidos_ult_18camp, dtype: float64\n"
     ]
    },
    {
     "data": {
      "image/png": "[encoded data removed]",
      "text/plain": [
       "<matplotlib.figure.Figure at 0x1e3b1adff98>"
      ]
     },
     "metadata": {},
     "output_type": "display_data"
    }
   ],
   "source": [
    "VarDescr(df2['Pedidos_ult_18camp'])"
   ]
  },
  {
   "cell_type": "code",
   "execution_count": 121,
   "metadata": {},
   "outputs": [
    {
     "name": "stdout",
     "output_type": "stream",
     "text": [
      "AxesSubplot(0.125,0.125;0.352273x0.755)\n",
      "AxesSubplot(0.547727,0.125;0.352273x0.755)\n",
      "count    15605.000000\n",
      "mean        16.658453\n",
      "std         49.061038\n",
      "min        -77.976190\n",
      "25%        -10.000000\n",
      "50%          7.777778\n",
      "75%         30.000000\n",
      "max        988.095238\n",
      "Name: VarPPU3Camp, dtype: float64\n"
     ]
    },
    {
     "data": {
      "image/png": "[encoded data removed]",
      "text/plain": [
       "<matplotlib.figure.Figure at 0x1e3b2fc3d30>"
      ]
     },
     "metadata": {},
     "output_type": "display_data"
    }
   ],
   "source": [
    "VarDescr(df2['VarPPU3Camp'])"
   ]
  },
  {
   "cell_type": "code",
   "execution_count": 18,
   "metadata": {
    "collapsed": true
   },
   "outputs": [],
   "source": [
    "import seaborn as sns\n",
    "import matplotlib.pyplot as plt\n",
    "def corr_1(df):\n",
    "    sns.set(style=\"white\") \n",
    "    corr = df.corr()\n",
    "    mask = np.zeros_like(corr, dtype=np.bool)\n",
    "    mask[np.triu_indices_from(mask)] = True\n",
    "    f, ax = plt.subplots(figsize=(10, 8))\n",
    "    cmap = sns.diverging_palette(220, 10, as_cmap=True)\n",
    "    return sns.heatmap(corr, mask=mask, cmap=cmap, center=0,\n",
    "            square=True, linewidths=.5)"
   ]
  },
  {
   "cell_type": "code",
   "execution_count": 33,
   "metadata": {},
   "outputs": [
    {
     "data": {
      "text/plain": [
       "<matplotlib.axes._subplots.AxesSubplot at 0x1e3accf8710>"
      ]
     },
     "execution_count": 33,
     "metadata": {},
     "output_type": "execute_result"
    },
    {
     "data": {
      "image/png": "[encoded data removed]",
      "text/plain": [
       "<matplotlib.figure.Figure at 0x1e3ab7c3c88>"
      ]
     },
     "metadata": {},
     "output_type": "display_data"
    }
   ],
   "source": [
    "%matplotlib inline\n",
    "\n",
    "corr_1(df2)"
   ]
  },
  {
   "cell_type": "code",
   "execution_count": 34,
   "metadata": {
    "scrolled": true
   },
   "outputs": [
    {
     "data": {
      "image/png": "[encoded data removed]",
      "text/plain": [
       "<matplotlib.figure.Figure at 0x1e3acd6cac8>"
      ]
     },
     "metadata": {},
     "output_type": "display_data"
    }
   ],
   "source": [
    "import matplotlib.pyplot as plt\n",
    "import matplotlib\n",
    "\n",
    "plt.scatter(df2.VarPPU3Camp, df2.VarMCT3Camp, c=\"g\", alpha=0.5, marker='o')\n",
    "plt.xlabel(\"VarPPU3Camp\")\n",
    "plt.ylabel(\"VarMCT3Camp\")\n",
    "plt.legend(loc=2)\n",
    "plt.show()"
   ]
  },
  {
   "cell_type": "code",
   "execution_count": 2,
   "metadata": {},
   "outputs": [
    {
     "ename": "NameError",
     "evalue": "name 'pd' is not defined",
     "output_type": "error",
     "traceback": [
      "\u001b[1;31m---------------------------------------------------------------------------\u001b[0m",
      "\u001b[1;31mNameError\u001b[0m                                 Traceback (most recent call last)",
      "\u001b[1;32m<ipython-input-2-d49cd36556ac>\u001b[0m in \u001b[0;36m<module>\u001b[1;34m()\u001b[0m\n\u001b[1;32m----> 1\u001b[1;33m \u001b[0mtest\u001b[0m \u001b[1;33m=\u001b[0m \u001b[0mpd\u001b[0m\u001b[1;33m.\u001b[0m\u001b[0mDataFrame\u001b[0m\u001b[1;33m(\u001b[0m\u001b[1;33m)\u001b[0m\u001b[1;33m\u001b[0m\u001b[0m\n\u001b[0m",
      "\u001b[1;31mNameError\u001b[0m: name 'pd' is not defined"
     ]
    }
   ],
   "source": [
    "test = pd.DataFrame()"
   ]
  },
  {
   "cell_type": "code",
   "execution_count": 64,
   "metadata": {},
   "outputs": [
    {
     "data": {
      "image/png": "[encoded data removed]",
      "text/plain": [
       "<matplotlib.figure.Figure at 0x1e3aff02208>"
      ]
     },
     "metadata": {},
     "output_type": "display_data"
    }
   ],
   "source": [
    "sns.jointplot(x=df2.VarPPU3Camp, y=df2.VarMCT3Camp, data=df2, kind=\"kde\");"
   ]
  },
  {
   "cell_type": "code",
   "execution_count": 35,
   "metadata": {
    "scrolled": true
   },
   "outputs": [
    {
     "data": {
      "image/png": "[encoded data removed]",
      "text/plain": [
       "<matplotlib.figure.Figure at 0x1e3acdd4048>"
      ]
     },
     "metadata": {},
     "output_type": "display_data"
    }
   ],
   "source": [
    "import matplotlib.pyplot as plt\n",
    "import matplotlib\n",
    "\n",
    "plt.scatter(df2.PMNPAñoAnterior, df2.PMNPCampAnterior, c=\"g\", alpha=0.5, marker='o')\n",
    "plt.xlabel(\"PMNPAñoAnterior\")\n",
    "plt.ylabel(\"PMNPCampAnterior\")\n",
    "plt.legend(loc=2)\n",
    "plt.show()"
   ]
  },
  {
   "cell_type": "code",
   "execution_count": 22,
   "metadata": {
    "scrolled": true
   },
   "outputs": [
    {
     "data": {
      "image/png": "[encoded data removed]",
      "text/plain": [
       "<matplotlib.figure.Figure at 0x1e3ab0da320>"
      ]
     },
     "metadata": {},
     "output_type": "display_data"
    }
   ],
   "source": [
    "import matplotlib.pyplot as plt\n",
    "import matplotlib\n",
    "\n",
    "plt.scatter(df2.DecilCampAnterior, df2.Target, c=\"g\", alpha=0.05, marker='x')\n",
    "plt.xlabel(\"DecilCampAnterior\")\n",
    "plt.ylabel(\"Target\")\n",
    "plt.legend(loc=2)\n",
    "plt.show()"
   ]
  },
  {
   "cell_type": "markdown",
   "metadata": {},
   "source": [
    "## Modelo"
   ]
  },
  {
   "cell_type": "code",
   "execution_count": 23,
   "metadata": {},
   "outputs": [
    {
     "name": "stderr",
     "output_type": "stream",
     "text": [
      "C:\\Users\\cfabbri\\Anaconda3\\lib\\site-packages\\sklearn\\cross_validation.py:41: DeprecationWarning: This module was deprecated in version 0.18 in favor of the model_selection module into which all the refactored classes and functions are moved. Also note that the interface of the new CV iterators are different from that of this module. This module will be removed in 0.20.\n",
      "  \"This module will be removed in 0.20.\", DeprecationWarning)\n"
     ]
    }
   ],
   "source": [
    "from sklearn.model_selection import train_test_split\n",
    "from sklearn import tree\n",
    "from sklearn.metrics import classification_report\n",
    "\n",
    "from sklearn.cross_validation import cross_val_score, cross_val_predict\n",
    "from sklearn import metrics\n",
    "\n",
    "from xgboost import XGBClassifier\n"
   ]
  },
  {
   "cell_type": "code",
   "execution_count": 50,
   "metadata": {},
   "outputs": [
    {
     "name": "stdout",
     "output_type": "stream",
     "text": [
      "XGBClassifier(base_score=0.5, booster='gbtree', colsample_bylevel=1,\n",
      "       colsample_bytree=1, gamma=0, learning_rate=0.1, max_delta_step=0,\n",
      "       max_depth=3, min_child_weight=1, missing=None, n_estimators=100,\n",
      "       n_jobs=1, nthread=None, objective='binary:logistic', random_state=0,\n",
      "       reg_alpha=0, reg_lambda=1, scale_pos_weight=1, seed=None,\n",
      "       silent=True, subsample=1)\n",
      "             precision    recall  f1-score   support\n",
      "\n",
      "          0       0.73      0.77      0.75      1342\n",
      "          1       0.67      0.62      0.65       999\n",
      "\n",
      "avg / total       0.71      0.71      0.71      2341\n",
      "\n",
      "Cross-validated scores:  [ 0.71049596  0.72818147  0.71203383  0.71395617  0.70934256  0.71692308] prom 0.71515551218\n"
     ]
    }
   ],
   "source": [
    "from sklearn.preprocessing import Imputer\n",
    "df21 = df2.fillna(0)\n",
    "df21 = df21.drop(['Pkebelista'], axis=1)\n",
    "\n",
    "\n",
    "X_train, X_test, y_train, y_test = train_test_split(\n",
    "df21.loc[:, df21.columns != 'Target'],\n",
    " df21[u'Target'].values, \n",
    " test_size=0.15, \n",
    " random_state=42)\n",
    "\n",
    "xg = XGBClassifier()\n",
    "xg.fit(X_train, y_train)\n",
    "\n",
    "print(xg)\n",
    "\n",
    "\n",
    "y_pred = xg.predict(X_test)\n",
    "predictions = [round(value) for value in y_pred]\n",
    "\n",
    "print(classification_report(y_test, y_pred))\n",
    "\n",
    "\n",
    "scores = cross_val_score(xg, df21.loc[:, df21.columns != 'Target'],df21[u'Target'].values,  cv=6)\n",
    "print('Cross-validated scores: ', scores, 'prom', np.mean(scores))\n",
    "\n",
    "#feature_importances = pd.DataFrame(clf.feature_importances_, index = X_train.columns, \n",
    "#columns=['importance']).sort_values('importance', ascending=False)\n",
    "\n",
    "#print(feature_importances)\n",
    "\n",
    "\n",
    "\n"
   ]
  },
  {
   "cell_type": "code",
   "execution_count": 39,
   "metadata": {},
   "outputs": [
    {
     "data": {
      "image/png": "[encoded data removed]",
      "text/plain": [
       "<matplotlib.figure.Figure at 0x1e3ad424e10>"
      ]
     },
     "metadata": {},
     "output_type": "display_data"
    }
   ],
   "source": [
    "import xgboost as xgb\n",
    "fig, ax = plt.subplots(figsize=(10,10))\n",
    "xgb.plot_importance(xg, max_num_features=50, height=0.8, ax=ax)\n",
    "plt.show()"
   ]
  },
  {
   "cell_type": "code",
   "execution_count": 26,
   "metadata": {
    "scrolled": true
   },
   "outputs": [
    {
     "name": "stdout",
     "output_type": "stream",
     "text": [
      "(15605, 13)\n",
      "False\n",
      "             precision    recall  f1-score   support\n",
      "\n",
      "          0       0.73      0.75      0.74      1342\n",
      "          1       0.65      0.62      0.63       999\n",
      "\n",
      "avg / total       0.69      0.69      0.69      2341\n",
      "\n",
      "Cross-validated scores:  [ 0.69742407  0.71049596  0.69665513  0.70049981  0.70818916  0.7       ] prom 0.702210688197\n",
      "                          importance\n",
      "PMNPCampAnterior            0.770596\n",
      "PMNPAñoAnterior             0.172731\n",
      "Pedidos_ult_18camp          0.018922\n",
      "VarVentas3Camp              0.016660\n",
      "CodComportamientoRolling    0.010808\n",
      "VarPPU3Camp                 0.006945\n",
      "Edad                        0.003338\n",
      "DecilAñoAnterior            0.000000\n",
      "DecilCampAnterior           0.000000\n",
      "FlagIpUnicoZona             0.000000\n",
      "VarMCT3Camp                 0.000000\n",
      "PD3Camp                     0.000000\n"
     ]
    }
   ],
   "source": [
    "# 1. Borrando filas con NA en datos del año anterior: trabajamos solo con registros de los cuales se tiene data desde el año pasado.\n",
    "#df21 = df2.dropna(axis=0, how='all', subset=['DecilAñoAnterior', 'PMNPAñoAnterior'])\n",
    "# reemplazando NA con un valor para que entren al modelo las filas de las nuevas y no se queden sin estimación.\n",
    "df21 = df2.fillna(0)\n",
    "df21 = df21.drop(['Pkebelista'], axis=1)\n",
    "\n",
    "print(df21.shape)\n",
    "print(df21.isnull().values.any())\n",
    "\n",
    "\n",
    "X_train, X_test, y_train, y_test = train_test_split(\n",
    "df21.loc[:, df21.columns != 'Target'],\n",
    " df21[u'Target'].values, \n",
    " test_size=0.15, \n",
    " random_state=42)\n",
    "\n",
    "\n",
    "niveles_arbol = 5\n",
    "clf = tree.DecisionTreeClassifier(criterion='entropy', max_depth = niveles_arbol)\n",
    "clf = clf.fit(X_train, y_train)\n",
    "\n",
    "y_pred = clf.predict(X_test)\n",
    "\n",
    "\n",
    "print(classification_report(y_test, y_pred))\n",
    "\n",
    "\n",
    "scores = cross_val_score(clf, df21.loc[:, df21.columns != 'Target'],df21[u'Target'].values,  cv=6)\n",
    "print('Cross-validated scores: ', scores, 'prom', np.mean(scores))\n",
    "\n",
    "feature_importances = pd.DataFrame(clf.feature_importances_, index = X_train.columns, \n",
    "columns=['importance']).sort_values('importance', ascending=False)\n",
    "\n",
    "print(feature_importances)"
   ]
  },
  {
   "cell_type": "code",
   "execution_count": 27,
   "metadata": {},
   "outputs": [
    {
     "name": "stdout",
     "output_type": "stream",
     "text": [
      "             precision    recall  f1-score   support\n",
      "\n",
      "          0       0.70      0.82      0.75      1342\n",
      "          1       0.68      0.53      0.60       999\n",
      "\n",
      "avg / total       0.69      0.69      0.69      2341\n",
      "\n"
     ]
    }
   ],
   "source": [
    "from sklearn.linear_model import LogisticRegression\n",
    "logisticRegr = LogisticRegression()\n",
    "logisticRegr.fit(X_train, y_train)\n",
    "y_pred = logisticRegr.predict(X_test)\n",
    "print(classification_report(y_test, y_pred))"
   ]
  },
  {
   "cell_type": "code",
   "execution_count": 28,
   "metadata": {
    "collapsed": true
   },
   "outputs": [],
   "source": [
    "from sklearn.metrics import confusion_matrix\n",
    "cnf_matrix = confusion_matrix(y_test, y_pred) "
   ]
  },
  {
   "cell_type": "code",
   "execution_count": 29,
   "metadata": {
    "collapsed": true
   },
   "outputs": [],
   "source": [
    "from sklearn.metrics import confusion_matrix\n",
    "\n",
    "def print_cm(cm, labels, hide_zeroes=False, hide_diagonal=False, hide_threshold=None):\n",
    "    \"\"\"pretty print for confusion matrixes\"\"\"\n",
    "    columnwidth = max([len(x) for x in labels] + [5])  # 5 is value length\n",
    "    empty_cell = \" \" * columnwidth\n",
    "    # Print header\n",
    "    print(\"    \" + empty_cell, end=\" \")\n",
    "    for label in labels:\n",
    "        print(\"%{0}s\".format(columnwidth) % label, end=\" \")\n",
    "    print()\n",
    "    # Print rows\n",
    "    for i, label1 in enumerate(labels):\n",
    "        print(\"    %{0}s\".format(columnwidth) % label1, end=\" \")\n",
    "        for j in range(len(labels)):\n",
    "            cell = \"%{0}.1f\".format(columnwidth) % cm[i, j]\n",
    "            if hide_zeroes:\n",
    "                cell = cell if float(cm[i, j]) != 0 else empty_cell\n",
    "            if hide_diagonal:\n",
    "                cell = cell if i != j else empty_cell\n",
    "            if hide_threshold:\n",
    "                cell = cell if cm[i, j] > hide_threshold else empty_cell\n",
    "            print(cell, end=\" \")\n",
    "        print()\n"
   ]
  },
  {
   "cell_type": "code",
   "execution_count": 30,
   "metadata": {},
   "outputs": [
    {
     "name": "stdout",
     "output_type": "stream",
     "text": [
      "                             Sí Cae Sube o Mantiene \n",
      "             Sí Cae          1099.0           243.0 \n",
      "    Sube o Mantiene           473.0           526.0 \n"
     ]
    }
   ],
   "source": [
    "labels = ['Sí Cae', 'Sube o Mantiene']\n",
    "print_cm(cnf_matrix, labels)"
   ]
  },
  {
   "cell_type": "code",
   "execution_count": null,
   "metadata": {
    "collapsed": true
   },
   "outputs": [],
   "source": [
    "\n"
   ]
  },
  {
   "cell_type": "code",
   "execution_count": 31,
   "metadata": {},
   "outputs": [
    {
     "name": "stdout",
     "output_type": "stream",
     "text": [
      "                          importance\n",
      "PMNPCampAnterior            0.770596\n",
      "PMNPAñoAnterior             0.172731\n",
      "Pedidos_ult_18camp          0.018922\n",
      "VarVentas3Camp              0.016660\n",
      "CodComportamientoRolling    0.010808\n",
      "VarPPU3Camp                 0.006945\n",
      "Edad                        0.003338\n",
      "DecilAñoAnterior            0.000000\n",
      "DecilCampAnterior           0.000000\n",
      "FlagIpUnicoZona             0.000000\n",
      "VarMCT3Camp                 0.000000\n",
      "PD3Camp                     0.000000\n"
     ]
    }
   ],
   "source": [
    "feature_importances = pd.DataFrame(clf.feature_importances_, index = X_train.columns, \n",
    "columns=['importance']).sort_values('importance', ascending=False)\n",
    "\n",
    "print(feature_importances)"
   ]
  },
  {
   "cell_type": "markdown",
   "metadata": {
    "collapsed": true
   },
   "source": [
    "# Next steps"
   ]
  },
  {
   "cell_type": "markdown",
   "metadata": {},
   "source": [
    "- Hacer que el query de la tabla se actualice automaticamente desde este script\n",
    "\n",
    "- Traerlo a Dolar\n",
    "\n",
    "- Probar con otros países y campañas\n",
    "\n",
    "- Probar otros algoritmos (XGBoost, LightGBM)\n",
    "\n",
    "- Validar variables con visión de negocio, incorporar nuevas\n",
    "\n",
    "\n",
    "\n",
    "- BONUS: Integrar con arquitectura AWS"
   ]
  },
  {
   "cell_type": "code",
   "execution_count": 32,
   "metadata": {},
   "outputs": [
    {
     "ename": "SyntaxError",
     "evalue": "invalid syntax (<ipython-input-32-37f51a4826c3>, line 1)",
     "output_type": "error",
     "traceback": [
      "\u001b[1;36m  File \u001b[1;32m\"<ipython-input-32-37f51a4826c3>\"\u001b[1;36m, line \u001b[1;32m1\u001b[0m\n\u001b[1;33m    normalizar variables (normalizer) antes de xgboost\u001b[0m\n\u001b[1;37m                       ^\u001b[0m\n\u001b[1;31mSyntaxError\u001b[0m\u001b[1;31m:\u001b[0m invalid syntax\n"
     ]
    }
   ],
   "source": [
    "normalizar variables (normalizer) antes de xgboost\n",
    "ver distribucion de los datos para encontrar outlier (o graficos de cajas)\n",
    "perfilar consultoras para ponerle perfiles a las que no estaban hace un año\n",
    "\n",
    "t-sne\n",
    "https://seaborn.pydata.org/generated/seaborn.distplot.html"
   ]
  },
  {
   "cell_type": "code",
   "execution_count": null,
   "metadata": {
    "collapsed": true
   },
   "outputs": [],
   "source": []
  }
 ],
 "metadata": {
  "kernelspec": {
   "display_name": "Python 3",
   "language": "python",
   "name": "python3"
  },
  "language_info": {
   "codemirror_mode": {
    "name": "ipython",
    "version": 3
   },
   "file_extension": ".py",
   "mimetype": "text/x-python",
   "name": "python",
   "nbconvert_exporter": "python",
   "pygments_lexer": "ipython3",
   "version": "3.6.3"
  }
 },
 "nbformat": 4,
 "nbformat_minor": 2
}
