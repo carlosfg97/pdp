{
 "cells": [
  {
   "cell_type": "markdown",
   "metadata": {},
   "source": [
    "# Caida de P$P (Guatemala)"
   ]
  },
  {
   "cell_type": "markdown",
   "metadata": {},
   "source": [
    "## Conexión con AWS300"
   ]
  },
  {
   "cell_type": "code",
   "execution_count": 74,
   "metadata": {
    "collapsed": true
   },
   "outputs": [],
   "source": [
    "import pandas as pd\n",
    "import pyodbc\n",
    "import warnings\n",
    "warnings.filterwarnings('ignore')\n",
    "\n",
    "conn = pyodbc.connect('DRIVER={SQL Server Native Client 11.0};SERVER=AWNTS300;DATABASE=DATALAB;UID=usrdm;PWD=dm$2Admin4')"
   ]
  },
  {
   "cell_type": "code",
   "execution_count": 75,
   "metadata": {
    "collapsed": true
   },
   "outputs": [],
   "source": [
    " df = pd.read_sql(\"select * from [dbo].[CR_INPUT1_PDP]\" , conn)"
   ]
  },
  {
   "cell_type": "code",
   "execution_count": 76,
   "metadata": {},
   "outputs": [
    {
     "data": {
      "text/html": [
       "<div>\n",
       "<style>\n",
       "    .dataframe thead tr:only-child th {\n",
       "        text-align: right;\n",
       "    }\n",
       "\n",
       "    .dataframe thead th {\n",
       "        text-align: left;\n",
       "    }\n",
       "\n",
       "    .dataframe tbody tr th {\n",
       "        vertical-align: top;\n",
       "    }\n",
       "</style>\n",
       "<table border=\"1\" class=\"dataframe\">\n",
       "  <thead>\n",
       "    <tr style=\"text-align: right;\">\n",
       "      <th></th>\n",
       "      <th>Pkebelista</th>\n",
       "      <th>v201711</th>\n",
       "      <th>v201712</th>\n",
       "      <th>v201713</th>\n",
       "      <th>v201715</th>\n",
       "      <th>Pedidos_ult_18camp</th>\n",
       "      <th>DecilAñoAnterior</th>\n",
       "      <th>PMNPAñoAnterior</th>\n",
       "      <th>DecilCampAnterior</th>\n",
       "      <th>PMNPCampAnterior</th>\n",
       "      <th>...</th>\n",
       "      <th>ppu201713</th>\n",
       "      <th>Q201711</th>\n",
       "      <th>Q201712</th>\n",
       "      <th>Q201713</th>\n",
       "      <th>FlagIpUnicoZona</th>\n",
       "      <th>pd201711</th>\n",
       "      <th>pd201712</th>\n",
       "      <th>pd201713</th>\n",
       "      <th>CodComportamientoRolling</th>\n",
       "      <th>FechaNacimiento</th>\n",
       "    </tr>\n",
       "  </thead>\n",
       "  <tbody>\n",
       "    <tr>\n",
       "      <th>0</th>\n",
       "      <td>245726</td>\n",
       "      <td>26628.379925</td>\n",
       "      <td>28062.429781</td>\n",
       "      <td>20703.969954</td>\n",
       "      <td>55986.529604</td>\n",
       "      <td>9</td>\n",
       "      <td>NaN</td>\n",
       "      <td>NaN</td>\n",
       "      <td>4</td>\n",
       "      <td>20703.969954</td>\n",
       "      <td>...</td>\n",
       "      <td>79.325555</td>\n",
       "      <td>15</td>\n",
       "      <td>17</td>\n",
       "      <td>9</td>\n",
       "      <td>0</td>\n",
       "      <td>0</td>\n",
       "      <td>0</td>\n",
       "      <td>0</td>\n",
       "      <td>5</td>\n",
       "      <td>1973-12-03</td>\n",
       "    </tr>\n",
       "    <tr>\n",
       "      <th>1</th>\n",
       "      <td>247412</td>\n",
       "      <td>36262.499485</td>\n",
       "      <td>37686.600151</td>\n",
       "      <td>15762.899895</td>\n",
       "      <td>44087.399969</td>\n",
       "      <td>12</td>\n",
       "      <td>NaN</td>\n",
       "      <td>NaN</td>\n",
       "      <td>6</td>\n",
       "      <td>15762.899895</td>\n",
       "      <td>...</td>\n",
       "      <td>52.543000</td>\n",
       "      <td>17</td>\n",
       "      <td>18</td>\n",
       "      <td>10</td>\n",
       "      <td>0</td>\n",
       "      <td>0</td>\n",
       "      <td>0</td>\n",
       "      <td>0</td>\n",
       "      <td>6</td>\n",
       "      <td>1997-08-04</td>\n",
       "    </tr>\n",
       "    <tr>\n",
       "      <th>2</th>\n",
       "      <td>258294</td>\n",
       "      <td>12952.319824</td>\n",
       "      <td>18401.280151</td>\n",
       "      <td>15154.239990</td>\n",
       "      <td>23932.479980</td>\n",
       "      <td>12</td>\n",
       "      <td>7.0</td>\n",
       "      <td>17854.506470</td>\n",
       "      <td>7</td>\n",
       "      <td>15154.239990</td>\n",
       "      <td>...</td>\n",
       "      <td>67.652857</td>\n",
       "      <td>6</td>\n",
       "      <td>9</td>\n",
       "      <td>7</td>\n",
       "      <td>0</td>\n",
       "      <td>0</td>\n",
       "      <td>0</td>\n",
       "      <td>0</td>\n",
       "      <td>7</td>\n",
       "      <td>1964-06-14</td>\n",
       "    </tr>\n",
       "    <tr>\n",
       "      <th>3</th>\n",
       "      <td>258551</td>\n",
       "      <td>12660.479858</td>\n",
       "      <td>12619.199707</td>\n",
       "      <td>15199.359924</td>\n",
       "      <td>15979.199829</td>\n",
       "      <td>16</td>\n",
       "      <td>4.0</td>\n",
       "      <td>22915.108538</td>\n",
       "      <td>7</td>\n",
       "      <td>15199.359924</td>\n",
       "      <td>...</td>\n",
       "      <td>94.996000</td>\n",
       "      <td>5</td>\n",
       "      <td>2</td>\n",
       "      <td>5</td>\n",
       "      <td>0</td>\n",
       "      <td>0</td>\n",
       "      <td>0</td>\n",
       "      <td>0</td>\n",
       "      <td>6</td>\n",
       "      <td>1990-10-06</td>\n",
       "    </tr>\n",
       "    <tr>\n",
       "      <th>4</th>\n",
       "      <td>260409</td>\n",
       "      <td>24095.040161</td>\n",
       "      <td>18920.319946</td>\n",
       "      <td>19564.800110</td>\n",
       "      <td>13748.799805</td>\n",
       "      <td>18</td>\n",
       "      <td>5.0</td>\n",
       "      <td>21650.453089</td>\n",
       "      <td>4</td>\n",
       "      <td>19564.800110</td>\n",
       "      <td>...</td>\n",
       "      <td>76.425000</td>\n",
       "      <td>12</td>\n",
       "      <td>12</td>\n",
       "      <td>8</td>\n",
       "      <td>1</td>\n",
       "      <td>0</td>\n",
       "      <td>0</td>\n",
       "      <td>0</td>\n",
       "      <td>5</td>\n",
       "      <td>1990-02-11</td>\n",
       "    </tr>\n",
       "  </tbody>\n",
       "</table>\n",
       "<p>5 rows × 25 columns</p>\n",
       "</div>"
      ],
      "text/plain": [
       "   Pkebelista       v201711       v201712       v201713       v201715  \\\n",
       "0      245726  26628.379925  28062.429781  20703.969954  55986.529604   \n",
       "1      247412  36262.499485  37686.600151  15762.899895  44087.399969   \n",
       "2      258294  12952.319824  18401.280151  15154.239990  23932.479980   \n",
       "3      258551  12660.479858  12619.199707  15199.359924  15979.199829   \n",
       "4      260409  24095.040161  18920.319946  19564.800110  13748.799805   \n",
       "\n",
       "   Pedidos_ult_18camp  DecilAñoAnterior  PMNPAñoAnterior  DecilCampAnterior  \\\n",
       "0                   9               NaN              NaN                  4   \n",
       "1                  12               NaN              NaN                  6   \n",
       "2                  12               7.0     17854.506470                  7   \n",
       "3                  16               4.0     22915.108538                  7   \n",
       "4                  18               5.0     21650.453089                  4   \n",
       "\n",
       "   PMNPCampAnterior       ...         ppu201713  Q201711  Q201712  Q201713  \\\n",
       "0      20703.969954       ...         79.325555       15       17        9   \n",
       "1      15762.899895       ...         52.543000       17       18       10   \n",
       "2      15154.239990       ...         67.652857        6        9        7   \n",
       "3      15199.359924       ...         94.996000        5        2        5   \n",
       "4      19564.800110       ...         76.425000       12       12        8   \n",
       "\n",
       "   FlagIpUnicoZona  pd201711  pd201712  pd201713  CodComportamientoRolling  \\\n",
       "0                0         0         0         0                         5   \n",
       "1                0         0         0         0                         6   \n",
       "2                0         0         0         0                         7   \n",
       "3                0         0         0         0                         6   \n",
       "4                1         0         0         0                         5   \n",
       "\n",
       "   FechaNacimiento  \n",
       "0       1973-12-03  \n",
       "1       1997-08-04  \n",
       "2       1964-06-14  \n",
       "3       1990-10-06  \n",
       "4       1990-02-11  \n",
       "\n",
       "[5 rows x 25 columns]"
      ]
     },
     "execution_count": 76,
     "metadata": {},
     "output_type": "execute_result"
    }
   ],
   "source": [
    "df.head()"
   ]
  },
  {
   "cell_type": "code",
   "execution_count": 77,
   "metadata": {},
   "outputs": [
    {
     "name": "stdout",
     "output_type": "stream",
     "text": [
      "La base de datos cuenta con 15605 filas y 25 columnas.\n"
     ]
    }
   ],
   "source": [
    "print('La base de datos cuenta con ' + str(df.shape[0]) + ' filas y ' \n",
    "      + str(df.shape[1]) +' columnas.')"
   ]
  },
  {
   "cell_type": "code",
   "execution_count": 78,
   "metadata": {},
   "outputs": [],
   "source": [
    "def PromVariacion (num1, num2, num3):\n",
    "    var1 = ((num2/num1)-1)\n",
    "    var2 = ((num3/num2)-1)\n",
    "    PromVar = (var1+var2)/2\n",
    "    return PromVar*100\n"
   ]
  },
  {
   "cell_type": "code",
   "execution_count": 79,
   "metadata": {},
   "outputs": [],
   "source": [
    "df['VarVentas3Camp'] = PromVariacion(df.v201711,df.v201712,df.v201713)\n",
    "df['VarMCT3Camp'] =PromVariacion(df.mct201711,df.mct201712,df.mct201713)\n",
    "df['VarPPU3Camp'] =PromVariacion(df.ppu201711,df.ppu201712,df.ppu201713)\n",
    "df['VarPPU3Camp'] =PromVariacion(df.Q201711,df.Q201712,df.Q201713)\n",
    "df['Target'] = (df.v201715/df.v201713 -1)*100\n"
   ]
  },
  {
   "cell_type": "code",
   "execution_count": 80,
   "metadata": {},
   "outputs": [],
   "source": [
    "df1 = df.drop(['v201711', 'v201712','v201713','v201715','mct201711','mct201712','mct201713','ppu201711','ppu201712','ppu201713',\n",
    "               'Q201711', 'Q201712', 'Q201713'], axis=1)\n"
   ]
  },
  {
   "cell_type": "code",
   "execution_count": 81,
   "metadata": {},
   "outputs": [
    {
     "data": {
      "text/html": [
       "<div>\n",
       "<style>\n",
       "    .dataframe thead tr:only-child th {\n",
       "        text-align: right;\n",
       "    }\n",
       "\n",
       "    .dataframe thead th {\n",
       "        text-align: left;\n",
       "    }\n",
       "\n",
       "    .dataframe tbody tr th {\n",
       "        vertical-align: top;\n",
       "    }\n",
       "</style>\n",
       "<table border=\"1\" class=\"dataframe\">\n",
       "  <thead>\n",
       "    <tr style=\"text-align: right;\">\n",
       "      <th></th>\n",
       "      <th>Tipo de dato</th>\n",
       "    </tr>\n",
       "  </thead>\n",
       "  <tbody>\n",
       "    <tr>\n",
       "      <th>Pkebelista</th>\n",
       "      <td>int64</td>\n",
       "    </tr>\n",
       "    <tr>\n",
       "      <th>Pedidos_ult_18camp</th>\n",
       "      <td>int64</td>\n",
       "    </tr>\n",
       "    <tr>\n",
       "      <th>DecilAñoAnterior</th>\n",
       "      <td>float64</td>\n",
       "    </tr>\n",
       "    <tr>\n",
       "      <th>PMNPAñoAnterior</th>\n",
       "      <td>float64</td>\n",
       "    </tr>\n",
       "    <tr>\n",
       "      <th>DecilCampAnterior</th>\n",
       "      <td>int64</td>\n",
       "    </tr>\n",
       "    <tr>\n",
       "      <th>PMNPCampAnterior</th>\n",
       "      <td>float64</td>\n",
       "    </tr>\n",
       "    <tr>\n",
       "      <th>FlagIpUnicoZona</th>\n",
       "      <td>int64</td>\n",
       "    </tr>\n",
       "    <tr>\n",
       "      <th>pd201711</th>\n",
       "      <td>int64</td>\n",
       "    </tr>\n",
       "    <tr>\n",
       "      <th>pd201712</th>\n",
       "      <td>int64</td>\n",
       "    </tr>\n",
       "    <tr>\n",
       "      <th>pd201713</th>\n",
       "      <td>int64</td>\n",
       "    </tr>\n",
       "    <tr>\n",
       "      <th>CodComportamientoRolling</th>\n",
       "      <td>int64</td>\n",
       "    </tr>\n",
       "    <tr>\n",
       "      <th>FechaNacimiento</th>\n",
       "      <td>datetime64[ns]</td>\n",
       "    </tr>\n",
       "    <tr>\n",
       "      <th>VarVentas3Camp</th>\n",
       "      <td>float64</td>\n",
       "    </tr>\n",
       "    <tr>\n",
       "      <th>VarMCT3Camp</th>\n",
       "      <td>float64</td>\n",
       "    </tr>\n",
       "    <tr>\n",
       "      <th>VarPPU3Camp</th>\n",
       "      <td>float64</td>\n",
       "    </tr>\n",
       "    <tr>\n",
       "      <th>Target</th>\n",
       "      <td>float64</td>\n",
       "    </tr>\n",
       "  </tbody>\n",
       "</table>\n",
       "</div>"
      ],
      "text/plain": [
       "                            Tipo de dato\n",
       "Pkebelista                         int64\n",
       "Pedidos_ult_18camp                 int64\n",
       "DecilAñoAnterior                 float64\n",
       "PMNPAñoAnterior                  float64\n",
       "DecilCampAnterior                  int64\n",
       "PMNPCampAnterior                 float64\n",
       "FlagIpUnicoZona                    int64\n",
       "pd201711                           int64\n",
       "pd201712                           int64\n",
       "pd201713                           int64\n",
       "CodComportamientoRolling           int64\n",
       "FechaNacimiento           datetime64[ns]\n",
       "VarVentas3Camp                   float64\n",
       "VarMCT3Camp                      float64\n",
       "VarPPU3Camp                      float64\n",
       "Target                           float64"
      ]
     },
     "execution_count": 81,
     "metadata": {},
     "output_type": "execute_result"
    }
   ],
   "source": [
    "pd.DataFrame(df1.dtypes, columns = ['Tipo de dato'])"
   ]
  },
  {
   "cell_type": "code",
   "execution_count": 82,
   "metadata": {},
   "outputs": [
    {
     "data": {
      "text/plain": [
       "0    8749\n",
       "1    6856\n",
       "Name: TargetBinary, dtype: int64"
      ]
     },
     "execution_count": 82,
     "metadata": {},
     "output_type": "execute_result"
    }
   ],
   "source": [
    "import numpy as np\n",
    "\n",
    "df1['TargetBinary'] = np.where(df1['Target']<-10, 1, 0)\n",
    "\n",
    "df1['TargetBinary'].value_counts(normalize=False, sort=True, ascending=False, bins=None, dropna=True)"
   ]
  },
  {
   "cell_type": "code",
   "execution_count": 83,
   "metadata": {},
   "outputs": [],
   "source": [
    "import datetime as DT\n",
    "import io\n",
    "\n",
    "now = pd.Timestamp(DT.datetime.now())\n",
    "df1['FechaNacimiento'] = df1['FechaNacimiento'].where(df1['FechaNacimiento'] < now, df1['FechaNacimiento'] -  np.timedelta64(100, 'Y'))   # 2\n",
    "df1['Edad'] = (now - df1['FechaNacimiento']).astype('<m8[Y]')    # 3\n",
    "\n",
    "df2 = df1.drop(['FechaNacimiento'], axis=1)"
   ]
  },
  {
   "cell_type": "code",
   "execution_count": 97,
   "metadata": {},
   "outputs": [
    {
     "data": {
      "text/html": [
       "<div>\n",
       "<style>\n",
       "    .dataframe thead tr:only-child th {\n",
       "        text-align: right;\n",
       "    }\n",
       "\n",
       "    .dataframe thead th {\n",
       "        text-align: left;\n",
       "    }\n",
       "\n",
       "    .dataframe tbody tr th {\n",
       "        vertical-align: top;\n",
       "    }\n",
       "</style>\n",
       "<table border=\"1\" class=\"dataframe\">\n",
       "  <thead>\n",
       "    <tr style=\"text-align: right;\">\n",
       "      <th></th>\n",
       "      <th>Pkebelista</th>\n",
       "      <th>Pedidos_ult_18camp</th>\n",
       "      <th>DecilAñoAnterior</th>\n",
       "      <th>PMNPAñoAnterior</th>\n",
       "      <th>DecilCampAnterior</th>\n",
       "      <th>PMNPCampAnterior</th>\n",
       "      <th>FlagIpUnicoZona</th>\n",
       "      <th>pd201711</th>\n",
       "      <th>pd201712</th>\n",
       "      <th>pd201713</th>\n",
       "      <th>CodComportamientoRolling</th>\n",
       "      <th>VarVentas3Camp</th>\n",
       "      <th>VarMCT3Camp</th>\n",
       "      <th>VarPPU3Camp</th>\n",
       "      <th>TargetBinary</th>\n",
       "      <th>Edad</th>\n",
       "    </tr>\n",
       "  </thead>\n",
       "  <tbody>\n",
       "    <tr>\n",
       "      <th>0</th>\n",
       "      <td>245726</td>\n",
       "      <td>9</td>\n",
       "      <td>NaN</td>\n",
       "      <td>NaN</td>\n",
       "      <td>4</td>\n",
       "      <td>20703.969954</td>\n",
       "      <td>0</td>\n",
       "      <td>0</td>\n",
       "      <td>0</td>\n",
       "      <td>0</td>\n",
       "      <td>5</td>\n",
       "      <td>-10.418165</td>\n",
       "      <td>-31.250000</td>\n",
       "      <td>-16.862745</td>\n",
       "      <td>0</td>\n",
       "      <td>44.0</td>\n",
       "    </tr>\n",
       "    <tr>\n",
       "      <th>1</th>\n",
       "      <td>247412</td>\n",
       "      <td>12</td>\n",
       "      <td>NaN</td>\n",
       "      <td>NaN</td>\n",
       "      <td>6</td>\n",
       "      <td>15762.899895</td>\n",
       "      <td>0</td>\n",
       "      <td>0</td>\n",
       "      <td>0</td>\n",
       "      <td>0</td>\n",
       "      <td>6</td>\n",
       "      <td>-27.123264</td>\n",
       "      <td>-22.424242</td>\n",
       "      <td>-19.281046</td>\n",
       "      <td>0</td>\n",
       "      <td>20.0</td>\n",
       "    </tr>\n",
       "    <tr>\n",
       "      <th>2</th>\n",
       "      <td>258294</td>\n",
       "      <td>12</td>\n",
       "      <td>7.0</td>\n",
       "      <td>17854.506470</td>\n",
       "      <td>7</td>\n",
       "      <td>15154.239990</td>\n",
       "      <td>0</td>\n",
       "      <td>0</td>\n",
       "      <td>0</td>\n",
       "      <td>0</td>\n",
       "      <td>7</td>\n",
       "      <td>12.211824</td>\n",
       "      <td>4.166667</td>\n",
       "      <td>13.888889</td>\n",
       "      <td>0</td>\n",
       "      <td>53.0</td>\n",
       "    </tr>\n",
       "    <tr>\n",
       "      <th>3</th>\n",
       "      <td>258551</td>\n",
       "      <td>16</td>\n",
       "      <td>4.0</td>\n",
       "      <td>22915.108538</td>\n",
       "      <td>7</td>\n",
       "      <td>15199.359924</td>\n",
       "      <td>0</td>\n",
       "      <td>0</td>\n",
       "      <td>0</td>\n",
       "      <td>0</td>\n",
       "      <td>6</td>\n",
       "      <td>10.060126</td>\n",
       "      <td>20.833333</td>\n",
       "      <td>45.000000</td>\n",
       "      <td>0</td>\n",
       "      <td>27.0</td>\n",
       "    </tr>\n",
       "    <tr>\n",
       "      <th>4</th>\n",
       "      <td>260409</td>\n",
       "      <td>18</td>\n",
       "      <td>5.0</td>\n",
       "      <td>21650.453089</td>\n",
       "      <td>4</td>\n",
       "      <td>19564.800110</td>\n",
       "      <td>1</td>\n",
       "      <td>0</td>\n",
       "      <td>0</td>\n",
       "      <td>0</td>\n",
       "      <td>5</td>\n",
       "      <td>-9.035001</td>\n",
       "      <td>-3.333333</td>\n",
       "      <td>-16.666667</td>\n",
       "      <td>1</td>\n",
       "      <td>28.0</td>\n",
       "    </tr>\n",
       "  </tbody>\n",
       "</table>\n",
       "</div>"
      ],
      "text/plain": [
       "   Pkebelista  Pedidos_ult_18camp  DecilAñoAnterior  PMNPAñoAnterior  \\\n",
       "0      245726                   9               NaN              NaN   \n",
       "1      247412                  12               NaN              NaN   \n",
       "2      258294                  12               7.0     17854.506470   \n",
       "3      258551                  16               4.0     22915.108538   \n",
       "4      260409                  18               5.0     21650.453089   \n",
       "\n",
       "   DecilCampAnterior  PMNPCampAnterior  FlagIpUnicoZona  pd201711  pd201712  \\\n",
       "0                  4      20703.969954                0         0         0   \n",
       "1                  6      15762.899895                0         0         0   \n",
       "2                  7      15154.239990                0         0         0   \n",
       "3                  7      15199.359924                0         0         0   \n",
       "4                  4      19564.800110                1         0         0   \n",
       "\n",
       "   pd201713  CodComportamientoRolling  VarVentas3Camp  VarMCT3Camp  \\\n",
       "0         0                         5      -10.418165   -31.250000   \n",
       "1         0                         6      -27.123264   -22.424242   \n",
       "2         0                         7       12.211824     4.166667   \n",
       "3         0                         6       10.060126    20.833333   \n",
       "4         0                         5       -9.035001    -3.333333   \n",
       "\n",
       "   VarPPU3Camp  TargetBinary  Edad  \n",
       "0   -16.862745             0  44.0  \n",
       "1   -19.281046             0  20.0  \n",
       "2    13.888889             0  53.0  \n",
       "3    45.000000             0  27.0  \n",
       "4   -16.666667             1  28.0  "
      ]
     },
     "execution_count": 97,
     "metadata": {},
     "output_type": "execute_result"
    }
   ],
   "source": [
    "df2.head()\n",
    "\n"
   ]
  },
  {
   "cell_type": "code",
   "execution_count": 89,
   "metadata": {},
   "outputs": [
    {
     "data": {
      "text/plain": [
       "26.0     468\n",
       "33.0     468\n",
       "35.0     449\n",
       "30.0     444\n",
       "32.0     439\n",
       "34.0     437\n",
       "28.0     437\n",
       "29.0     437\n",
       "36.0     435\n",
       "31.0     430\n",
       "27.0     424\n",
       "40.0     420\n",
       "39.0     416\n",
       "41.0     414\n",
       "38.0     413\n",
       "37.0     408\n",
       "25.0     407\n",
       "43.0     382\n",
       "23.0     380\n",
       "24.0     373\n",
       "42.0     373\n",
       "22.0     372\n",
       "44.0     363\n",
       "46.0     353\n",
       "45.0     345\n",
       "21.0     339\n",
       "48.0     334\n",
       "47.0     324\n",
       "53.0     291\n",
       "49.0     282\n",
       "        ... \n",
       "19.0      91\n",
       "66.0      90\n",
       "69.0      57\n",
       "70.0      48\n",
       "71.0      19\n",
       "72.0      16\n",
       "73.0      16\n",
       "74.0      16\n",
       "76.0      14\n",
       "75.0      12\n",
       "77.0       9\n",
       "78.0       7\n",
       "82.0       5\n",
       "83.0       4\n",
       "79.0       4\n",
       "80.0       3\n",
       "98.0       3\n",
       "84.0       2\n",
       "93.0       1\n",
       "10.0       1\n",
       "85.0       1\n",
       "95.0       1\n",
       "90.0       1\n",
       "88.0       1\n",
       "100.0      1\n",
       "97.0       1\n",
       "91.0       1\n",
       "81.0       1\n",
       "99.0       1\n",
       "86.0       1\n",
       "Name: Edad, Length: 78, dtype: int64"
      ]
     },
     "execution_count": 89,
     "metadata": {},
     "output_type": "execute_result"
    }
   ],
   "source": [
    "df2['Edad'].value_counts(normalize=False, sort=True, ascending=False, bins=None, dropna=True)"
   ]
  },
  {
   "cell_type": "code",
   "execution_count": 91,
   "metadata": {
    "collapsed": true
   },
   "outputs": [],
   "source": [
    "count_edad = df2.groupby([u'Edad'])[u'Edad'].count().reset_index(name='count')"
   ]
  },
  {
   "cell_type": "code",
   "execution_count": 90,
   "metadata": {},
   "outputs": [
    {
     "data": {
      "text/plain": [
       "<matplotlib.axes._subplots.AxesSubplot at 0x207f7cd2048>"
      ]
     },
     "execution_count": 90,
     "metadata": {},
     "output_type": "execute_result"
    },
    {
     "data": {
      "image/png": "[encoded data removed]",
      "text/plain": [
       "<matplotlib.figure.Figure at 0x207f7d97320>"
      ]
     },
     "metadata": {},
     "output_type": "display_data"
    }
   ],
   "source": [
    "%matplotlib inline\n",
    "\n",
    "count_edad[u'Edad'].plot(kind='hist')"
   ]
  },
  {
   "cell_type": "code",
   "execution_count": 92,
   "metadata": {},
   "outputs": [
    {
     "data": {
      "text/plain": [
       "<matplotlib.axes._subplots.AxesSubplot at 0x207f7cd2208>"
      ]
     },
     "execution_count": 92,
     "metadata": {},
     "output_type": "execute_result"
    },
    {
     "data": {
      "image/png": "[encoded data removed]",
      "text/plain": [
       "<matplotlib.figure.Figure at 0x207f7e20e48>"
      ]
     },
     "metadata": {},
     "output_type": "display_data"
    }
   ],
   "source": [
    "count_edad[u'Edad'].plot()"
   ]
  },
  {
   "cell_type": "code",
   "execution_count": 93,
   "metadata": {
    "collapsed": true
   },
   "outputs": [],
   "source": [
    "import seaborn as sns\n",
    "import matplotlib.pyplot as plt\n",
    "def corr_1(df):\n",
    "    sns.set(style=\"white\") \n",
    "    corr = df.corr()\n",
    "    mask = np.zeros_like(corr, dtype=np.bool)\n",
    "    mask[np.triu_indices_from(mask)] = True\n",
    "    f, ax = plt.subplots(figsize=(10, 8))\n",
    "    cmap = sns.diverging_palette(220, 10, as_cmap=True)\n",
    "    return sns.heatmap(corr, mask=mask, cmap=cmap, center=0,\n",
    "            square=True, linewidths=.5)"
   ]
  },
  {
   "cell_type": "code",
   "execution_count": 98,
   "metadata": {},
   "outputs": [
    {
     "data": {
      "text/plain": [
       "<matplotlib.axes._subplots.AxesSubplot at 0x207f8a9b358>"
      ]
     },
     "execution_count": 98,
     "metadata": {},
     "output_type": "execute_result"
    },
    {
     "data": {
      "image/png": "[encoded data removed]",
      "text/plain": [
       "<matplotlib.figure.Figure at 0x207f7f7b550>"
      ]
     },
     "metadata": {},
     "output_type": "display_data"
    }
   ],
   "source": [
    "corr_1(df2)"
   ]
  },
  {
   "cell_type": "markdown",
   "metadata": {},
   "source": [
    "## Modelo"
   ]
  },
  {
   "cell_type": "code",
   "execution_count": 131,
   "metadata": {},
   "outputs": [
    {
     "ename": "ValueError",
     "evalue": "labels ['DecilAñoAnterior' 'PMNPAñoAnterior'] not contained in axis",
     "output_type": "error",
     "traceback": [
      "\u001b[1;31m---------------------------------------------------------------------------\u001b[0m",
      "\u001b[1;31mValueError\u001b[0m                                Traceback (most recent call last)",
      "\u001b[1;32m<ipython-input-131-5b975bf21b3b>\u001b[0m in \u001b[0;36m<module>\u001b[1;34m()\u001b[0m\n\u001b[1;32m----> 1\u001b[1;33m \u001b[0mdf3\u001b[0m \u001b[1;33m=\u001b[0m \u001b[0mdf2\u001b[0m\u001b[1;33m.\u001b[0m\u001b[0mdrop\u001b[0m\u001b[1;33m(\u001b[0m\u001b[1;33m[\u001b[0m\u001b[1;34m'DecilAñoAnterior'\u001b[0m\u001b[1;33m,\u001b[0m \u001b[1;34m'PMNPAñoAnterior'\u001b[0m \u001b[1;33m]\u001b[0m\u001b[1;33m,\u001b[0m \u001b[0maxis\u001b[0m\u001b[1;33m=\u001b[0m\u001b[1;36m1\u001b[0m\u001b[1;33m)\u001b[0m\u001b[1;33m\u001b[0m\u001b[0m\n\u001b[0m\u001b[0;32m      2\u001b[0m \u001b[1;31m# PREPROCESAR http://scikit-learn.org/stable/modules/preprocessing.html\u001b[0m\u001b[1;33m\u001b[0m\u001b[1;33m\u001b[0m\u001b[0m\n",
      "\u001b[1;32m~\\Anaconda3\\lib\\site-packages\\pandas\\core\\generic.py\u001b[0m in \u001b[0;36mdrop\u001b[1;34m(self, labels, axis, level, inplace, errors)\u001b[0m\n\u001b[0;32m   2159\u001b[0m                 \u001b[0mnew_axis\u001b[0m \u001b[1;33m=\u001b[0m \u001b[0maxis\u001b[0m\u001b[1;33m.\u001b[0m\u001b[0mdrop\u001b[0m\u001b[1;33m(\u001b[0m\u001b[0mlabels\u001b[0m\u001b[1;33m,\u001b[0m \u001b[0mlevel\u001b[0m\u001b[1;33m=\u001b[0m\u001b[0mlevel\u001b[0m\u001b[1;33m,\u001b[0m \u001b[0merrors\u001b[0m\u001b[1;33m=\u001b[0m\u001b[0merrors\u001b[0m\u001b[1;33m)\u001b[0m\u001b[1;33m\u001b[0m\u001b[0m\n\u001b[0;32m   2160\u001b[0m             \u001b[1;32melse\u001b[0m\u001b[1;33m:\u001b[0m\u001b[1;33m\u001b[0m\u001b[0m\n\u001b[1;32m-> 2161\u001b[1;33m                 \u001b[0mnew_axis\u001b[0m \u001b[1;33m=\u001b[0m \u001b[0maxis\u001b[0m\u001b[1;33m.\u001b[0m\u001b[0mdrop\u001b[0m\u001b[1;33m(\u001b[0m\u001b[0mlabels\u001b[0m\u001b[1;33m,\u001b[0m \u001b[0merrors\u001b[0m\u001b[1;33m=\u001b[0m\u001b[0merrors\u001b[0m\u001b[1;33m)\u001b[0m\u001b[1;33m\u001b[0m\u001b[0m\n\u001b[0m\u001b[0;32m   2162\u001b[0m             \u001b[0mdropped\u001b[0m \u001b[1;33m=\u001b[0m \u001b[0mself\u001b[0m\u001b[1;33m.\u001b[0m\u001b[0mreindex\u001b[0m\u001b[1;33m(\u001b[0m\u001b[1;33m**\u001b[0m\u001b[1;33m{\u001b[0m\u001b[0maxis_name\u001b[0m\u001b[1;33m:\u001b[0m \u001b[0mnew_axis\u001b[0m\u001b[1;33m}\u001b[0m\u001b[1;33m)\u001b[0m\u001b[1;33m\u001b[0m\u001b[0m\n\u001b[0;32m   2163\u001b[0m             \u001b[1;32mtry\u001b[0m\u001b[1;33m:\u001b[0m\u001b[1;33m\u001b[0m\u001b[0m\n",
      "\u001b[1;32m~\\Anaconda3\\lib\\site-packages\\pandas\\core\\indexes\\base.py\u001b[0m in \u001b[0;36mdrop\u001b[1;34m(self, labels, errors)\u001b[0m\n\u001b[0;32m   3622\u001b[0m             \u001b[1;32mif\u001b[0m \u001b[0merrors\u001b[0m \u001b[1;33m!=\u001b[0m \u001b[1;34m'ignore'\u001b[0m\u001b[1;33m:\u001b[0m\u001b[1;33m\u001b[0m\u001b[0m\n\u001b[0;32m   3623\u001b[0m                 raise ValueError('labels %s not contained in axis' %\n\u001b[1;32m-> 3624\u001b[1;33m                                  labels[mask])\n\u001b[0m\u001b[0;32m   3625\u001b[0m             \u001b[0mindexer\u001b[0m \u001b[1;33m=\u001b[0m \u001b[0mindexer\u001b[0m\u001b[1;33m[\u001b[0m\u001b[1;33m~\u001b[0m\u001b[0mmask\u001b[0m\u001b[1;33m]\u001b[0m\u001b[1;33m\u001b[0m\u001b[0m\n\u001b[0;32m   3626\u001b[0m         \u001b[1;32mreturn\u001b[0m \u001b[0mself\u001b[0m\u001b[1;33m.\u001b[0m\u001b[0mdelete\u001b[0m\u001b[1;33m(\u001b[0m\u001b[0mindexer\u001b[0m\u001b[1;33m)\u001b[0m\u001b[1;33m\u001b[0m\u001b[0m\n",
      "\u001b[1;31mValueError\u001b[0m: labels ['DecilAñoAnterior' 'PMNPAñoAnterior'] not contained in axis"
     ]
    }
   ],
   "source": [
    "df3 = df2.drop(['DecilAñoAnterior', 'PMNPAñoAnterior' ], axis=1)\n",
    "# PREPROCESAR http://scikit-learn.org/stable/modules/preprocessing.html"
   ]
  },
  {
   "cell_type": "code",
   "execution_count": 118,
   "metadata": {},
   "outputs": [
    {
     "data": {
      "text/plain": [
       "(15605, 14)"
      ]
     },
     "execution_count": 118,
     "metadata": {},
     "output_type": "execute_result"
    }
   ],
   "source": [
    "df3.shape\n",
    "df[df.isnull().any(axis=1)]"
   ]
  },
  {
   "cell_type": "code",
   "execution_count": 119,
   "metadata": {},
   "outputs": [
    {
     "data": {
      "text/html": [
       "<div>\n",
       "<style>\n",
       "    .dataframe thead tr:only-child th {\n",
       "        text-align: right;\n",
       "    }\n",
       "\n",
       "    .dataframe thead th {\n",
       "        text-align: left;\n",
       "    }\n",
       "\n",
       "    .dataframe tbody tr th {\n",
       "        vertical-align: top;\n",
       "    }\n",
       "</style>\n",
       "<table border=\"1\" class=\"dataframe\">\n",
       "  <thead>\n",
       "    <tr style=\"text-align: right;\">\n",
       "      <th></th>\n",
       "      <th>Pkebelista</th>\n",
       "      <th>Pedidos_ult_18camp</th>\n",
       "      <th>DecilCampAnterior</th>\n",
       "      <th>PMNPCampAnterior</th>\n",
       "      <th>FlagIpUnicoZona</th>\n",
       "      <th>pd201711</th>\n",
       "      <th>pd201712</th>\n",
       "      <th>pd201713</th>\n",
       "      <th>CodComportamientoRolling</th>\n",
       "      <th>VarVentas3Camp</th>\n",
       "      <th>VarMCT3Camp</th>\n",
       "      <th>VarPPU3Camp</th>\n",
       "      <th>TargetBinary</th>\n",
       "      <th>Edad</th>\n",
       "    </tr>\n",
       "  </thead>\n",
       "  <tbody>\n",
       "    <tr>\n",
       "      <th>9304</th>\n",
       "      <td>286912</td>\n",
       "      <td>14</td>\n",
       "      <td>9</td>\n",
       "      <td>10474.879929</td>\n",
       "      <td>1</td>\n",
       "      <td>0</td>\n",
       "      <td>0</td>\n",
       "      <td>0</td>\n",
       "      <td>7</td>\n",
       "      <td>-21.959505</td>\n",
       "      <td>11.666667</td>\n",
       "      <td>-5.551115e-15</td>\n",
       "      <td>0</td>\n",
       "      <td>NaN</td>\n",
       "    </tr>\n",
       "    <tr>\n",
       "      <th>12947</th>\n",
       "      <td>188274</td>\n",
       "      <td>18</td>\n",
       "      <td>5</td>\n",
       "      <td>17603.839600</td>\n",
       "      <td>1</td>\n",
       "      <td>0</td>\n",
       "      <td>0</td>\n",
       "      <td>0</td>\n",
       "      <td>6</td>\n",
       "      <td>-12.885473</td>\n",
       "      <td>-8.333333</td>\n",
       "      <td>-1.458333e+01</td>\n",
       "      <td>1</td>\n",
       "      <td>NaN</td>\n",
       "    </tr>\n",
       "  </tbody>\n",
       "</table>\n",
       "</div>"
      ],
      "text/plain": [
       "       Pkebelista  Pedidos_ult_18camp  DecilCampAnterior  PMNPCampAnterior  \\\n",
       "9304       286912                  14                  9      10474.879929   \n",
       "12947      188274                  18                  5      17603.839600   \n",
       "\n",
       "       FlagIpUnicoZona  pd201711  pd201712  pd201713  \\\n",
       "9304                 1         0         0         0   \n",
       "12947                1         0         0         0   \n",
       "\n",
       "       CodComportamientoRolling  VarVentas3Camp  VarMCT3Camp   VarPPU3Camp  \\\n",
       "9304                          7      -21.959505    11.666667 -5.551115e-15   \n",
       "12947                         6      -12.885473    -8.333333 -1.458333e+01   \n",
       "\n",
       "       TargetBinary  Edad  \n",
       "9304              0   NaN  \n",
       "12947             1   NaN  "
      ]
     },
     "execution_count": 119,
     "metadata": {},
     "output_type": "execute_result"
    }
   ],
   "source": [
    "df3[df3.isnull().any(axis=1)]"
   ]
  },
  {
   "cell_type": "code",
   "execution_count": 124,
   "metadata": {},
   "outputs": [],
   "source": [
    "df3 = df3.drop(df.index[[9304,12947]])"
   ]
  },
  {
   "cell_type": "code",
   "execution_count": 125,
   "metadata": {
    "collapsed": true
   },
   "outputs": [],
   "source": [
    "#Hacemos split de la data\n",
    "from sklearn.model_selection import train_test_split\n",
    "X_train, X_test, y_train, y_test = train_test_split(\n",
    "df3.loc[:, df3.columns != 'TargetBinary'],\n",
    " df3[u'TargetBinary'].values, \n",
    " test_size=0.15, \n",
    " random_state=42)"
   ]
  },
  {
   "cell_type": "code",
   "execution_count": 132,
   "metadata": {},
   "outputs": [],
   "source": [
    "from sklearn import tree\n",
    "q_niveles_arbol = 15\n",
    "clf = tree.DecisionTreeClassifier(criterion='entropy', max_depth = q_niveles_arbol)\n",
    "clf = clf.fit(X_train, y_train)"
   ]
  },
  {
   "cell_type": "code",
   "execution_count": 133,
   "metadata": {},
   "outputs": [],
   "source": [
    "y_pred = clf.predict(X_test)"
   ]
  },
  {
   "cell_type": "code",
   "execution_count": 134,
   "metadata": {
    "scrolled": true
   },
   "outputs": [
    {
     "name": "stdout",
     "output_type": "stream",
     "text": [
      "             precision    recall  f1-score   support\n",
      "\n",
      "          0       0.71      0.74      0.72      1297\n",
      "          1       0.66      0.63      0.64      1044\n",
      "\n",
      "avg / total       0.69      0.69      0.69      2341\n",
      "\n"
     ]
    }
   ],
   "source": [
    "from sklearn.metrics import classification_report\n",
    "print(classification_report(y_test, y_pred))"
   ]
  },
  {
   "cell_type": "markdown",
   "metadata": {},
   "source": [
    "Ajustes al modelo:\n",
    "- No eliminar las columnas con data del año pasado sino procesarlas (reemplazar con decil 0?, reemplazar con la media?)\n",
    "- trabajr solo con las filas de las cuales se tiene info del año pasado?\n",
    "\n"
   ]
  },
  {
   "cell_type": "code",
   "execution_count": 139,
   "metadata": {},
   "outputs": [],
   "source": [
    "from sklearn.metrics import confusion_matrix\n",
    "cnf_matrix = confusion_matrix(y_test, y_pred) "
   ]
  },
  {
   "cell_type": "code",
   "execution_count": 143,
   "metadata": {},
   "outputs": [],
   "source": [
    "from sklearn.metrics import confusion_matrix\n",
    "\n",
    "def print_cm(cm, labels, hide_zeroes=False, hide_diagonal=False, hide_threshold=None):\n",
    "    \"\"\"pretty print for confusion matrixes\"\"\"\n",
    "    columnwidth = max([len(x) for x in labels] + [5])  # 5 is value length\n",
    "    empty_cell = \" \" * columnwidth\n",
    "    # Print header\n",
    "    print(\"    \" + empty_cell, end=\" \")\n",
    "    for label in labels:\n",
    "        print(\"%{0}s\".format(columnwidth) % label, end=\" \")\n",
    "    print()\n",
    "    # Print rows\n",
    "    for i, label1 in enumerate(labels):\n",
    "        print(\"    %{0}s\".format(columnwidth) % label1, end=\" \")\n",
    "        for j in range(len(labels)):\n",
    "            cell = \"%{0}.1f\".format(columnwidth) % cm[i, j]\n",
    "            if hide_zeroes:\n",
    "                cell = cell if float(cm[i, j]) != 0 else empty_cell\n",
    "            if hide_diagonal:\n",
    "                cell = cell if i != j else empty_cell\n",
    "            if hide_threshold:\n",
    "                cell = cell if cm[i, j] > hide_threshold else empty_cell\n",
    "            print(cell, end=\" \")\n",
    "        print()\n"
   ]
  },
  {
   "cell_type": "code",
   "execution_count": 146,
   "metadata": {},
   "outputs": [
    {
     "name": "stdout",
     "output_type": "stream",
     "text": [
      "                             Sí Cae Sube o Mantiene \n",
      "             Sí Cae           957.0           340.0 \n",
      "    Sube o Mantiene           387.0           657.0 \n"
     ]
    }
   ],
   "source": [
    "labels = ['Sí Cae', 'Sube o Mantiene']\n",
    "print_cm(cnf_matrix, labels)"
   ]
  },
  {
   "cell_type": "code",
   "execution_count": 156,
   "metadata": {},
   "outputs": [],
   "source": [
    "\n",
    "y_pred2 = np.ones(len(y_pred))\n"
   ]
  },
  {
   "cell_type": "code",
   "execution_count": 157,
   "metadata": {},
   "outputs": [
    {
     "name": "stdout",
     "output_type": "stream",
     "text": [
      "             precision    recall  f1-score   support\n",
      "\n",
      "          0       0.00      0.00      0.00      1297\n",
      "          1       0.45      1.00      0.62      1044\n",
      "\n",
      "avg / total       0.20      0.45      0.28      2341\n",
      "\n"
     ]
    }
   ],
   "source": [
    "from sklearn.metrics import classification_report\n",
    "print(classification_report(y_test, y_pred2))"
   ]
  },
  {
   "cell_type": "code",
   "execution_count": null,
   "metadata": {
    "collapsed": true
   },
   "outputs": [],
   "source": []
  }
 ],
 "metadata": {
  "kernelspec": {
   "display_name": "Python 3",
   "language": "python",
   "name": "python3"
  },
  "language_info": {
   "codemirror_mode": {
    "name": "ipython",
    "version": 3
   },
   "file_extension": ".py",
   "mimetype": "text/x-python",
   "name": "python",
   "nbconvert_exporter": "python",
   "pygments_lexer": "ipython3",
   "version": "3.6.3"
  }
 },
 "nbformat": 4,
 "nbformat_minor": 2
}
